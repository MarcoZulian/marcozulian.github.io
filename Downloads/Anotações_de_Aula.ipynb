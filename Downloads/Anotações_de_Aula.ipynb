{
 "cells": [
  {
   "cell_type": "code",
   "execution_count": 1,
   "metadata": {},
   "outputs": [],
   "source": [
    "import math\n",
    "import matplotlib.pyplot as plt"
   ]
  },
  {
   "cell_type": "markdown",
   "metadata": {},
   "source": [
    "# Modelagem de Fenômenos Físicos"
   ]
  },
  {
   "cell_type": "markdown",
   "metadata": {},
   "source": [
    "## Aula 20/02/2020"
   ]
  },
  {
   "cell_type": "markdown",
   "metadata": {},
   "source": [
    "<h3>Tópicos da aula:</h3>\n",
    "<ul>\n",
    "    <li>Discussão sobre computação</li>\n",
    "    <li>Apresentação da disciplina e seus objetivos:<ul>\n",
    "        <li>Forma de avaliação</li>\n",
    "        <li>Ferramentas utilizadas</li></ul></li>\n",
    "    <li>Funcionalidades básicas do Jupyter Lab</li>"
   ]
  },
  {
   "cell_type": "markdown",
   "metadata": {},
   "source": [
    "#### **Exemplo**: Formatação de textos no Jupyter"
   ]
  },
  {
   "cell_type": "markdown",
   "metadata": {},
   "source": [
    "Anotações das aulas de **Modelagem de Fenômenos Físicos** para exibir *textos formatados*, programas em ***Python*** e gráficos. \n",
    "\n",
    "Formataremos também textos matemáticos: $2 + 3$.\n",
    "\n",
    "Formataremos também o *Teorema de Pitágoras* que é: $$a^2 = b^2 + c^2$$"
   ]
  },
  {
   "cell_type": "markdown",
   "metadata": {},
   "source": [
    "Donald Knuth --> criador do TeX. Leslei Lamport criou uma série de macros facilitadoras para \"envelopar\" o TeX, originando o LaTeX. A ambientação do LaTeX em ambiente Web é chamado de Markdown, e é essa linguagem que os notebooks Jupyter utilizam. "
   ]
  },
  {
   "cell_type": "code",
   "execution_count": 6,
   "metadata": {},
   "outputs": [
    {
     "data": {
      "text/plain": [
       "4"
      ]
     },
     "execution_count": 6,
     "metadata": {},
     "output_type": "execute_result"
    }
   ],
   "source": [
    "2+2"
   ]
  },
  {
   "cell_type": "markdown",
   "metadata": {},
   "source": [
    "<hr><h2> Aula 27/02/2020</h2>"
   ]
  },
  {
   "cell_type": "markdown",
   "metadata": {},
   "source": [
    "<h3>Tópicos da aula:</h3>\n",
    "<ul>\n",
    "    <li>Funções</li>\n",
    "    <li>Listas</li> \n",
    "    <li>Operadores de decisões.</li>\n",
    "</ul>"
   ]
  },
  {
   "cell_type": "markdown",
   "metadata": {},
   "source": [
    "#### **Exemplo**: Função para elevar número ao cubo:"
   ]
  },
  {
   "cell_type": "code",
   "execution_count": 7,
   "metadata": {},
   "outputs": [],
   "source": [
    "def cubo(x):\n",
    "    return x**3"
   ]
  },
  {
   "cell_type": "code",
   "execution_count": 8,
   "metadata": {},
   "outputs": [
    {
     "data": {
      "text/plain": [
       "27"
      ]
     },
     "execution_count": 8,
     "metadata": {},
     "output_type": "execute_result"
    }
   ],
   "source": [
    "cubo(3)"
   ]
  },
  {
   "cell_type": "markdown",
   "metadata": {},
   "source": [
    "#### **Exercício**: Escrever uma função que calcule o valor do polinômio $$p(x) = x^3 - 2*x^2 + 4$$"
   ]
  },
  {
   "cell_type": "code",
   "execution_count": 9,
   "metadata": {},
   "outputs": [],
   "source": [
    "def polinomio(x):\n",
    "    return x**3 - 2*x**2 + 4"
   ]
  },
  {
   "cell_type": "code",
   "execution_count": 10,
   "metadata": {},
   "outputs": [
    {
     "data": {
      "text/plain": [
       "79"
      ]
     },
     "execution_count": 10,
     "metadata": {},
     "output_type": "execute_result"
    }
   ],
   "source": [
    "polinomio(5)"
   ]
  },
  {
   "cell_type": "markdown",
   "metadata": {},
   "source": [
    "**Nota**: Nesse exemplo, não são necessários parênteses nos operadores, por causa da ordem de precedência das operações (potência antes da multiplicação antes da soma. Existem casos em que os parênteses são necessários, por exemplo na expressão: $$\\frac{1}{x^2-1}$$Que em Python deveria ser escrito como 1/(x\\*\\*2-1)."
   ]
  },
  {
   "cell_type": "markdown",
   "metadata": {},
   "source": [
    "#### **Exemplo 2**: Uso de estruturas de controle 'if', 'elif' e 'else'."
   ]
  },
  {
   "cell_type": "code",
   "execution_count": 11,
   "metadata": {},
   "outputs": [],
   "source": [
    "def voz(animal):\n",
    "    if animal == 'cão':\n",
    "        return 'au au'\n",
    "    else:\n",
    "        return 'animal desconhecido'"
   ]
  },
  {
   "cell_type": "code",
   "execution_count": 12,
   "metadata": {},
   "outputs": [
    {
     "data": {
      "text/plain": [
       "'au au'"
      ]
     },
     "execution_count": 12,
     "metadata": {},
     "output_type": "execute_result"
    }
   ],
   "source": [
    "voz('cão')"
   ]
  },
  {
   "cell_type": "code",
   "execution_count": 13,
   "metadata": {},
   "outputs": [
    {
     "data": {
      "text/plain": [
       "'animal desconhecido'"
      ]
     },
     "execution_count": 13,
     "metadata": {},
     "output_type": "execute_result"
    }
   ],
   "source": [
    "voz('gato')"
   ]
  },
  {
   "cell_type": "markdown",
   "metadata": {},
   "source": [
    "<hr><p><strong>Nota</strong>: No primeiro caso, em que o <bold>input</bold> era 'cão', o teste lógico <strong>animal == 'cão'</strong> retorna um valor verdadeiro, logo o programa entra no 'if' e retorna 'au au'.<br>Já no segundo caso, com o <bold>input</bold> gato, o teste retorna falso, então o programa entra no bloco 'else', retornando 'animal desconhecido'.</p><hr> "
   ]
  },
  {
   "cell_type": "code",
   "execution_count": 14,
   "metadata": {},
   "outputs": [],
   "source": [
    "def voz2(animal):\n",
    "    if animal == 'cão':\n",
    "        return 'au au'\n",
    "    elif animal == 'gato':\n",
    "        return 'miau'\n",
    "    else:\n",
    "        return 'animal desconhecido'"
   ]
  },
  {
   "cell_type": "code",
   "execution_count": 15,
   "metadata": {},
   "outputs": [
    {
     "data": {
      "text/plain": [
       "'au au'"
      ]
     },
     "execution_count": 15,
     "metadata": {},
     "output_type": "execute_result"
    }
   ],
   "source": [
    "voz2(\"cão\")"
   ]
  },
  {
   "cell_type": "code",
   "execution_count": 16,
   "metadata": {},
   "outputs": [
    {
     "data": {
      "text/plain": [
       "'miau'"
      ]
     },
     "execution_count": 16,
     "metadata": {},
     "output_type": "execute_result"
    }
   ],
   "source": [
    "voz2(\"gato\")"
   ]
  },
  {
   "cell_type": "code",
   "execution_count": 17,
   "metadata": {},
   "outputs": [
    {
     "data": {
      "text/plain": [
       "'animal desconhecido'"
      ]
     },
     "execution_count": 17,
     "metadata": {},
     "output_type": "execute_result"
    }
   ],
   "source": [
    "voz2(\"leão\")"
   ]
  },
  {
   "cell_type": "markdown",
   "metadata": {},
   "source": [
    "<hr><strong>Nota</strong>: Agora, um segundo teste lógico foi adicionado, logo, quando com o <i>input</i> 'gato' o teste lógico <strong>animal == 'cão'</strong> retorna falso, o programa segue para o segundo teste, <strong>animal == 'gato'</strong>, que retorna verdadeiro, fazendo com que o programa retorne 'miau'. Podem ser inseridos tantos testes lógicos quanto forem necessários.<hr>"
   ]
  },
  {
   "cell_type": "code",
   "execution_count": 18,
   "metadata": {},
   "outputs": [],
   "source": [
    "def voz3(animal):\n",
    "    if animal == 'cão':\n",
    "        return 'au au'\n",
    "    elif animal == 'gato':\n",
    "        return 'miau'\n",
    "    elif animal == 'leão':\n",
    "        return 'roar'\n",
    "    elif animal == 'vaca':\n",
    "        return 'muuu'\n",
    "    else:\n",
    "        return 'animal desconhecido'"
   ]
  },
  {
   "cell_type": "code",
   "execution_count": 19,
   "metadata": {},
   "outputs": [
    {
     "data": {
      "text/plain": [
       "'roar'"
      ]
     },
     "execution_count": 19,
     "metadata": {},
     "output_type": "execute_result"
    }
   ],
   "source": [
    "voz3('leão')"
   ]
  },
  {
   "cell_type": "code",
   "execution_count": 20,
   "metadata": {},
   "outputs": [
    {
     "data": {
      "text/plain": [
       "'muuu'"
      ]
     },
     "execution_count": 20,
     "metadata": {},
     "output_type": "execute_result"
    }
   ],
   "source": [
    "voz3('vaca')"
   ]
  },
  {
   "cell_type": "markdown",
   "metadata": {},
   "source": [
    "#### **Exercício 2**: A função $$\\frac{1}{x^2-1}$$ não permite que x tenha valores iguais a 1 ou -1. Codificar o polinômio impedindo que esses valores sejam utilizados."
   ]
  },
  {
   "cell_type": "code",
   "execution_count": 21,
   "metadata": {},
   "outputs": [],
   "source": [
    "# Solução utilizando as estruturas com 'if' e 'else' em múltiplas linhas. Notar que o 'else' é desnecessário, nesse caso.\n",
    "def polinomio2(x):\n",
    "    if x == 1 or x == -1:\n",
    "        return 'Indefinido'\n",
    "    else:\n",
    "        return 1/(x**2-1)"
   ]
  },
  {
   "cell_type": "code",
   "execution_count": 22,
   "metadata": {},
   "outputs": [
    {
     "data": {
      "text/plain": [
       "'Indefinido'"
      ]
     },
     "execution_count": 22,
     "metadata": {},
     "output_type": "execute_result"
    }
   ],
   "source": [
    "polinomio2(1)"
   ]
  },
  {
   "cell_type": "code",
   "execution_count": 23,
   "metadata": {},
   "outputs": [
    {
     "data": {
      "text/plain": [
       "'Indefinido'"
      ]
     },
     "execution_count": 23,
     "metadata": {},
     "output_type": "execute_result"
    }
   ],
   "source": [
    "polinomio2(-1)"
   ]
  },
  {
   "cell_type": "code",
   "execution_count": 24,
   "metadata": {},
   "outputs": [
    {
     "data": {
      "text/plain": [
       "0.125"
      ]
     },
     "execution_count": 24,
     "metadata": {},
     "output_type": "execute_result"
    }
   ],
   "source": [
    "polinomio2(3)"
   ]
  },
  {
   "cell_type": "code",
   "execution_count": 25,
   "metadata": {},
   "outputs": [],
   "source": [
    "# Solução sem o else desnecessário da solução anterior\n",
    "def polinomio3(x):\n",
    "    if x == 1 or x == -1:\n",
    "        return 'Indefinido'\n",
    "    return 1/(x**2-1)"
   ]
  },
  {
   "cell_type": "code",
   "execution_count": 26,
   "metadata": {},
   "outputs": [
    {
     "data": {
      "text/plain": [
       "'Indefinido'"
      ]
     },
     "execution_count": 26,
     "metadata": {},
     "output_type": "execute_result"
    }
   ],
   "source": [
    "polinomio3(1)"
   ]
  },
  {
   "cell_type": "code",
   "execution_count": 27,
   "metadata": {},
   "outputs": [
    {
     "data": {
      "text/plain": [
       "'Indefinido'"
      ]
     },
     "execution_count": 27,
     "metadata": {},
     "output_type": "execute_result"
    }
   ],
   "source": [
    "polinomio3(-1)"
   ]
  },
  {
   "cell_type": "code",
   "execution_count": 28,
   "metadata": {},
   "outputs": [
    {
     "data": {
      "text/plain": [
       "0.041666666666666664"
      ]
     },
     "execution_count": 28,
     "metadata": {},
     "output_type": "execute_result"
    }
   ],
   "source": [
    "polinomio3(5)"
   ]
  },
  {
   "cell_type": "code",
   "execution_count": 29,
   "metadata": {},
   "outputs": [],
   "source": [
    "# Solução em uma linha, também utilizando 'if' e 'else', porém com lista na verificação dos elementos inválidos.\n",
    "def polinomio4(x):\n",
    "    return 'Indefinido' if x in [1,-1] else 1/(x**2-1)"
   ]
  },
  {
   "cell_type": "code",
   "execution_count": 30,
   "metadata": {},
   "outputs": [
    {
     "data": {
      "text/plain": [
       "'Indefinido'"
      ]
     },
     "execution_count": 30,
     "metadata": {},
     "output_type": "execute_result"
    }
   ],
   "source": [
    "polinomio4(1)"
   ]
  },
  {
   "cell_type": "code",
   "execution_count": 31,
   "metadata": {},
   "outputs": [
    {
     "data": {
      "text/plain": [
       "'Indefinido'"
      ]
     },
     "execution_count": 31,
     "metadata": {},
     "output_type": "execute_result"
    }
   ],
   "source": [
    "polinomio4(-1)"
   ]
  },
  {
   "cell_type": "code",
   "execution_count": 32,
   "metadata": {},
   "outputs": [
    {
     "data": {
      "text/plain": [
       "0.010101010101010102"
      ]
     },
     "execution_count": 32,
     "metadata": {},
     "output_type": "execute_result"
    }
   ],
   "source": [
    "polinomio4(10)"
   ]
  },
  {
   "cell_type": "markdown",
   "metadata": {},
   "source": [
    "<hr><p><strong>Nota</strong>: O que há de comum em os dois casos é que a lógica deve ser executada <strong>APÓS</strong> todos os testes necessários terem sido executados. Ou seja, a validação dos parâmetros deve ser executada anteriormente, de forma que quando o bloco da lógica for acessado, os casos indesejados já foram tratados ou afastados.</p>"
   ]
  },
  {
   "cell_type": "markdown",
   "metadata": {},
   "source": [
    "<pre>def g(x):<br>    teste1<br>    ...<br>    testeN<br>    <strong>Lógica</strong></pre>"
   ]
  },
  {
   "cell_type": "markdown",
   "metadata": {},
   "source": [
    "Os testes de verificação de parâmetros devem ser feitos testando se os *inputs* **NÃO** são o que você quer, ao invés de testar se são.<hr>"
   ]
  },
  {
   "cell_type": "markdown",
   "metadata": {},
   "source": [
    "#### **Exercício 3**: Codificar a função $\\sqrt{x}$. Nesse caso, não existe raíz quadrada para números negativos, logo esse deve ser o teste lógico que precisa ser executado antes da função."
   ]
  },
  {
   "cell_type": "code",
   "execution_count": 33,
   "metadata": {},
   "outputs": [],
   "source": [
    "def raiz(x):\n",
    "    if x < 0:\n",
    "        return 'Inválido'\n",
    "    return x**(0.5)"
   ]
  },
  {
   "cell_type": "code",
   "execution_count": 34,
   "metadata": {},
   "outputs": [
    {
     "data": {
      "text/plain": [
       "0.0"
      ]
     },
     "execution_count": 34,
     "metadata": {},
     "output_type": "execute_result"
    }
   ],
   "source": [
    "raiz(0)"
   ]
  },
  {
   "cell_type": "markdown",
   "metadata": {},
   "source": [
    "#### **Exercício para casa**: Codificar a função $\\sqrt{\\frac{1}{x^2-1}}$"
   ]
  },
  {
   "cell_type": "markdown",
   "metadata": {},
   "source": [
    "<p><strong>Raciocínio p/ resolução</strong>: Para que o valor de x seja válido, duas condições precisam ser atendidas:</p>\n",
    "        <ol>\n",
    "            <li>O valor da expressão <var>x<sup>2</sup>-1</var> deve ser diferente de 0.</li>\n",
    "            <li>O valor da expressão <var>1/(x<sup>2</sup>-1)</var> deve ser maior ou igual a 0.</li>\n",
    "        </ol>\n",
    "<p>Para que a <i>primeira condição</i> seja atendida, o valor em x deve ser diferente de 1 ou -1. Já <i>para a segunda</i>, x deve ser menor que -1 ou maior que 1.<br>Juntando essas duas restrições, temos que <strong>x não pode estar compreendido entre -1 e 1.</strong></p>"
   ]
  },
  {
   "cell_type": "code",
   "execution_count": 35,
   "metadata": {},
   "outputs": [],
   "source": [
    "def raiz2(x):\n",
    "    if x >= -1 and x <= 1:\n",
    "        return 'Inválido'\n",
    "    return (1/(x**2-1))**0.5"
   ]
  },
  {
   "cell_type": "code",
   "execution_count": 36,
   "metadata": {},
   "outputs": [
    {
     "data": {
      "text/plain": [
       "'Inválido'"
      ]
     },
     "execution_count": 36,
     "metadata": {},
     "output_type": "execute_result"
    }
   ],
   "source": [
    "raiz2(0)"
   ]
  },
  {
   "cell_type": "code",
   "execution_count": 37,
   "metadata": {},
   "outputs": [
    {
     "data": {
      "text/plain": [
       "0.5773502691896257"
      ]
     },
     "execution_count": 37,
     "metadata": {},
     "output_type": "execute_result"
    }
   ],
   "source": [
    "raiz2(2)"
   ]
  },
  {
   "cell_type": "code",
   "execution_count": 38,
   "metadata": {},
   "outputs": [
    {
     "data": {
      "text/plain": [
       "'Inválido'"
      ]
     },
     "execution_count": 38,
     "metadata": {},
     "output_type": "execute_result"
    }
   ],
   "source": [
    "raiz2(-1)"
   ]
  },
  {
   "cell_type": "markdown",
   "metadata": {},
   "source": [
    "<hr>"
   ]
  },
  {
   "cell_type": "markdown",
   "metadata": {},
   "source": [
    "# Listas em Python"
   ]
  },
  {
   "cell_type": "markdown",
   "metadata": {},
   "source": [
    "<ul>\n",
    "    <li>Em Python, as listas são definidas entre colchetes []. A indexação dos elementos que formam essas listas iniciam pelo valor 0, ou seja, o primeiro elemento está no índice 0, e não no 1.</li>\n",
    "    <li>Dentro da lista, podem existir variáveis de tipos heterogêneos, ou seja, dentro da mesma lista podem existir ints, strs, floats, .... Isso é possível porque Python <strong>não é uma linguagem tipada.</strong></li>\n",
    "</ul>"
   ]
  },
  {
   "cell_type": "code",
   "execution_count": 39,
   "metadata": {},
   "outputs": [],
   "source": [
    "# Declaração de lista entre colchetes\n",
    "lista = [1,3,8,22,15]"
   ]
  },
  {
   "cell_type": "code",
   "execution_count": 40,
   "metadata": {},
   "outputs": [
    {
     "name": "stdout",
     "output_type": "stream",
     "text": [
      "O valor no índice 0 da lista é: 1\n",
      "O valor no índice 1 da lista é: 3\n",
      "O valor no índice 2 da lista é: 8\n",
      "O valor no índice 3 da lista é: 22\n",
      "O valor no índice 4 da lista é: 15\n"
     ]
    }
   ],
   "source": [
    "# Indexação iniciando por 0\n",
    "# Esse também é um exemplo de como percorrer uma lista com 'for'\n",
    "for indice, valor in enumerate(lista):\n",
    "    print(f\"O valor no índice {indice} da lista é: {valor}\")"
   ]
  },
  {
   "cell_type": "code",
   "execution_count": 41,
   "metadata": {},
   "outputs": [],
   "source": [
    "# Lista com valores heterogêneos\n",
    "listaHeterogenea = ['a', 8, 'Maria', 9.67, True]"
   ]
  },
  {
   "cell_type": "code",
   "execution_count": 42,
   "metadata": {},
   "outputs": [
    {
     "name": "stdout",
     "output_type": "stream",
     "text": [
      "Inteiro: 8\n",
      "String: Maria\n"
     ]
    }
   ],
   "source": [
    "print(f\"Inteiro: {listaHeterogenea[1]}\\nString: {listaHeterogenea[2]}\")"
   ]
  },
  {
   "cell_type": "markdown",
   "metadata": {},
   "source": [
    "<ul>\n",
    "    <li>Para selecionar mais de um elemento de uma única vez, é necessário empregar uma técnica denominada <i>slicing</i>, em que são informados dois índices da lista, que formaram um intervalo, aberto no valor do primeiro índice e fechado no segundo.</li>\n",
    "</ul>"
   ]
  },
  {
   "cell_type": "code",
   "execution_count": 43,
   "metadata": {},
   "outputs": [
    {
     "name": "stdout",
     "output_type": "stream",
     "text": [
      "[3, 8, 22]\n"
     ]
    }
   ],
   "source": [
    "# Exemplo de slicing: a expressão lista[1:4] retornará os valores dos índices 1, 2 e 3 da lista, sem incluir a variável no índice 4, já que o\n",
    "# intervalo é fechado no sengundo valor informado e aberto no primeiro.\n",
    "print(lista[1:4])"
   ]
  },
  {
   "cell_type": "markdown",
   "metadata": {},
   "source": [
    "<ul>\n",
    "    <li>Ainda é possível adicionar um passo ao <i>slicing</i>, com um terceiro valor. Por exemplo, se quisermos selecionar os índices 0, 2 e 4 da lista, podemos escrever <strong>lista[0:5:2]</strong> ou, simplificadamente, <strong>lista[::2].</strong></li>\n",
    "</ul>"
   ]
  },
  {
   "cell_type": "code",
   "execution_count": 44,
   "metadata": {},
   "outputs": [
    {
     "name": "stdout",
     "output_type": "stream",
     "text": [
      "[1, 8, 15]\n"
     ]
    }
   ],
   "source": [
    "# Exemplo de slicing com passo em listas\n",
    "print(lista[::2])"
   ]
  },
  {
   "cell_type": "markdown",
   "metadata": {},
   "source": [
    "<ul>\n",
    "    <li>Outra característica importante das listas é o polimorfismo da operação de soma, ou seja, para listas essa operação não ocorre da mesma forma que com inteiros. Ao invés de somar os valores dentro das listas, o <strong>operador '+' concatena as duas listas</strong>, ou seja, coloca uma no final da outra.</li>\n",
    "</ul>"
   ]
  },
  {
   "cell_type": "code",
   "execution_count": 45,
   "metadata": {},
   "outputs": [
    {
     "name": "stdout",
     "output_type": "stream",
     "text": [
      "[1, 3, 8, 22, 15, 'a', 8, 'Maria', 9.67, True]\n"
     ]
    }
   ],
   "source": [
    "# Exemplo de concatenação de listas\n",
    "listaConcatenada = lista + listaHeterogenea\n",
    "print(listaConcatenada)"
   ]
  },
  {
   "cell_type": "markdown",
   "metadata": {},
   "source": [
    "<ul>\n",
    "    <li>Agora será apresentada uma forma de percorrer os valores em uma lista e ir somando os seus valores conforme essa passada ocorre.<br>Serão somados os valores da lista 'lista', ou seja, será feita a seguinte operação: 1 + 3 + 8 + 22 + 15 = 49.</li>\n",
    "</ul>"
   ]
  },
  {
   "cell_type": "code",
   "execution_count": 46,
   "metadata": {},
   "outputs": [],
   "source": [
    "def somaLista(l):\n",
    "    # É iniciada uma variável 'soma', que acumulará os valores\n",
    "    soma = 0\n",
    "    # A lista é percorrida com uso de um loop 'for'\n",
    "    for i in l:\n",
    "        # Para cada valor dentro da lista, a variável soma é acrescida do valor.\n",
    "        soma = soma + i\n",
    "    return soma"
   ]
  },
  {
   "cell_type": "code",
   "execution_count": 47,
   "metadata": {},
   "outputs": [
    {
     "name": "stdout",
     "output_type": "stream",
     "text": [
      "49\n"
     ]
    }
   ],
   "source": [
    "# Ao final, o resultado é exibido\n",
    "print(somaLista(lista))"
   ]
  },
  {
   "cell_type": "code",
   "execution_count": 48,
   "metadata": {},
   "outputs": [],
   "source": [
    "def somaLista2(l):\n",
    "    soma = 0\n",
    "    for i in l:\n",
    "        # Alternativamente, pode-se utilizar o operado '+=', que é equivalente ao caso anterior, mas mais suscinta.\n",
    "        soma += i\n",
    "    return soma"
   ]
  },
  {
   "cell_type": "code",
   "execution_count": 49,
   "metadata": {},
   "outputs": [
    {
     "name": "stdout",
     "output_type": "stream",
     "text": [
      "49\n"
     ]
    }
   ],
   "source": [
    "print(somaLista2(lista))"
   ]
  },
  {
   "cell_type": "code",
   "execution_count": 50,
   "metadata": {},
   "outputs": [
    {
     "name": "stdout",
     "output_type": "stream",
     "text": [
      "49\n"
     ]
    }
   ],
   "source": [
    "# Por fim, podemos utilizar uma built-in function, ou seja, uma função que já vem internamente com Python.\n",
    "print(sum(lista))"
   ]
  },
  {
   "cell_type": "markdown",
   "metadata": {},
   "source": [
    "#### **Exercício**: Realizar a mesma operação, porém dessa vez multiplicando os valores"
   ]
  },
  {
   "cell_type": "code",
   "execution_count": 51,
   "metadata": {},
   "outputs": [],
   "source": [
    "def multiplicaLista(l):\n",
    "    # Por se tratar de uma multiplicação, agora o valor inicial do acumulador deve ser 1, e não 0.\n",
    "    acumulador = 1\n",
    "    for i in l:\n",
    "        # Agora, ao invés de somarmos os valores, nós os multiplicamos.\n",
    "        acumulador *= i\n",
    "    return acumulador"
   ]
  },
  {
   "cell_type": "code",
   "execution_count": 52,
   "metadata": {},
   "outputs": [
    {
     "name": "stdout",
     "output_type": "stream",
     "text": [
      "7920\n",
      "900\n"
     ]
    }
   ],
   "source": [
    "print(multiplicaLista(lista))\n",
    "print(multiplicaLista([6,3,10,1,5]))"
   ]
  },
  {
   "cell_type": "markdown",
   "metadata": {},
   "source": [
    "#### **Exercício 2**: Tendo uma lista de listas: $$[[7,5,3],[1,2,4],[0,3,9]]$$Concatenar as listas."
   ]
  },
  {
   "cell_type": "code",
   "execution_count": 53,
   "metadata": {},
   "outputs": [
    {
     "name": "stdout",
     "output_type": "stream",
     "text": [
      "[7, 5, 3, 1, 2, 4, 0, 3, 9]\n"
     ]
    }
   ],
   "source": [
    "listaOriginal = [[7,5,3],[1,2,4],[0,3,9]]\n",
    "# Lista vazia, que se tornará a lista concatenada\n",
    "listaConcatenada = []\n",
    "\n",
    "# Iteração sobre os elementos da lista\n",
    "for lista in listaOriginal:\n",
    "    # Para cada lista dentro da lista de listas, é utilizado o operador '+' para concatenar a lista com a listaConcatenada.\n",
    "    listaConcatenada = listaConcatenada + lista\n",
    "\n",
    "# Ao fim, todas as listas estão concatenadas e o resultado é exibido.\n",
    "print(listaConcatenada)"
   ]
  },
  {
   "cell_type": "markdown",
   "metadata": {},
   "source": [
    "<p><strong>Nota</strong>: Esse exemplo mostra que a iteração pode ser feita sobre elementos mais complexos do que inteiros.</p>"
   ]
  },
  {
   "cell_type": "markdown",
   "metadata": {},
   "source": [
    "#### **Exercício para casa**: Construir uma função que você entra com \"n\" e a função retorna a seguinte soma (série harmônica):"
   ]
  },
  {
   "cell_type": "markdown",
   "metadata": {},
   "source": [
    "$$1 + \\frac{1}{2} + ... + \\frac{1}{n}$$"
   ]
  },
  {
   "cell_type": "code",
   "execution_count": 2,
   "metadata": {},
   "outputs": [],
   "source": [
    "def serieHarmonica(n):\n",
    "    # Validação dos dados de entrada\n",
    "    if n < 1:\n",
    "        return 'inválido; n deve ser maior ou igual a 1.'\n",
    "    \n",
    "    # Variável acumuladora\n",
    "    soma = 1\n",
    "    \n",
    "    # Soma das parcelas 1/2 ... 1/n\n",
    "    for i in range(2,n+1):\n",
    "        soma += 1 / i\n",
    "    \n",
    "    # Retorno do resultado\n",
    "    return soma"
   ]
  },
  {
   "cell_type": "code",
   "execution_count": 3,
   "metadata": {},
   "outputs": [
    {
     "name": "stdout",
     "output_type": "stream",
     "text": [
      "5.187377517639621\n",
      "O valor da função com n = 0 é inválido; n deve ser maior ou igual a 1.\n",
      "O valor da função com n = 2000 é 8.178368103610284\n",
      "O valor da função com n = 4000 é 8.871390299795198\n",
      "O valor da função com n = 6000 é 9.276813744130223\n",
      "O valor da função com n = 8000 é 9.564474984261391\n",
      "O valor da função com n = 10000 é 9.787606036044348\n",
      "O valor da função com n = 12000 é 9.969919259759596\n",
      "O valor da função com n = 14000 é 10.124063987359449\n",
      "O valor da função com n = 16000 é 10.257590915797937\n",
      "O valor da função com n = 18000 é 10.375370479300402\n"
     ]
    }
   ],
   "source": [
    "# Testes\n",
    "print(serieHarmonica(100))\n",
    "for valor in range(0,20000,2000):\n",
    "    print(f\"O valor da função com n = {valor} é {serieHarmonica(valor)}\")\n",
    "    "
   ]
  },
  {
   "cell_type": "markdown",
   "metadata": {},
   "source": [
    "<hr>"
   ]
  },
  {
   "cell_type": "markdown",
   "metadata": {},
   "source": [
    "<h2>Aula 28/02/2020</h2>\n",
    "<h3>Tópicos da aula</h3>\n",
    "<ul>\n",
    "    <li>Aprofundamento funções</li>\n",
    "</ul>\n",
    "<p><strong>Nota:</strong> Uma função não necessariamente precisa ter uma expressão matemática associada a ela. Uma função é uma regra, um processo que leva um valor até outro.<br>Uma característica das funções é que para um determinado valor, o resultado de uma função é <strong>sempre o mesmo (único)</strong>.</p>\n",
    "<p>O conjunto de valores que podem ser utilizados como entrada para as funções é chamado de <strong>domínio</strong> da função. Por exemplo, na expressão:</p>\n"
   ]
  },
  {
   "cell_type": "markdown",
   "metadata": {},
   "source": [
    "$$f(x) = \\frac{1}{x^2-1}$$"
   ]
  },
  {
   "cell_type": "markdown",
   "metadata": {},
   "source": [
    "O domínio é o conjunto dos reais com excessão dos valores 1 e -1, que fazem com que o denominador seja 0 e torne a divisão indefinida. Escreve-se:"
   ]
  },
  {
   "cell_type": "markdown",
   "metadata": {},
   "source": [
    "$$Domínio = \\{x\\in\\mathbb{R}\\ |\\ x\\ne 1 \\wedge x \\ne-1\\}$$"
   ]
  },
  {
   "cell_type": "markdown",
   "metadata": {},
   "source": [
    "Uma vez que passamos um valor na função, obtemos um resultado único, como mencionado anteriormente. O conjunto de todos os resultados que podem ser obtidos ao passar valores pela função é denominado **imagem.** Por exemplo, na função"
   ]
  },
  {
   "cell_type": "markdown",
   "metadata": {},
   "source": [
    "$$f(x) = x^2$$"
   ]
  },
  {
   "cell_type": "markdown",
   "metadata": {},
   "source": [
    "<p>Para qualquer valor real inserido na função, o resultado é um número real positivo ou zero, logo, a imagem da função é o conjunto dos números reais não-negativos.</p>\n",
    "<p>Para que uma fórmula seja considerada função, é necessário que, além do resultado único, mais duas condições sejam atendidas, são elas:\n",
    "<ol>\n",
    "    <li>No domínio não pode haver exceções.</li>\n",
    "    <li>Na imagem, não pode haver ambiguidade.</li>\n",
    "</ol>\n",
    "Ou seja, <strong>todos os elementos</strong> no domínio devem ter <strong>apenas um</strong> correspondente na imagem da função.</p>\n",
    "<p><strong>Dica: Antes </strong>de codificar uma função, buscar conhecer a <strong>assinatura</strong> da função, ou seja, qual é o domínio e qual é a imagem. Por exemplo, para as funções dobro e x<sup>2</sup>, temos as seguintes assinaturas:"
   ]
  },
  {
   "cell_type": "markdown",
   "metadata": {},
   "source": [
    "$$f:\\mathbb{R} \\rightarrow \\mathbb{R}$$\n",
    "$$f:\\mathbb{R} \\rightarrow \\mathbb{R}^{\\geqslant0}$$"
   ]
  },
  {
   "cell_type": "markdown",
   "metadata": {},
   "source": [
    "Outro exemplo é a expressão $\\sqrt{x}$, que por si só não é uma função já que, por exemplo, a entrada 16 tem como saída 4 ou -4, logo, há uma ambiguidade na imagem, já que um único valor possui duas correspondências na imagem. Para resolver esse problema, podemos separar a expressão em duas funções, uma retornando valores não negativos e outra, não positivos, ou, como uma segunda solução, podemos pensar que a função **retorna um par, e não apenas um valor**. Nesse segundo caso, a assinatura da função seria:"
   ]
  },
  {
   "cell_type": "markdown",
   "metadata": {},
   "source": [
    "$$f:\\mathbb{R}^{\\geqslant0} \\rightarrow \\mathbb{R}^{\\leqslant0} X \\mathbb{R}^{\\geqslant0}$$"
   ]
  },
  {
   "cell_type": "markdown",
   "metadata": {},
   "source": [
    "Ou, nesse segundo caso, representando o **contra-domínio** ao invés da imagem:"
   ]
  },
  {
   "cell_type": "markdown",
   "metadata": {},
   "source": [
    "$$f:\\mathbb{R}^{\\geqslant0} \\rightarrow \\mathbb{R} X \\mathbb{R}$$"
   ]
  },
  {
   "cell_type": "markdown",
   "metadata": {},
   "source": [
    "<hr>"
   ]
  },
  {
   "cell_type": "markdown",
   "metadata": {},
   "source": [
    "<h2>Aula 05/03/2020</h2>"
   ]
  },
  {
   "cell_type": "markdown",
   "metadata": {},
   "source": [
    "<h3>Tópicos da aula</h3>\n",
    "<ul>\n",
    "    <li>Exercícios sobre funções e domínio.</li>\n",
    "    <li>Definição de <i>set builder</i></li>\n",
    "</ul>"
   ]
  },
  {
   "cell_type": "markdown",
   "metadata": {},
   "source": [
    "<h4><strong>Exercício 1:</strong></h4> Escreva uma função em Python que calcule a área de um quadrado"
   ]
  },
  {
   "cell_type": "code",
   "execution_count": 56,
   "metadata": {},
   "outputs": [],
   "source": [
    "def areaQuadrado(lado):\n",
    "    return lado**2"
   ]
  },
  {
   "cell_type": "markdown",
   "metadata": {},
   "source": [
    "<h4><strong>Exercício 2:</strong></h4> Escreva uma função em Python que calcule o perímetro de um retângulo"
   ]
  },
  {
   "cell_type": "code",
   "execution_count": 57,
   "metadata": {},
   "outputs": [],
   "source": [
    "def perimetroRetangulo(lado, altura):\n",
    "    return 2 * (lado + altura)"
   ]
  },
  {
   "cell_type": "markdown",
   "metadata": {},
   "source": [
    "<h4><strong>Exercício 3:</strong></h4> Escreva uma função em Python que calcule o polinômio 2x<sup>3</sup> - 5x<sup>2</sup> + 1"
   ]
  },
  {
   "cell_type": "code",
   "execution_count": 58,
   "metadata": {},
   "outputs": [],
   "source": [
    "def polinomio(x):\n",
    "    return 2*x**3 - 5*x**2 + 1"
   ]
  },
  {
   "cell_type": "code",
   "execution_count": 59,
   "metadata": {},
   "outputs": [
    {
     "data": {
      "text/plain": [
       "-2"
      ]
     },
     "execution_count": 59,
     "metadata": {},
     "output_type": "execute_result"
    }
   ],
   "source": [
    "polinomio(1)"
   ]
  },
  {
   "cell_type": "markdown",
   "metadata": {},
   "source": [
    "<h4><strong>Exercício 4:</strong></h4> Escreva uma função em Python que calcule o valor de qualquer polinômio de terceiro grau, dados os coeficientes da variável independente x."
   ]
  },
  {
   "cell_type": "code",
   "execution_count": 60,
   "metadata": {},
   "outputs": [],
   "source": [
    "def polinomioGenerico(a, b, c, d, x):\n",
    "    return a*x**3 + b*x**2 + c*x + d"
   ]
  },
  {
   "cell_type": "code",
   "execution_count": 61,
   "metadata": {},
   "outputs": [
    {
     "data": {
      "text/plain": [
       "-2"
      ]
     },
     "execution_count": 61,
     "metadata": {},
     "output_type": "execute_result"
    }
   ],
   "source": [
    "polinomioGenerico(2,-5,0,1,1)"
   ]
  },
  {
   "cell_type": "markdown",
   "metadata": {},
   "source": [
    "<h4><strong>Exercício 5:</strong></h4> Escreva uma função em Python que calcule a área de um círculo, e outra que calcule o perímetro"
   ]
  },
  {
   "cell_type": "code",
   "execution_count": 62,
   "metadata": {},
   "outputs": [],
   "source": [
    "# Importando a biblioteca math no Python\n",
    "import math\n",
    "\n",
    "def areaCirculo(raio):\n",
    "    # Ao invés de utilizar um valor \"digitado\" para o pi, utilizamos o valor que vem da biblioteca, e é um valor bem mais preciso\n",
    "    return math.pi*raio**2\n",
    "\n",
    "def perimetroCirculo(raio):\n",
    "    return 2*math.pi*raio"
   ]
  },
  {
   "cell_type": "markdown",
   "metadata": {},
   "source": [
    "<h4><strong>Exercício 6:</strong></h4> Escreva uma função em Python que calcule a área de um triângulo"
   ]
  },
  {
   "cell_type": "code",
   "execution_count": 63,
   "metadata": {},
   "outputs": [],
   "source": [
    "def areaTriangulo(base, altura):\n",
    "    return base*altura/2"
   ]
  },
  {
   "cell_type": "markdown",
   "metadata": {},
   "source": [
    "<h4><strong>Exercício 7:</strong></h4> Escreva uma função em Python que teste se a é divisível por b"
   ]
  },
  {
   "cell_type": "code",
   "execution_count": 64,
   "metadata": {},
   "outputs": [],
   "source": [
    "def divisivel(a,b):\n",
    "    return a % b == 0"
   ]
  },
  {
   "cell_type": "code",
   "execution_count": 65,
   "metadata": {},
   "outputs": [
    {
     "name": "stdout",
     "output_type": "stream",
     "text": [
      "False\n",
      "True\n"
     ]
    }
   ],
   "source": [
    "print(divisivel(3,2))\n",
    "print(divisivel(4,2))"
   ]
  },
  {
   "cell_type": "markdown",
   "metadata": {},
   "source": [
    "<h4><strong>Exercício 8:</strong></h4> Escreva uma função em Python que retorne o maior valor entre dois números"
   ]
  },
  {
   "cell_type": "code",
   "execution_count": 66,
   "metadata": {},
   "outputs": [],
   "source": [
    "def maiorEmDois(a, b):\n",
    "    if a > b:\n",
    "        return a\n",
    "    return b"
   ]
  },
  {
   "cell_type": "code",
   "execution_count": 67,
   "metadata": {},
   "outputs": [
    {
     "data": {
      "text/plain": [
       "15"
      ]
     },
     "execution_count": 67,
     "metadata": {},
     "output_type": "execute_result"
    }
   ],
   "source": [
    "maiorEmDois(7, 15)"
   ]
  },
  {
   "cell_type": "markdown",
   "metadata": {},
   "source": [
    "<h4><strong>Exercício 9:</strong></h4> Escreva uma função em Python que retorne o maior valor em três números"
   ]
  },
  {
   "cell_type": "code",
   "execution_count": 68,
   "metadata": {},
   "outputs": [],
   "source": [
    "def maiorEmTres(a, b, c):\n",
    "    if a > b:\n",
    "        if a > c:\n",
    "            return a\n",
    "        return c\n",
    "    if b > c:\n",
    "        return b\n",
    "    return c"
   ]
  },
  {
   "cell_type": "code",
   "execution_count": 69,
   "metadata": {},
   "outputs": [],
   "source": [
    "def maiorEmTres2(a, b, c):\n",
    "    if a >= b and a >= c:\n",
    "        return a\n",
    "    elif b >= a and b >= c:\n",
    "        return b\n",
    "    else:\n",
    "        return c"
   ]
  },
  {
   "cell_type": "code",
   "execution_count": 70,
   "metadata": {},
   "outputs": [],
   "source": [
    "def maiorEmTres3(a, b, c):\n",
    "    return maiorEmDois(maiorEmDois(a, b), c)"
   ]
  },
  {
   "cell_type": "code",
   "execution_count": 71,
   "metadata": {},
   "outputs": [
    {
     "data": {
      "text/plain": [
       "3"
      ]
     },
     "execution_count": 71,
     "metadata": {},
     "output_type": "execute_result"
    }
   ],
   "source": [
    "maiorEmTres3(3,3,3)"
   ]
  },
  {
   "cell_type": "markdown",
   "metadata": {},
   "source": [
    "<strong>Nota:</strong> Sempre tentar resolver os casos elementares e, nos casos complexos, tentar compor os casos elementares. O exemplo maiorEmTres3 é um exemplo que usa essa forma de pensar."
   ]
  },
  {
   "cell_type": "markdown",
   "metadata": {},
   "source": [
    "<h4><strong>Exercício 10:</strong></h4> Determinar os <i>domínios</i> e as <i>imagens</i> das seguintes funções, escrevê-los como conjuntos e em seguida escrever uma função em Python para elas, validando as entradas."
   ]
  },
  {
   "cell_type": "markdown",
   "metadata": {},
   "source": [
    "**a.** $x^2$"
   ]
  },
  {
   "cell_type": "markdown",
   "metadata": {},
   "source": [
    "Não existe restrição quanto ao domínio da função, qualquer valor de x pertencente aos reais é possível. A imagem, por sua vez, é o conjunto dos reais não-negativos, já que um número elevado ao quadrado nunca é negativo.$$Domf = \\{x\\ |\\ x \\in \\mathbb{R}\\}$$$$Imf = \\{x\\ |\\ x \\in \\mathbb{R} \\wedge x \\geq 0\\}$$"
   ]
  },
  {
   "cell_type": "code",
   "execution_count": 72,
   "metadata": {},
   "outputs": [],
   "source": [
    "def quadrado(x):\n",
    "    return x**2"
   ]
  },
  {
   "cell_type": "code",
   "execution_count": 73,
   "metadata": {
    "jupyter": {
     "source_hidden": true
    }
   },
   "outputs": [
    {
     "data": {
      "image/png": "[encoded data removed]",
      "text/plain": [
       "<Figure size 432x288 with 1 Axes>"
      ]
     },
     "metadata": {
      "needs_background": "light"
     },
     "output_type": "display_data"
    }
   ],
   "source": [
    "x1 = [v/100 for v in range(-300,301,1)]\n",
    "\n",
    "y1 = [quadrado(v) for v in x1]\n",
    "\n",
    "plt.plot(x1,y1,'b', label = 'x²')\n",
    "plt.axhline(y=0, color = 'k', linestyle='-')\n",
    "plt.axvline(x=0, color = 'k', linestyle='-')\n",
    "plt.axis([-3,3,-1,7])\n",
    "plt.legend()\n",
    "plt.grid()\n",
    "plt.show()"
   ]
  },
  {
   "cell_type": "markdown",
   "metadata": {},
   "source": [
    "**b.** $\\frac{1}{x - 1}$"
   ]
  },
  {
   "cell_type": "markdown",
   "metadata": {},
   "source": [
    "Nesse exemplo, x não pode assumir o valor 1, pois se x = 1, o denominador fica zero e a divisão não é definida, logo o domínio é:"
   ]
  },
  {
   "cell_type": "markdown",
   "metadata": {},
   "source": [
    "$$Domg = \\{x\\ |\\ x \\in \\mathbb{R} \\wedge x \\neq 1\\}$$"
   ]
  },
  {
   "cell_type": "markdown",
   "metadata": {},
   "source": [
    "Para essa função, não existe x em que o valor da função é 0, portanto a imagem é o conjunto dos reais menos o valor 0."
   ]
  },
  {
   "cell_type": "markdown",
   "metadata": {},
   "source": [
    "$$ Img = \\{x\\ |\\ x \\in \\mathbb{R} \\wedge x \\neq 0\\}$$"
   ]
  },
  {
   "cell_type": "code",
   "execution_count": 74,
   "metadata": {},
   "outputs": [],
   "source": [
    "def g(x):\n",
    "    if x == 1:\n",
    "        return\n",
    "    return 1/(x-1)"
   ]
  },
  {
   "cell_type": "code",
   "execution_count": 75,
   "metadata": {
    "jupyter": {
     "source_hidden": true
    }
   },
   "outputs": [
    {
     "data": {
      "image/png": "[encoded data removed]",
      "text/plain": [
       "<Figure size 432x288 with 1 Axes>"
      ]
     },
     "metadata": {
      "needs_background": "light"
     },
     "output_type": "display_data"
    }
   ],
   "source": [
    "x1 = [v/100 for v in range(-200,100,1)]\n",
    "x2 = [v/100 for v in range(101,401,1)]\n",
    "\n",
    "y1 = [g(v) for v in x1]\n",
    "y2 = [g(v) for v in x2]\n",
    "\n",
    "plt.plot(x1,y1,'b', label = '1/(x-1)')\n",
    "plt.plot(x2,y2,'b')\n",
    "plt.axhline(y=0, color = 'k', linestyle='-')\n",
    "plt.axvline(x=0, color = 'k', linestyle='-')\n",
    "plt.axvline(x=1, color = 'k', linestyle='--')\n",
    "plt.axis([-2,4,-7,7])\n",
    "plt.legend()\n",
    "plt.grid()\n",
    "plt.show()"
   ]
  },
  {
   "cell_type": "markdown",
   "metadata": {},
   "source": [
    "**c.** $\\sqrt{x + 2}$"
   ]
  },
  {
   "cell_type": "markdown",
   "metadata": {},
   "source": [
    "Nessa função, o valor dentro da raíz deve ser maior ou igual a zero, logo x deve ser maior ou igual a -2."
   ]
  },
  {
   "cell_type": "markdown",
   "metadata": {},
   "source": [
    "$$Domh = \\{x\\ |\\ x \\in \\mathbb{R} \\wedge x \\geq -2\\}$$"
   ]
  },
  {
   "cell_type": "markdown",
   "metadata": {},
   "source": [
    "A imagem dessa função é o conjunto dos reais"
   ]
  },
  {
   "cell_type": "markdown",
   "metadata": {},
   "source": [
    "$$Imh = \\{x\\ |\\ x \\in \\mathbb{R}\\}$$"
   ]
  },
  {
   "cell_type": "code",
   "execution_count": 76,
   "metadata": {},
   "outputs": [],
   "source": [
    "def h(x):\n",
    "    if x < -2:\n",
    "        return\n",
    "    return (x+2)**0.5"
   ]
  },
  {
   "cell_type": "code",
   "execution_count": 77,
   "metadata": {
    "jupyter": {
     "source_hidden": true
    }
   },
   "outputs": [
    {
     "data": {
      "image/png": "[encoded data removed]",
      "text/plain": [
       "<Figure size 432x288 with 1 Axes>"
      ]
     },
     "metadata": {
      "needs_background": "light"
     },
     "output_type": "display_data"
    }
   ],
   "source": [
    "x1 = [v/100 for v in range(-200,301,1)]\n",
    "\n",
    "y1 = [h(v) for v in x1]\n",
    "y2 = [-h(v) for v in x1]\n",
    "\n",
    "plt.plot(x1, y1, label = '√(x+2)')\n",
    "plt.plot(x1, y2, color = 'r', label = '-√(x+2)')\n",
    "plt.axhline(y=0, color = 'k', linestyle='-')\n",
    "plt.axvline(x=0, color = 'k', linestyle='-')\n",
    "plt.axis([-3,3,-3,3])\n",
    "plt.legend()\n",
    "plt.grid()\n",
    "plt.show()"
   ]
  },
  {
   "cell_type": "markdown",
   "metadata": {},
   "source": [
    "**d.**$\\sqrt{x^2 - 4}$"
   ]
  },
  {
   "cell_type": "markdown",
   "metadata": {},
   "source": [
    "Novamente, o valor dentro da raíz deve ser maior ou igual a zero, ou seja $x^2 - 4 \\geq 0$, então $x^2 \\geq 4$. A solução dessa inequação é $x \\geq 2$ ou $x \\leq -2$"
   ]
  },
  {
   "cell_type": "markdown",
   "metadata": {},
   "source": [
    "$$Domi = \\{x\\ |\\ x \\in \\mathbb{R} \\wedge (x \\leq -2 \\lor x \\geq 2)\\}$$"
   ]
  },
  {
   "cell_type": "markdown",
   "metadata": {},
   "source": [
    "A imagem novamente é o conjunto dos reais: $$Imi = \\{x\\ |\\ x \\in \\mathbb{R}\\}$$"
   ]
  },
  {
   "cell_type": "code",
   "execution_count": 78,
   "metadata": {},
   "outputs": [],
   "source": [
    "def i(x):\n",
    "    if x > -2 and x < 2:\n",
    "        return\n",
    "    return (x**2 - 4)**0.5"
   ]
  },
  {
   "cell_type": "code",
   "execution_count": 79,
   "metadata": {
    "jupyter": {
     "source_hidden": true
    }
   },
   "outputs": [
    {
     "data": {
      "image/png": "[encoded data removed]",
      "text/plain": [
       "<Figure size 432x288 with 1 Axes>"
      ]
     },
     "metadata": {
      "needs_background": "light"
     },
     "output_type": "display_data"
    }
   ],
   "source": [
    "x1 = [v/100 for v in range(-600,-200,1)]\n",
    "x2 = [v/100 for v in range(201,601,1)]\n",
    "\n",
    "y1 = [i(v) for v in x1]\n",
    "y2 = [i(v) for v in x2]\n",
    "y3 = [-i(v) for v in x1]\n",
    "y4 = [-i(v) for v in x2]\n",
    "\n",
    "plt.plot(x1, y1, color = 'b', label = '√(x²-4)')\n",
    "plt.plot(x2, y2, color = 'b')\n",
    "plt.plot(x1, y3, color = 'r', label = '-√(x²-4)')\n",
    "plt.plot(x2, y4, color = 'r')\n",
    "plt.axhline(y=0, color = 'k', linestyle='-')\n",
    "plt.axvline(x=0, color = 'k', linestyle='-')\n",
    "plt.axis([-5,5,-3,3])\n",
    "plt.legend()\n",
    "plt.grid()\n",
    "plt.show()"
   ]
  },
  {
   "cell_type": "markdown",
   "metadata": {},
   "source": [
    "**e.** $\\frac{1}{x^2-1}$"
   ]
  },
  {
   "cell_type": "markdown",
   "metadata": {},
   "source": [
    "Nesse caso, o denominador não pode ser zero, então $x^2 - 1 \\neq 0$, então $x \\neq 1$ e $x \\neq - 1$.$$Domj = \\{x\\ |\\ x \\in \\mathbb{R} \\wedge (x \\neq 1 \\lor x \\neq -1)\\}$$A função $x^2 - 1$ tem um ponto de mínimo em x = 0, demonstração abaixo: $$(x^2 - 1)' = 0$$$$2x = 0$$$$x = 0$$Em x = 0, a função $x^2 - 1$ vale -1, ou seja, essa função assume valores maiores ou iguais a -1. Dividindo 1 por valores entre -1 e 0, obtemos valores entre -1 e -∞. Fazendo a divisão com valores entre 0 e ∞, obtemos valores no intervalo [∞, 0[. Portanto, a imagem é:\n",
    "\n",
    "$$Imj = \\{x\\ |\\ x \\in \\mathbb{R} \\wedge (x \\leq -1 \\lor x \\gt 0)\\}$$"
   ]
  },
  {
   "cell_type": "code",
   "execution_count": 80,
   "metadata": {},
   "outputs": [],
   "source": [
    "def j(x):\n",
    "    if x == 1 or x == -1:\n",
    "        return\n",
    "    return 1/(x**2-1)"
   ]
  },
  {
   "cell_type": "code",
   "execution_count": 81,
   "metadata": {
    "jupyter": {
     "source_hidden": true
    }
   },
   "outputs": [
    {
     "data": {
      "image/png": "[encoded data removed]",
      "text/plain": [
       "<Figure size 432x288 with 1 Axes>"
      ]
     },
     "metadata": {
      "needs_background": "light"
     },
     "output_type": "display_data"
    }
   ],
   "source": [
    "x1 = [v/100 for v in range(-300,-100,1)]\n",
    "x2 = [v/100 for v in range(-99,100,1)]\n",
    "x3 = [v/100 for v in range(101,301,1)]\n",
    "\n",
    "y1 = [j(v) for v in x1]\n",
    "y2 = [j(v) for v in x2]\n",
    "y3 = [j(v) for v in x3]\n",
    "\n",
    "plt.plot(x1,y1,'b', label = '1/(x^2-1)')\n",
    "plt.plot(x2,y2,'b')\n",
    "plt.plot(x3,y3,'b')\n",
    "plt.axhline(y=-1, color = 'k', linestyle='--', label='y = -1')\n",
    "plt.axhline(y=0, color = 'k', linestyle='-')\n",
    "plt.axvline(x=0, color = 'k', linestyle='-')\n",
    "plt.axis([-3,3,-7,7])\n",
    "plt.legend()\n",
    "plt.grid()\n",
    "plt.show()"
   ]
  },
  {
   "cell_type": "markdown",
   "metadata": {},
   "source": [
    "**f.** $\\frac{1}{x^2-x}$"
   ]
  },
  {
   "cell_type": "markdown",
   "metadata": {},
   "source": [
    "\n",
    "Novamente o denominador não pode ser zero, então x não pode assumir valores que são raízes da função $x^2 - x$, que são 0 e 1. Sendo assim, temos: $$Domk = \\{x\\ |\\ x \\in \\mathbb{R} \\wedge x \\neq 0 \\land x \\neq 1\\}$$A expressão $x^2 - x$ assume valores maiores ou iguais a -0.25. Dividindo 1 por valores no intervalo [-0.25, 0[, temos valores entre -4 e -8 e, dividindo 1 por valores no intervalo ]0, ∞], também obtemos valores nesse mesmo intervalo. Logo, o domínio da função é:$$Imk = \\{x\\ |\\ x \\in \\mathbb{R} \\wedge (x \\leq -4 \\land x \\gt 0)\\}$$"
   ]
  },
  {
   "cell_type": "code",
   "execution_count": 82,
   "metadata": {},
   "outputs": [],
   "source": [
    "def k(x):\n",
    "    if x == 0 or x == 1:\n",
    "        return\n",
    "    return 1/(x**2-x)"
   ]
  },
  {
   "cell_type": "code",
   "execution_count": 83,
   "metadata": {
    "jupyter": {
     "source_hidden": true
    }
   },
   "outputs": [
    {
     "data": {
      "image/png": "[encoded data removed]",
      "text/plain": [
       "<Figure size 432x288 with 1 Axes>"
      ]
     },
     "metadata": {
      "needs_background": "light"
     },
     "output_type": "display_data"
    }
   ],
   "source": [
    "x1 = [v/100 for v in range(-300,0,1)]\n",
    "x2 = [v/100 for v in range(1,100,1)]\n",
    "x3 = [v/100 for v in range(101,301,1)]\n",
    "\n",
    "y1 = [k(v) for v in x1]\n",
    "y2 = [k(v) for v in x2]\n",
    "y3 = [k(v) for v in x3]\n",
    "\n",
    "plt.plot(x1,y1,'b', label = '1/(x^2-x)')\n",
    "plt.plot(x2,y2,'b')\n",
    "plt.plot(x3,y3,'b')\n",
    "plt.axhline(y=-4, color = 'k', linestyle='--', label='y = -4')\n",
    "plt.axhline(y=0, color = 'k', linestyle='-')\n",
    "plt.axvline(x=0, color = 'k', linestyle='-')\n",
    "plt.axis([-3,3,-10,7])\n",
    "plt.legend()\n",
    "plt.grid()\n",
    "plt.show()"
   ]
  },
  {
   "cell_type": "markdown",
   "metadata": {},
   "source": [
    "<hr><h2>Aula 06/03/2020</h2>"
   ]
  },
  {
   "cell_type": "markdown",
   "metadata": {},
   "source": [
    "<h3>Tópicos da aula</h3>\n",
    "<ul>\n",
    "    <li>Funcionamento da função <i>range</i></li>\n",
    "    <li><i>list comprehension</i></li>\n",
    "</ul>"
   ]
  },
  {
   "cell_type": "markdown",
   "metadata": {},
   "source": [
    "<strong>Notas:</strong>\n",
    "<ul>\n",
    "    <li>Embora se pareça com uma lista, o <i>range</i> no Python difere das listas pela forma com que é armazenado. Enquanto a lista precisa ser armazenada completamente em memória (uma lista de 1.000.000 de elementos requer muito mais espaço que uma de 1.000), o <i>range</i> é armazenado apenas com 2 variáveis, os elementos iniciais e finais, sem necessidade de memória extra (um <i>range</i> com 6 elementos requer a mesma quantidade de memória que uma de 6.000.000). O avanço é feito através de um comando, que avança o valor inicial até que chegue no final. <strong>(<i>range</i> é um <i>iterador</i>, não uma lista)</strong>.</li>\n",
    "    <li>Por baixo dos panos o comando <i>for</i> gera um laço <i>while</i>.</li>\n",
    "</ul>"
   ]
  },
  {
   "cell_type": "markdown",
   "metadata": {},
   "source": [
    "<h4><strong><i>List comprehension</i></strong></h4>"
   ]
  },
  {
   "cell_type": "markdown",
   "metadata": {},
   "source": [
    "<p>A noção de <i>set builder</i> pode der formalizada como o conjunto <strong>{x | P(x)}</strong> dos elementos x tal que P(x) é verdadeiro. As <i>list comprehensions</i> se baseiam nesse conceito para gerar listas através de uma regra geral.</p> "
   ]
  },
  {
   "cell_type": "markdown",
   "metadata": {},
   "source": [
    "Caso se deseje criar a lista $[1,\\frac{1}{2},\\frac{1}{3},\\frac{1}{4},\\frac{1}{5}]$, podemos escrever:"
   ]
  },
  {
   "cell_type": "code",
   "execution_count": 84,
   "metadata": {},
   "outputs": [
    {
     "data": {
      "text/plain": [
       "[1.0, 0.5, 0.3333333333333333, 0.25, 0.2]"
      ]
     },
     "execution_count": 84,
     "metadata": {},
     "output_type": "execute_result"
    }
   ],
   "source": [
    "[1/n for n in range(1, 6)]"
   ]
  },
  {
   "cell_type": "markdown",
   "metadata": {},
   "source": [
    "Outro exemplo, para a lista $[\\frac{1}{2},\\frac{1}{4},\\frac{1}{6},\\frac{1}{8},\\frac{1}{10}]$, escrevemos:"
   ]
  },
  {
   "cell_type": "code",
   "execution_count": 85,
   "metadata": {},
   "outputs": [
    {
     "data": {
      "text/plain": [
       "[0.5, 0.25, 0.16666666666666666, 0.125, 0.1]"
      ]
     },
     "execution_count": 85,
     "metadata": {},
     "output_type": "execute_result"
    }
   ],
   "source": [
    "[1/(2*n) for n in range(1, 6)]"
   ]
  },
  {
   "cell_type": "markdown",
   "metadata": {},
   "source": [
    "Um terceiro exemplo, para a lista $[1,\\frac{1}{3},\\frac{1}{9},. . .,\\frac{1}{3^{10}}]$"
   ]
  },
  {
   "cell_type": "code",
   "execution_count": 86,
   "metadata": {},
   "outputs": [
    {
     "data": {
      "text/plain": [
       "[1.0,\n",
       " 0.3333333333333333,\n",
       " 0.1111111111111111,\n",
       " 0.037037037037037035,\n",
       " 0.012345679012345678,\n",
       " 0.00411522633744856,\n",
       " 0.0013717421124828531,\n",
       " 0.0004572473708276177,\n",
       " 0.00015241579027587258,\n",
       " 5.080526342529086e-05,\n",
       " 1.6935087808430286e-05]"
      ]
     },
     "execution_count": 86,
     "metadata": {},
     "output_type": "execute_result"
    }
   ],
   "source": [
    "[1/3**n for n in range(11)]"
   ]
  },
  {
   "cell_type": "markdown",
   "metadata": {},
   "source": [
    "**Exercício:** Escrever uma função que retorne a lista $[1, ..., \\frac{1}{3^n}]$ com n informado como parâmetro."
   ]
  },
  {
   "cell_type": "code",
   "execution_count": 87,
   "metadata": {},
   "outputs": [],
   "source": [
    "def lista(n):\n",
    "    return [1/3**x for x in range(n)]"
   ]
  },
  {
   "cell_type": "code",
   "execution_count": 88,
   "metadata": {},
   "outputs": [
    {
     "data": {
      "text/plain": [
       "[1.0,\n",
       " 0.3333333333333333,\n",
       " 0.1111111111111111,\n",
       " 0.037037037037037035,\n",
       " 0.012345679012345678,\n",
       " 0.00411522633744856,\n",
       " 0.0013717421124828531,\n",
       " 0.0004572473708276177,\n",
       " 0.00015241579027587258,\n",
       " 5.080526342529086e-05]"
      ]
     },
     "execution_count": 88,
     "metadata": {},
     "output_type": "execute_result"
    }
   ],
   "source": [
    "lista(10)"
   ]
  },
  {
   "cell_type": "code",
   "execution_count": 89,
   "metadata": {},
   "outputs": [],
   "source": [
    "def lista2(n):\n",
    "    return[1/i**2 for i in range(1, n)]"
   ]
  },
  {
   "cell_type": "code",
   "execution_count": 90,
   "metadata": {},
   "outputs": [
    {
     "data": {
      "text/plain": [
       "[1.0,\n",
       " 0.25,\n",
       " 0.1111111111111111,\n",
       " 0.0625,\n",
       " 0.04,\n",
       " 0.027777777777777776,\n",
       " 0.02040816326530612,\n",
       " 0.015625,\n",
       " 0.012345679012345678]"
      ]
     },
     "execution_count": 90,
     "metadata": {},
     "output_type": "execute_result"
    }
   ],
   "source": [
    "lista2(10)"
   ]
  },
  {
   "cell_type": "markdown",
   "metadata": {},
   "source": [
    "<strong>Nota:</strong> É usual usar os nomes de variáveis <i>x, y</i> e <i>z</i> para números reais. Para números inteiros, é comum utilizar variávei <i>n</i> ou <i>i</i>. É importante utilizar esse padrão para a legibilidade do código."
   ]
  },
  {
   "cell_type": "markdown",
   "metadata": {},
   "source": [
    "### **Exercícios para casa**\n",
    "Escrever funções em Python que:\n",
    "\n",
    "**1.** Calcule a soma da sequência $[\\frac{1}{1},\\frac{1}{4},\\frac{1}{9},...,\\frac{1}{n^2}]$"
   ]
  },
  {
   "cell_type": "code",
   "execution_count": 91,
   "metadata": {},
   "outputs": [],
   "source": [
    "def somaSequencia1(n):\n",
    "    soma = 0\n",
    "\n",
    "    for j in [1/i**2 for i in range(1,n+1)]:\n",
    "        soma += j\n",
    "\n",
    "    return soma"
   ]
  },
  {
   "cell_type": "code",
   "execution_count": 92,
   "metadata": {},
   "outputs": [
    {
     "data": {
      "text/plain": [
       "1.64493306684877"
      ]
     },
     "execution_count": 92,
     "metadata": {},
     "output_type": "execute_result"
    }
   ],
   "source": [
    "somaSequencia1(1000000)"
   ]
  },
  {
   "cell_type": "markdown",
   "metadata": {},
   "source": [
    "**2.** Calcule a soma da sequência $[\\frac{1}{1},\\frac{1}{3},\\frac{1}{9},...,\\frac{1}{3^n}]$"
   ]
  },
  {
   "cell_type": "code",
   "execution_count": 93,
   "metadata": {},
   "outputs": [],
   "source": [
    "def somaSequencia2(n):\n",
    "    soma = 0\n",
    "    \n",
    "    for j in [1/3**i for i in range(n+1)]:\n",
    "        soma += j\n",
    "    \n",
    "    return soma"
   ]
  },
  {
   "cell_type": "code",
   "execution_count": 94,
   "metadata": {},
   "outputs": [
    {
     "data": {
      "text/plain": [
       "1.5"
      ]
     },
     "execution_count": 94,
     "metadata": {},
     "output_type": "execute_result"
    }
   ],
   "source": [
    "somaSequencia2(100)"
   ]
  },
  {
   "cell_type": "markdown",
   "metadata": {},
   "source": [
    "**3.** Calcule a soma da sequência $[\\frac{1}{2},\\frac{1}{4},\\frac{1}{8},...,\\frac{1}{2^n}]$"
   ]
  },
  {
   "cell_type": "code",
   "execution_count": 95,
   "metadata": {},
   "outputs": [],
   "source": [
    "def somaSequencia3(n):\n",
    "    soma = 0\n",
    "    \n",
    "    for j in [1/2**i for i in range(1, n+1)]:\n",
    "        soma += j\n",
    "        \n",
    "    return soma"
   ]
  },
  {
   "cell_type": "code",
   "execution_count": 96,
   "metadata": {
    "jupyter": {
     "source_hidden": true
    }
   },
   "outputs": [
    {
     "name": "stdout",
     "output_type": "stream",
     "text": [
      "Quando  n = 3, a soma da sequência vale 0.875.\n",
      "Quando  n = 10, a soma da sequência vale 0.9990234375.\n",
      "Quando  n = 20, a soma da sequência vale 0.9999990463256836.\n",
      "Quando  n = 40, a soma da sequência vale 0.9999999999990905.\n",
      "Quando  n = 100, a soma da sequência vale 1.0.\n"
     ]
    }
   ],
   "source": [
    "for i in [3,10,20,40,100]:\n",
    "    print(f\"Quando  n = {i}, a soma da sequência vale {somaSequencia3(i)}.\")"
   ]
  },
  {
   "cell_type": "markdown",
   "metadata": {},
   "source": [
    "**4.** Calcule o fatorial de n, isto é $n!$ para n dado."
   ]
  },
  {
   "cell_type": "code",
   "execution_count": 97,
   "metadata": {},
   "outputs": [],
   "source": [
    "def fatorial(n):\n",
    "    if n < 0:\n",
    "        return\n",
    "    \n",
    "    fatorial = 1\n",
    "    \n",
    "    for i in range(n,0,-1):\n",
    "        fatorial *= i\n",
    "    \n",
    "    return fatorial"
   ]
  },
  {
   "cell_type": "code",
   "execution_count": 98,
   "metadata": {},
   "outputs": [
    {
     "name": "stdout",
     "output_type": "stream",
     "text": [
      "O fatorial de -1 é None.\n",
      "O fatorial de 0 é 1.\n",
      "O fatorial de 1 é 1.\n",
      "O fatorial de 2 é 2.\n",
      "O fatorial de 3 é 6.\n",
      "O fatorial de 4 é 24.\n",
      "O fatorial de 5 é 120.\n",
      "O fatorial de 6 é 720.\n",
      "O fatorial de 7 é 5040.\n",
      "O fatorial de 8 é 40320.\n",
      "O fatorial de 9 é 362880.\n",
      "O fatorial de 10 é 3628800.\n"
     ]
    }
   ],
   "source": [
    "for i in range(-1, 11):\n",
    "    print(f\"O fatorial de {i} é {fatorial(i)}.\")    "
   ]
  },
  {
   "cell_type": "markdown",
   "metadata": {},
   "source": [
    "**5.** Calcule o fatorial de n, por meio de *list comprehension*."
   ]
  },
  {
   "cell_type": "code",
   "execution_count": 99,
   "metadata": {},
   "outputs": [],
   "source": [
    "def fatorialListComprehension(n):\n",
    "    if n < 0:\n",
    "        return\n",
    "    return [math.factorial(i) for i in range(n+1)][-1]"
   ]
  },
  {
   "cell_type": "code",
   "execution_count": 100,
   "metadata": {},
   "outputs": [
    {
     "name": "stdout",
     "output_type": "stream",
     "text": [
      "O fatorial de -1 é None.\n",
      "O fatorial de 0 é 1.\n",
      "O fatorial de 1 é 1.\n",
      "O fatorial de 2 é 2.\n",
      "O fatorial de 3 é 6.\n",
      "O fatorial de 4 é 24.\n",
      "O fatorial de 5 é 120.\n",
      "O fatorial de 6 é 720.\n",
      "O fatorial de 7 é 5040.\n",
      "O fatorial de 8 é 40320.\n",
      "O fatorial de 9 é 362880.\n",
      "O fatorial de 10 é 3628800.\n"
     ]
    }
   ],
   "source": [
    "for i in range(-1, 11):\n",
    "    print(f\"O fatorial de {i} é {fatorialListComprehension(i)}.\")"
   ]
  },
  {
   "cell_type": "markdown",
   "metadata": {},
   "source": [
    "**6.** Gere a seguinte sequência: $[1,\\frac{1}{1!},...,\\frac{1}{n!}]$."
   ]
  },
  {
   "cell_type": "code",
   "execution_count": 101,
   "metadata": {},
   "outputs": [],
   "source": [
    "def listaFatorial(n):\n",
    "    return [1/math.factorial(i) for i in range(n+1)]"
   ]
  },
  {
   "cell_type": "code",
   "execution_count": 102,
   "metadata": {},
   "outputs": [
    {
     "data": {
      "text/plain": [
       "[1.0,\n",
       " 1.0,\n",
       " 0.5,\n",
       " 0.16666666666666666,\n",
       " 0.041666666666666664,\n",
       " 0.008333333333333333,\n",
       " 0.001388888888888889,\n",
       " 0.0001984126984126984,\n",
       " 2.48015873015873e-05,\n",
       " 2.7557319223985893e-06,\n",
       " 2.755731922398589e-07]"
      ]
     },
     "execution_count": 102,
     "metadata": {},
     "output_type": "execute_result"
    }
   ],
   "source": [
    "listaFatorial(10)"
   ]
  },
  {
   "cell_type": "markdown",
   "metadata": {},
   "source": [
    "**7.** Calcule o *número de Euler*, dada a quantidade *n* de parcelas\n",
    "$$e = 1 + \\frac{1}{1!} + \\frac{1}{2!} + \\frac{1}{3!} +... + \\frac{1}{n!}$$"
   ]
  },
  {
   "cell_type": "code",
   "execution_count": 103,
   "metadata": {},
   "outputs": [],
   "source": [
    "def euler(n):\n",
    "    soma = 0\n",
    "    \n",
    "    for j in [1/math.factorial(i) for i in range(n+1)]:\n",
    "        soma += j\n",
    "    \n",
    "    return soma"
   ]
  },
  {
   "cell_type": "code",
   "execution_count": 104,
   "metadata": {
    "jupyter": {
     "source_hidden": true
    }
   },
   "outputs": [
    {
     "data": {
      "image/png": "[encoded data removed]",
      "text/plain": [
       "<Figure size 432x288 with 1 Axes>"
      ]
     },
     "metadata": {
      "needs_background": "light"
     },
     "output_type": "display_data"
    },
    {
     "name": "stdout",
     "output_type": "stream",
     "text": [
      "Notar que o somatório tende ao numero de Euler e = 2.718281828.\n",
      "Por exemplo, para n = 1000, o somatório vale 2.7182818284590455\n"
     ]
    }
   ],
   "source": [
    "valores = [i for i in range(30)]\n",
    "plt.plot(valores, [euler(i) for i in valores])\n",
    "plt.show()\n",
    "print(f\"Notar que o somatório tende ao numero de Euler e = 2.718281828.\\nPor exemplo, para n = 1000, o somatório vale {euler(1000)}\")"
   ]
  },
  {
   "cell_type": "markdown",
   "metadata": {},
   "source": [
    "<hr>"
   ]
  },
  {
   "cell_type": "markdown",
   "metadata": {},
   "source": [
    "## Aula 12/03/2020"
   ]
  },
  {
   "cell_type": "markdown",
   "metadata": {},
   "source": [
    "## Tópicos da aula:\n",
    "<ul>\n",
    "    <li>Limites</li>\n",
    "    <li>Sequências</li>\n",
    "    <li>Séries</li>\n",
    "</ul>"
   ]
  },
  {
   "cell_type": "markdown",
   "metadata": {},
   "source": [
    "As sequências têm um valor importantíssimo na matématica para a resolução de problemas que envolvem curvas. Demonstração do cálculo da área de um círculo através da suscessiva divisão deste em triângulos cada vez menores, no limite, com o número de triângulos tendendo ao infinito, temos a área quase exata do círculo. Abstração para o cálculo de áreas sob curvas genéricas, através da divisão dessas áreas em retângulos cada vez menores. Novamente, no limite com a quantidade de retângulos tendendo ao infinito, temos uma aproximação bastante fiel da área sob a curva.\n",
    "\n",
    "Uma série é uma soma de uma sequência."
   ]
  },
  {
   "cell_type": "markdown",
   "metadata": {},
   "source": [
    "As somas que estavamos escrevendo até agora são séries, e existe uma notação especial para representar tais somas, a notação de somatório. Abaixo serão mostrados alguns exemplos como foram escritos nas aulas anteriores e na notação de somatório:"
   ]
  },
  {
   "cell_type": "markdown",
   "metadata": {},
   "source": [
    "**Nas aulas anteriores, escrevíamos:** \n",
    "$$ 1 + \\frac{1}{2} + \\frac{1}{3} + ... + \\frac{1}{n} $$\n",
    "**Em notação de somatório, escrevemos:**\n",
    "$$ \\sum_{n=1}^{1000} \\frac{1}{n}$$"
   ]
  },
  {
   "cell_type": "markdown",
   "metadata": {},
   "source": [
    "Outro exemplo:"
   ]
  },
  {
   "cell_type": "markdown",
   "metadata": {},
   "source": [
    "**Nas aulas anteriores, escrevíamos:** \n",
    "$$ \\frac{1}{2^0} + \\frac{1}{2^1} + \\frac{1}{2^2} + ... + \\frac{1}{2^n} $$\n",
    "**Em notação de somatório, escrevemos:**\n",
    "$$ \\sum_{n=0}^{1000} \\frac{1}{2^n}$$"
   ]
  },
  {
   "cell_type": "markdown",
   "metadata": {},
   "source": [
    "Alguns desses somatórios são convergentes, ou seja, conforme aumentando o valor máximo para *n*, os elementos adicionados na soma vão fazendo cada vez menos diferença no resultado final do somatório. Por exemplo, no exemplo acima, se aumentarmos o valor máximo de *n* indefinidamente, o valor da soma vai chegar cada vez mais próximo de 2, mas não vai ultrapassar esse valor. Nesses casos, dizemos que o limite da série quando *n* tende ao infinito é 2. Escrevemos isso matematicamente da seguinte forma:"
   ]
  },
  {
   "cell_type": "markdown",
   "metadata": {},
   "source": [
    "$$\\lim_{n \\to \\infty}(\\sum_{k=0}^{n} \\frac{1}{2^n}) = 2$$"
   ]
  },
  {
   "cell_type": "markdown",
   "metadata": {},
   "source": [
    "Existem casos, entretanto, em que a série cresce indefinidamente com o aumento de *n*. É o caso da série harmônica, já vista em aulas anteriores, em que a soma sempre cresce. Nessas situações, dizemos que a série diverge, e escrevemos:\n",
    "$$\\lim_{n \\to \\infty}(\\sum_{k=1}^{n} \\frac{1}{n}) = \\infty$$"
   ]
  },
  {
   "cell_type": "markdown",
   "metadata": {},
   "source": [
    "Abaixo serão mostrados os gráficos das duas funções, para efeito de comparação:"
   ]
  },
  {
   "cell_type": "code",
   "execution_count": 105,
   "metadata": {
    "jupyter": {
     "source_hidden": true
    }
   },
   "outputs": [
    {
     "data": {
      "image/png": "[encoded data removed]",
      "text/plain": [
       "<Figure size 432x288 with 1 Axes>"
      ]
     },
     "metadata": {
      "needs_background": "light"
     },
     "output_type": "display_data"
    }
   ],
   "source": [
    "valores = [i for i in range(50)]\n",
    "plt.plot(valores, [somaSequencia3(i) for i in valores])\n",
    "plt.show()"
   ]
  },
  {
   "cell_type": "markdown",
   "metadata": {},
   "source": [
    "No caso da primeira sequência, graficamente podemos notar que a reta se torna horizontal, mostrando claramente uma tendência da soma chegar em 1 conforme aumentamos o valor de *n*"
   ]
  },
  {
   "cell_type": "code",
   "execution_count": 106,
   "metadata": {
    "jupyter": {
     "source_hidden": true
    }
   },
   "outputs": [
    {
     "data": {
      "image/png": "[encoded data removed]",
      "text/plain": [
       "<Figure size 432x288 with 1 Axes>"
      ]
     },
     "metadata": {
      "needs_background": "light"
     },
     "output_type": "display_data"
    }
   ],
   "source": [
    "valores = [i for i in range(1,5000)]\n",
    "resultados = [1]\n",
    "for i,v in enumerate(valores[1:]):\n",
    "    resultados.append(resultados[i] + 1/v)\n",
    "    \n",
    "plt.plot(valores, resultados)\n",
    "plt.show()"
   ]
  },
  {
   "cell_type": "markdown",
   "metadata": {},
   "source": [
    "Nesse caso, podemos perceber que, mesmo adotando um valor de *n* 100 vezes maior que no caso anterior, ainda não há uma clara tendência do valor da soma se tornar constante, mesmo que o crescimento ocorra de forma mais lenta que no início. Esse comportamento continua indefinidamente nessa série, portanto dizemos que ela é divergente."
   ]
  },
  {
   "cell_type": "markdown",
   "metadata": {},
   "source": [
    "Outra situação em que dizemos que a série diverge é quando não existe limite para a soma. Uma das situações em que isso ocorre é quando o valor do limite não é único. Por exemplo, na série $(-1)^n = [1, -1, 1, ..., -1]$, quando temos um valor par o valor é -1 e quando é ímpar, 1. Sendo assim, quando temos um *n* genérico, não podemos precisar qual é o limite, então escrevemos:\n",
    "\n",
    "$$\\lim_{n \\to \\infty}(-1)^n = \\nexists$$"
   ]
  },
  {
   "cell_type": "markdown",
   "metadata": {},
   "source": [
    "Da mesma forma, quando fazemos um somatório dos valores dessa sequência, se n for par temos a soma igual a 0 e, se for ímpar, igual a 1. Novamente não podemos precisar qual é o limite com *n* tendendo ao infinito, logo dizemos que a série diverge. **Nota:** Euler diz que o limite dessa série é $\\frac{1}{2}$."
   ]
  },
  {
   "cell_type": "markdown",
   "metadata": {},
   "source": [
    "### Exercícios ###\n",
    "**1.** Escreva a sequência dos termos que possuem a forma $(\\frac{−1}{2})^n$, para n variando de 0 a 7."
   ]
  },
  {
   "cell_type": "markdown",
   "metadata": {},
   "source": [
    "$$\\Big[(\\frac{−1}{2})^0,(\\frac{−1}{2})^1,(\\frac{−1}{2})^2,(\\frac{−1}{2})^3,(\\frac{−1}{2})^4,(\\frac{−1}{2})^5,(\\frac{−1}{2})^6,(\\frac{−1}{2})^7\\Big]$$\n",
    "\n",
    "$$\\Big[1,\\frac{−1}{2},\\frac{1}{4},\\frac{−1}{8},\\frac{1}{16},\\frac{−1}{32},\\frac{1}{64},\\frac{−1}{128}\\Big]$$"
   ]
  },
  {
   "cell_type": "code",
   "execution_count": 107,
   "metadata": {},
   "outputs": [
    {
     "data": {
      "text/plain": [
       "[1.0, -0.5, 0.25, -0.125, 0.0625, -0.03125, 0.015625, -0.0078125]"
      ]
     },
     "execution_count": 107,
     "metadata": {},
     "output_type": "execute_result"
    }
   ],
   "source": [
    "[(-1/2)**n for n in range(8)]"
   ]
  },
  {
   "cell_type": "markdown",
   "metadata": {},
   "source": [
    "**2.** Escreva, em notação matemática, sequências que representam:"
   ]
  },
  {
   "cell_type": "markdown",
   "metadata": {},
   "source": [
    "**a.** Os números pares"
   ]
  },
  {
   "cell_type": "markdown",
   "metadata": {},
   "source": [
    "$$\\Big[2,\\ 4,\\ ... ,\\ 2n\\Big]$$"
   ]
  },
  {
   "cell_type": "code",
   "execution_count": 108,
   "metadata": {},
   "outputs": [],
   "source": [
    "def pares(n):\n",
    "    return [2*i for i in range(n)]"
   ]
  },
  {
   "cell_type": "code",
   "execution_count": 109,
   "metadata": {},
   "outputs": [
    {
     "data": {
      "text/plain": [
       "[0, 2, 4, 6, 8]"
      ]
     },
     "execution_count": 109,
     "metadata": {},
     "output_type": "execute_result"
    }
   ],
   "source": [
    "pares(5)"
   ]
  },
  {
   "cell_type": "markdown",
   "metadata": {},
   "source": [
    "**b.** Os números ímpares"
   ]
  },
  {
   "cell_type": "markdown",
   "metadata": {},
   "source": [
    "$$\\Big[1,\\ 3,\\ ... ,\\ 2n + 1\\Big]$$"
   ]
  },
  {
   "cell_type": "code",
   "execution_count": 110,
   "metadata": {},
   "outputs": [],
   "source": [
    "def impares(n):\n",
    "    return [2*i + 1 for i in range(n)]"
   ]
  },
  {
   "cell_type": "code",
   "execution_count": 111,
   "metadata": {},
   "outputs": [
    {
     "data": {
      "text/plain": [
       "[1, 3, 5, 7, 9]"
      ]
     },
     "execution_count": 111,
     "metadata": {},
     "output_type": "execute_result"
    }
   ],
   "source": [
    "impares(5)"
   ]
  },
  {
   "cell_type": "markdown",
   "metadata": {},
   "source": [
    "**c.** Os sete primeiros múltiplos de cinco"
   ]
  },
  {
   "cell_type": "markdown",
   "metadata": {},
   "source": [
    "$$\\Big[5,\\ 10,\\ 15,\\ 20,\\ 25,\\ 30,\\ 35\\Big]$$"
   ]
  },
  {
   "cell_type": "code",
   "execution_count": 112,
   "metadata": {},
   "outputs": [
    {
     "data": {
      "text/plain": [
       "[5, 10, 15, 20, 25, 30, 35]"
      ]
     },
     "execution_count": 112,
     "metadata": {},
     "output_type": "execute_result"
    }
   ],
   "source": [
    "[5*i for i in range(1,8)]"
   ]
  },
  {
   "cell_type": "markdown",
   "metadata": {},
   "source": [
    "**d.** Os cubos dos *n* primeiros números naturais"
   ]
  },
  {
   "cell_type": "markdown",
   "metadata": {},
   "source": [
    "$$\\Big[1,\\ 8,\\ ... ,\\ n^3\\Big]$$"
   ]
  },
  {
   "cell_type": "code",
   "execution_count": 113,
   "metadata": {},
   "outputs": [],
   "source": [
    "def cubos(n):\n",
    "    return [i**3 for i in range(n)]"
   ]
  },
  {
   "cell_type": "code",
   "execution_count": 114,
   "metadata": {},
   "outputs": [
    {
     "data": {
      "text/plain": [
       "[0, 1, 8, 27, 64]"
      ]
     },
     "execution_count": 114,
     "metadata": {},
     "output_type": "execute_result"
    }
   ],
   "source": [
    "cubos(5)"
   ]
  },
  {
   "cell_type": "markdown",
   "metadata": {},
   "source": [
    "**3.** Escreva, em notação de somatório, as séries compostas pelos seguintes termos:"
   ]
  },
  {
   "cell_type": "markdown",
   "metadata": {},
   "source": [
    "**a.** Os 5 primeiros números pares\n",
    "$$ \\sum_{n=1}^{5} 2n$$"
   ]
  },
  {
   "cell_type": "code",
   "execution_count": 115,
   "metadata": {},
   "outputs": [
    {
     "name": "stdout",
     "output_type": "stream",
     "text": [
      "30\n"
     ]
    }
   ],
   "source": [
    "soma = 0\n",
    "\n",
    "for i in range(6):\n",
    "    soma += 2*i\n",
    "\n",
    "print(soma)"
   ]
  },
  {
   "cell_type": "markdown",
   "metadata": {},
   "source": [
    "**b.** Os 20 primeiros números ímpares\n",
    "$$ \\sum_{n=0}^{19} 2n + 1$$"
   ]
  },
  {
   "cell_type": "code",
   "execution_count": 116,
   "metadata": {},
   "outputs": [
    {
     "name": "stdout",
     "output_type": "stream",
     "text": [
      "400\n"
     ]
    }
   ],
   "source": [
    "soma = 0\n",
    "\n",
    "for i in range(20):\n",
    "    soma += 2*i + 1\n",
    "\n",
    "print(soma)"
   ]
  },
  {
   "cell_type": "markdown",
   "metadata": {},
   "source": [
    "**c.** Os n primeiros múltiplos de 5\n",
    "$$ \\sum_{k=1}^{n} 5k$$"
   ]
  },
  {
   "cell_type": "code",
   "execution_count": 117,
   "metadata": {},
   "outputs": [],
   "source": [
    "def serieMultiplos5(n):\n",
    "    \n",
    "    soma = 0\n",
    "    \n",
    "    for i in range(n+1):\n",
    "        soma += 5*i\n",
    "    \n",
    "    return soma"
   ]
  },
  {
   "cell_type": "code",
   "execution_count": 118,
   "metadata": {},
   "outputs": [
    {
     "data": {
      "text/plain": [
       "75"
      ]
     },
     "execution_count": 118,
     "metadata": {},
     "output_type": "execute_result"
    }
   ],
   "source": [
    "serieMultiplos5(5)"
   ]
  },
  {
   "cell_type": "markdown",
   "metadata": {},
   "source": [
    "**d.** Os cubos dos n primeiros números naturais\n",
    "$$ \\sum_{k=1}^{n} k^3$$"
   ]
  },
  {
   "cell_type": "code",
   "execution_count": 119,
   "metadata": {},
   "outputs": [],
   "source": [
    "def serieCubos(n):\n",
    "    \n",
    "    soma = 0\n",
    "    \n",
    "    for i in range(n+1):\n",
    "        soma += i**3\n",
    "    \n",
    "    return soma"
   ]
  },
  {
   "cell_type": "code",
   "execution_count": 120,
   "metadata": {},
   "outputs": [
    {
     "name": "stdout",
     "output_type": "stream",
     "text": [
      "225 225\n"
     ]
    }
   ],
   "source": [
    "print(serieCubos(5), sum(cubos(6)))"
   ]
  },
  {
   "cell_type": "markdown",
   "metadata": {},
   "source": [
    "**4.** Usando ***list comprehension***, escreva uma função em Python para cada um dos itens a seguir:"
   ]
  },
  {
   "cell_type": "markdown",
   "metadata": {},
   "source": [
    "**a.** Gere a sequência dos n primeiros números pares."
   ]
  },
  {
   "cell_type": "code",
   "execution_count": 121,
   "metadata": {},
   "outputs": [],
   "source": [
    "def nPares(n):\n",
    "    return [2*i for i in range(n)]"
   ]
  },
  {
   "cell_type": "code",
   "execution_count": 122,
   "metadata": {},
   "outputs": [
    {
     "data": {
      "text/plain": [
       "[0, 2, 4, 6, 8, 10, 12, 14, 16, 18]"
      ]
     },
     "execution_count": 122,
     "metadata": {},
     "output_type": "execute_result"
    }
   ],
   "source": [
    "nPares(10)"
   ]
  },
  {
   "cell_type": "markdown",
   "metadata": {},
   "source": [
    "**b.** Calcule o n-ésimo número ímpar."
   ]
  },
  {
   "cell_type": "code",
   "execution_count": 123,
   "metadata": {},
   "outputs": [],
   "source": [
    "def nImpares(n):\n",
    "    return [2*i + 1 for i in range(n)][-1]"
   ]
  },
  {
   "cell_type": "code",
   "execution_count": 124,
   "metadata": {},
   "outputs": [
    {
     "data": {
      "text/plain": [
       "19"
      ]
     },
     "execution_count": 124,
     "metadata": {},
     "output_type": "execute_result"
    }
   ],
   "source": [
    "nImpares(10)"
   ]
  },
  {
   "cell_type": "markdown",
   "metadata": {},
   "source": [
    "**c.** Calcule a soma dos n primeiros números pares."
   ]
  },
  {
   "cell_type": "code",
   "execution_count": 125,
   "metadata": {},
   "outputs": [],
   "source": [
    "def somaNPares(n):\n",
    "    soma = 0\n",
    "    \n",
    "    for v in [2*i for i in range(n)]:\n",
    "        soma += v\n",
    "    \n",
    "    return soma"
   ]
  },
  {
   "cell_type": "code",
   "execution_count": 126,
   "metadata": {},
   "outputs": [
    {
     "data": {
      "text/plain": [
       "90"
      ]
     },
     "execution_count": 126,
     "metadata": {},
     "output_type": "execute_result"
    }
   ],
   "source": [
    "somaNPares(10)"
   ]
  },
  {
   "cell_type": "markdown",
   "metadata": {},
   "source": [
    "**d.** Dado n, multiplique $1\\ x\\ 2\\ x\\ 3\\ x\\ ...\\ x\\ n$"
   ]
  },
  {
   "cell_type": "code",
   "execution_count": 127,
   "metadata": {},
   "outputs": [],
   "source": [
    "def multiplicaN(n):\n",
    "    produto = 1\n",
    "    \n",
    "    for i in range(1, n+1):\n",
    "        produto *= i\n",
    "        \n",
    "    return produto"
   ]
  },
  {
   "cell_type": "code",
   "execution_count": 128,
   "metadata": {},
   "outputs": [
    {
     "data": {
      "text/plain": [
       "5040"
      ]
     },
     "execution_count": 128,
     "metadata": {},
     "output_type": "execute_result"
    }
   ],
   "source": [
    "multiplicaN(7)"
   ]
  },
  {
   "cell_type": "markdown",
   "metadata": {},
   "source": [
    "**e.** Dado n, calcule o fatorial de n."
   ]
  },
  {
   "cell_type": "code",
   "execution_count": 129,
   "metadata": {},
   "outputs": [],
   "source": [
    "def fatorial(n):\n",
    "    return [multiplicaN(k) for k in range(n+1)][-1]"
   ]
  },
  {
   "cell_type": "code",
   "execution_count": 130,
   "metadata": {},
   "outputs": [
    {
     "name": "stdout",
     "output_type": "stream",
     "text": [
      "1\n",
      "1\n",
      "2\n",
      "6\n",
      "24\n",
      "120\n",
      "720\n",
      "5040\n",
      "40320\n",
      "362880\n"
     ]
    }
   ],
   "source": [
    "for i in range(10):\n",
    "    print(fatorial(i))"
   ]
  },
  {
   "cell_type": "markdown",
   "metadata": {},
   "source": [
    "**f.** Dado n, gere a sequência $ 1 , \\frac{1}{1!} , \\frac{1}{2!} , \\frac{1}{3!} ,... , \\frac{1}{n!}$"
   ]
  },
  {
   "cell_type": "code",
   "execution_count": 131,
   "metadata": {},
   "outputs": [],
   "source": [
    "def sequenciaFatorial(n):\n",
    "    return [1/fatorial(k) for k in range(n+1)]"
   ]
  },
  {
   "cell_type": "code",
   "execution_count": 132,
   "metadata": {},
   "outputs": [
    {
     "data": {
      "text/plain": [
       "[1.0, 1.0, 0.5, 0.16666666666666666]"
      ]
     },
     "execution_count": 132,
     "metadata": {},
     "output_type": "execute_result"
    }
   ],
   "source": [
    "sequenciaFatorial(3)"
   ]
  },
  {
   "cell_type": "markdown",
   "metadata": {},
   "source": [
    "**g.** Calcule o número e (número de Euler, a base dos logaritmos neperianos), dada a quantidade n de parcelas $$ e = 1 + {1 \\over 1!} + {1 \\over 2!} + {1 \\over 3!} + {1 \\over 4!} + \\cdots + {1 \\over n!}$$"
   ]
  },
  {
   "cell_type": "code",
   "execution_count": 133,
   "metadata": {},
   "outputs": [],
   "source": [
    "def euler(n):\n",
    "    soma = 0\n",
    "    \n",
    "    for x in sequenciaFatorial(n):\n",
    "        soma += x\n",
    "    \n",
    "    return soma"
   ]
  },
  {
   "cell_type": "code",
   "execution_count": 134,
   "metadata": {},
   "outputs": [
    {
     "name": "stdout",
     "output_type": "stream",
     "text": [
      "A soma da série com n = 3 é : 2.6666666666666665\n",
      "A soma da série com n = 5 é : 2.7166666666666663\n",
      "A soma da série com n = 10 é : 2.7182818011463845\n",
      "A soma da série com n = 20 é : 2.7182818284590455\n",
      "A soma da série com n = 30 é : 2.7182818284590455\n",
      "A soma da série com n = 50 é : 2.7182818284590455\n"
     ]
    }
   ],
   "source": [
    "for i in [3, 5, 10, 20, 30, 50]:\n",
    "    print(f\"A soma da série com n = {i} é : {euler(i)}\")"
   ]
  },
  {
   "cell_type": "markdown",
   "metadata": {},
   "source": [
    "**5.** Faça uma pesquisa na internet sobre o cálculo do valor de π como somatório de uma sequência."
   ]
  },
  {
   "cell_type": "markdown",
   "metadata": {},
   "source": [
    "**a.** Por meio da notação de somatório, escreva a fórmula de cálculo do valor de π."
   ]
  },
  {
   "cell_type": "markdown",
   "metadata": {},
   "source": [
    "A fórmula de Leibniz diz que: $$\\lim_{n \\to \\infty}\\sum_{k=0}^{n} \\frac{(-1)^n}{2n + 1} = \\frac{\\pi}{4}$$"
   ]
  },
  {
   "cell_type": "markdown",
   "metadata": {},
   "source": [
    "**b.** Escreva um programa que calcule o valor de π para um número dado de termos da sequência."
   ]
  },
  {
   "cell_type": "code",
   "execution_count": 135,
   "metadata": {},
   "outputs": [],
   "source": [
    "def piSerie(n):\n",
    "    soma = 0\n",
    "    \n",
    "    for i in range(n):\n",
    "        soma += ((-1)**i) / (2*i + 1)\n",
    "    \n",
    "    return soma*4"
   ]
  },
  {
   "cell_type": "code",
   "execution_count": 136,
   "metadata": {},
   "outputs": [
    {
     "data": {
      "text/plain": [
       "3.1415826535897198"
      ]
     },
     "execution_count": 136,
     "metadata": {},
     "output_type": "execute_result"
    }
   ],
   "source": [
    "piSerie(100000)"
   ]
  },
  {
   "cell_type": "markdown",
   "metadata": {},
   "source": [
    "<hr>"
   ]
  },
  {
   "cell_type": "markdown",
   "metadata": {},
   "source": [
    "## Aula 13/03/2020"
   ]
  },
  {
   "cell_type": "markdown",
   "metadata": {},
   "source": [
    "## Exercícios:"
   ]
  },
  {
   "cell_type": "markdown",
   "metadata": {},
   "source": [
    "**1.** Gerar $[1, \\frac{1}{2}, \\frac{1}{3}, \\frac{1}{4}, \\frac{1}{5}, \\frac{1}{6}]$"
   ]
  },
  {
   "cell_type": "code",
   "execution_count": 137,
   "metadata": {},
   "outputs": [
    {
     "data": {
      "text/plain": [
       "[1.0, 0.5, 0.3333333333333333, 0.25, 0.2, 0.16666666666666666]"
      ]
     },
     "execution_count": 137,
     "metadata": {},
     "output_type": "execute_result"
    }
   ],
   "source": [
    "[1/n for n in range(1,7)]"
   ]
  },
  {
   "cell_type": "markdown",
   "metadata": {},
   "source": [
    "**2.** Função que gera $[1, \\frac{1}{2}, \\frac{1}{4}, \\frac{1}{8}, ..., \\frac{1}{2^n}]$"
   ]
  },
  {
   "cell_type": "code",
   "execution_count": 138,
   "metadata": {},
   "outputs": [],
   "source": [
    "def sequencia(n):\n",
    "    return [1/2**k for k in range(n+1)]"
   ]
  },
  {
   "cell_type": "code",
   "execution_count": 139,
   "metadata": {},
   "outputs": [
    {
     "data": {
      "text/plain": [
       "[1.0, 0.5, 0.25, 0.125, 0.0625]"
      ]
     },
     "execution_count": 139,
     "metadata": {},
     "output_type": "execute_result"
    }
   ],
   "source": [
    "sequencia(4)"
   ]
  },
  {
   "cell_type": "markdown",
   "metadata": {},
   "source": [
    "**3.** Função que recebe n e soma a sequência acima"
   ]
  },
  {
   "cell_type": "code",
   "execution_count": 140,
   "metadata": {},
   "outputs": [],
   "source": [
    "def serie(n):\n",
    "    soma = 0\n",
    "    \n",
    "    for x in sequencia(n):\n",
    "        soma += x\n",
    "        \n",
    "    return soma"
   ]
  },
  {
   "cell_type": "code",
   "execution_count": 141,
   "metadata": {},
   "outputs": [
    {
     "data": {
      "text/plain": [
       "1.99609375"
      ]
     },
     "execution_count": 141,
     "metadata": {},
     "output_type": "execute_result"
    }
   ],
   "source": [
    "serie(8)"
   ]
  },
  {
   "cell_type": "markdown",
   "metadata": {},
   "source": [
    "**4.** Uma função que recebe n e retorna n!"
   ]
  },
  {
   "cell_type": "code",
   "execution_count": 142,
   "metadata": {},
   "outputs": [],
   "source": [
    "def fatorial(n):\n",
    "    if n < 0:\n",
    "        return\n",
    "    \n",
    "    produto = 1\n",
    "    \n",
    "    for i in range(1, n+1):\n",
    "        produto *= i\n",
    "        \n",
    "    return produto"
   ]
  },
  {
   "cell_type": "code",
   "execution_count": 143,
   "metadata": {},
   "outputs": [
    {
     "name": "stdout",
     "output_type": "stream",
     "text": [
      "O fatorial de 0 é 1\n",
      "O fatorial de 1 é 1\n",
      "O fatorial de 2 é 2\n",
      "O fatorial de 3 é 6\n",
      "O fatorial de 4 é 24\n",
      "O fatorial de 5 é 120\n",
      "O fatorial de 6 é 720\n",
      "O fatorial de 7 é 5040\n",
      "O fatorial de 8 é 40320\n",
      "O fatorial de 9 é 362880\n"
     ]
    }
   ],
   "source": [
    "for i in range(10):\n",
    "    print(f\"O fatorial de {i} é {fatorial(i)}\")"
   ]
  },
  {
   "cell_type": "markdown",
   "metadata": {},
   "source": [
    "<hr>"
   ]
  },
  {
   "cell_type": "markdown",
   "metadata": {},
   "source": [
    "## Aula 19/03/2020"
   ]
  },
  {
   "cell_type": "markdown",
   "metadata": {},
   "source": [
    "## Exercício 1:\n",
    "Função em Python que recebe uma lista como parâmetro e retorna a soma dos valores da lista."
   ]
  },
  {
   "cell_type": "code",
   "execution_count": 144,
   "metadata": {},
   "outputs": [],
   "source": [
    "def somaLista(lista):\n",
    "    soma = 0\n",
    "    \n",
    "    for elemento in lista:\n",
    "        soma += elemento\n",
    "    \n",
    "    return soma"
   ]
  },
  {
   "cell_type": "code",
   "execution_count": 145,
   "metadata": {},
   "outputs": [
    {
     "data": {
      "text/plain": [
       "7"
      ]
     },
     "execution_count": 145,
     "metadata": {},
     "output_type": "execute_result"
    }
   ],
   "source": [
    "somaLista([1,3,5,-2])"
   ]
  },
  {
   "cell_type": "markdown",
   "metadata": {},
   "source": [
    "## Exercício 2:\n",
    "Função em Python que recebe uma inteiro positivo como parâmetro e retorna o seu fatorial."
   ]
  },
  {
   "cell_type": "code",
   "execution_count": 146,
   "metadata": {},
   "outputs": [],
   "source": [
    "def fatorial(n):\n",
    "    if n < 0: return\n",
    "    \n",
    "    produto = 1\n",
    "    for i in range(1, n+1):\n",
    "        produto *= i\n",
    "        \n",
    "    return produto"
   ]
  },
  {
   "cell_type": "code",
   "execution_count": 147,
   "metadata": {},
   "outputs": [
    {
     "name": "stdout",
     "output_type": "stream",
     "text": [
      "1 1 120\n"
     ]
    }
   ],
   "source": [
    "print(fatorial(0), fatorial(1), fatorial(5))"
   ]
  },
  {
   "cell_type": "markdown",
   "metadata": {},
   "source": [
    "## Exercício 3:\n",
    "Função em Python que gere a sequência: $$1, \\frac{1}{1!}, \\frac{1}{2!}, ... , \\frac{1}{n!}$$"
   ]
  },
  {
   "cell_type": "code",
   "execution_count": 148,
   "metadata": {},
   "outputs": [],
   "source": [
    "def geraSequencia(n):\n",
    "    return [1/fatorial(k) for k in range(n+1)]"
   ]
  },
  {
   "cell_type": "code",
   "execution_count": 149,
   "metadata": {},
   "outputs": [
    {
     "data": {
      "text/plain": [
       "[1.0,\n",
       " 1.0,\n",
       " 0.5,\n",
       " 0.16666666666666666,\n",
       " 0.041666666666666664,\n",
       " 0.008333333333333333,\n",
       " 0.001388888888888889,\n",
       " 0.0001984126984126984,\n",
       " 2.48015873015873e-05,\n",
       " 2.7557319223985893e-06,\n",
       " 2.755731922398589e-07]"
      ]
     },
     "execution_count": 149,
     "metadata": {},
     "output_type": "execute_result"
    }
   ],
   "source": [
    "geraSequencia(10)"
   ]
  },
  {
   "cell_type": "code",
   "execution_count": 150,
   "metadata": {},
   "outputs": [],
   "source": [
    "def geraSequencia2(n):\n",
    "    lista = []\n",
    "    for i in range(n+1):\n",
    "        lista = lista + [1/fatorial(i)]\n",
    "    return lista"
   ]
  },
  {
   "cell_type": "markdown",
   "metadata": {},
   "source": [
    "## Exercício 4:\n",
    "Usando as funções vistas nessa aula, fazer uma função que calcule o número 'e' com n parcelas"
   ]
  },
  {
   "cell_type": "code",
   "execution_count": 151,
   "metadata": {},
   "outputs": [],
   "source": [
    "def valorDeE(n):\n",
    "    return somaLista(geraSequencia(n))"
   ]
  },
  {
   "cell_type": "code",
   "execution_count": 152,
   "metadata": {},
   "outputs": [
    {
     "data": {
      "text/plain": [
       "2.7182818284590455"
      ]
     },
     "execution_count": 152,
     "metadata": {},
     "output_type": "execute_result"
    }
   ],
   "source": [
    "valorDeE(1000)"
   ]
  },
  {
   "cell_type": "markdown",
   "metadata": {},
   "source": [
    "## Exercício 5:\n",
    "Faça uma função que some os n primeiros números pares"
   ]
  },
  {
   "cell_type": "code",
   "execution_count": 153,
   "metadata": {},
   "outputs": [],
   "source": [
    "def somaPares(n):\n",
    "    return somaLista([2*k for k in range(n)])"
   ]
  },
  {
   "cell_type": "code",
   "execution_count": 154,
   "metadata": {},
   "outputs": [
    {
     "data": {
      "text/plain": [
       "90"
      ]
     },
     "execution_count": 154,
     "metadata": {},
     "output_type": "execute_result"
    }
   ],
   "source": [
    "somaPares(10)"
   ]
  },
  {
   "cell_type": "markdown",
   "metadata": {},
   "source": [
    "<hr>"
   ]
  },
  {
   "cell_type": "markdown",
   "metadata": {},
   "source": [
    "## Aula 20/03/2020"
   ]
  },
  {
   "cell_type": "markdown",
   "metadata": {},
   "source": [
    "## Exercício 6:\n",
    "Faça uma função que calcule o limite: $\\displaystyle\\lim_{x \\to \\infty} \\frac{x^3}{e^x}$"
   ]
  },
  {
   "cell_type": "code",
   "execution_count": 155,
   "metadata": {},
   "outputs": [],
   "source": [
    "import math\n",
    "\n",
    "def limite_f_x(n):\n",
    "    return [x**3 / math.e**x for x in range(n)]"
   ]
  },
  {
   "cell_type": "code",
   "execution_count": 156,
   "metadata": {},
   "outputs": [
    {
     "data": {
      "text/plain": [
       "[0.0,\n",
       " 0.36787944117144233,\n",
       " 1.0826822658929016,\n",
       " 1.3442508459323266,\n",
       " 1.1722008888789877,\n",
       " 0.8422433748856836,\n",
       " 0.5354104701599336,\n",
       " 0.31277551418519917,\n",
       " 0.17175686548608615,\n",
       " 0.08996574717918944,\n",
       " 0.04539992976248488,\n",
       " 0.022229963751816986,\n",
       " 0.010617198946551153,\n",
       " 0.0049659437071373795,\n",
       " 0.002281714805220192,\n",
       " 0.0010324203316936628,\n",
       " 0.0004609440756500857,\n",
       " 0.00020339514012391541,\n",
       " 8.882124187116414e-05,\n",
       " 3.842958076506816e-05]"
      ]
     },
     "execution_count": 156,
     "metadata": {},
     "output_type": "execute_result"
    }
   ],
   "source": [
    "limite_f_x(20)"
   ]
  },
  {
   "cell_type": "markdown",
   "metadata": {},
   "source": [
    "É possível perceber que, com o aumento de x, os valores da função se aproximam de 0, logo, dizemos que com x tendendo ao infinito, a função tende a zero."
   ]
  },
  {
   "cell_type": "markdown",
   "metadata": {},
   "source": [
    "**Representação gráfica**"
   ]
  },
  {
   "cell_type": "code",
   "execution_count": 157,
   "metadata": {
    "jupyter": {
     "source_hidden": true
    }
   },
   "outputs": [
    {
     "data": {
      "image/png": "[encoded data removed]",
      "text/plain": [
       "<Figure size 432x288 with 1 Axes>"
      ]
     },
     "metadata": {
      "needs_background": "light"
     },
     "output_type": "display_data"
    }
   ],
   "source": [
    "import matplotlib.pyplot as plt\n",
    "\n",
    "plt.plot(list(range(100)), limite_f_x(100))\n",
    "plt.grid()\n",
    "plt.show()"
   ]
  },
  {
   "cell_type": "markdown",
   "metadata": {},
   "source": [
    "Pela representação gráfica da função, podemos perceber que conforme x aumenta, ou seja, com x tendendo ao infinito, os valores de f(x) se aproximam de zero, chegando na mesma conclusão que tivemos ao observar os valores da lista: Quando x tende ao infinito, f(x) tende a zero, ou seja, o limite da função com n tendendo ao infinito é 0."
   ]
  },
  {
   "cell_type": "markdown",
   "metadata": {},
   "source": [
    "## Exercício 7:\n",
    "Faça uma função que calcule o limite: $\\displaystyle\\lim_{x \\to 0} x^{4x}$"
   ]
  },
  {
   "cell_type": "markdown",
   "metadata": {},
   "source": [
    "**Resolução do professor**"
   ]
  },
  {
   "cell_type": "code",
   "execution_count": 158,
   "metadata": {},
   "outputs": [],
   "source": [
    "def g(x):\n",
    "    return x**(4*x)"
   ]
  },
  {
   "cell_type": "code",
   "execution_count": 159,
   "metadata": {},
   "outputs": [],
   "source": [
    "def limite_g_x(n):\n",
    "    # Como a função vai ser chamada com valores de n muito grandes, vou imprimir só os ultimos 20 valores, para a lista não\n",
    "    # ficar muito grande\n",
    "    return [g(1/i) for i in range(1, n)][-20:]"
   ]
  },
  {
   "cell_type": "code",
   "execution_count": 160,
   "metadata": {},
   "outputs": [
    {
     "data": {
      "text/plain": [
       "[0.9999447384594827,\n",
       " 0.999944738510744,\n",
       " 0.9999447385620049,\n",
       " 0.9999447386132658,\n",
       " 0.9999447386645267,\n",
       " 0.9999447387157875,\n",
       " 0.999944738767048,\n",
       " 0.9999447388183086,\n",
       " 0.999944738869569,\n",
       " 0.9999447389208294,\n",
       " 0.9999447389720897,\n",
       " 0.9999447390233498,\n",
       " 0.9999447390746098,\n",
       " 0.9999447391258698,\n",
       " 0.9999447391771297,\n",
       " 0.9999447392283894,\n",
       " 0.999944739279649,\n",
       " 0.9999447393309085,\n",
       " 0.9999447393821681,\n",
       " 0.9999447394334274]"
      ]
     },
     "execution_count": 160,
     "metadata": {},
     "output_type": "execute_result"
    }
   ],
   "source": [
    "limite_g_x(1000000)"
   ]
  },
  {
   "cell_type": "markdown",
   "metadata": {},
   "source": [
    "Olhando os resultados, podemos perceber que os valores já estão muito próximos a 1 (as 4 primeiras casas decimais já valem 9), portanto podemos dizer que o limite da função quando x tende a 0 é 1."
   ]
  },
  {
   "cell_type": "markdown",
   "metadata": {},
   "source": [
    "**Representação gráfica**"
   ]
  },
  {
   "cell_type": "code",
   "execution_count": 161,
   "metadata": {
    "jupyter": {
     "source_hidden": true
    }
   },
   "outputs": [
    {
     "name": "stderr",
     "output_type": "stream",
     "text": [
      "C:\\Users\\marco\\Anaconda3\\lib\\site-packages\\numpy\\core\\numeric.py:538: ComplexWarning: Casting complex values to real discards the imaginary part\n",
      "  return array(a, dtype, copy=False, order=order)\n"
     ]
    },
    {
     "data": {
      "image/png": "[encoded data removed]",
      "text/plain": [
       "<Figure size 432x288 with 1 Axes>"
      ]
     },
     "metadata": {
      "needs_background": "light"
     },
     "output_type": "display_data"
    }
   ],
   "source": [
    "valores1 = [i/100 for i in range(-100, 1)]\n",
    "valores2 = [i/100 for i in range(0, 100)]\n",
    "resultados1 = [g(x) for x in valores1]\n",
    "resultados2 = [g(x) for x in valores2]\n",
    "\n",
    "plt.plot(valores1, resultados1, 'b')\n",
    "plt.plot(valores2, resultados2, 'b')\n",
    "plt.scatter([0], [1], color='red')\n",
    "plt.grid()\n",
    "plt.show()"
   ]
  },
  {
   "cell_type": "markdown",
   "metadata": {},
   "source": [
    "Estamos interessados nas proximidades do ponto x = 0, pois queremos saber o limite da função quando x tende a esse valor. Esse ponto está marcado pelo círculo vermelho no gráfico, e podemos ver que o valor da função se aproxima de 1 quando nos aproximamos desse valor. Então, podemos dizer que o limite da função quando x tende a zero é 1."
   ]
  },
  {
   "cell_type": "markdown",
   "metadata": {},
   "source": [
    "**Resolução feita antes da aula** (está correta mas tem pouca legibilidade)"
   ]
  },
  {
   "cell_type": "code",
   "execution_count": 162,
   "metadata": {},
   "outputs": [],
   "source": [
    "def limite_g_x2(n):\n",
    "    return [(1/i)**(4*(1/i)) for i in range(1,n)][-1]"
   ]
  },
  {
   "cell_type": "code",
   "execution_count": 163,
   "metadata": {},
   "outputs": [
    {
     "data": {
      "text/plain": [
       "0.9999447394334274"
      ]
     },
     "execution_count": 163,
     "metadata": {},
     "output_type": "execute_result"
    }
   ],
   "source": [
    "limite_g_x2(1000000)"
   ]
  },
  {
   "cell_type": "markdown",
   "metadata": {},
   "source": [
    "## Exercício 8:\n",
    "Faça uma função que calcule o limite: $\\displaystyle\\lim_{x \\to \\infty} (1 + \\frac{2}{x})^x$"
   ]
  },
  {
   "cell_type": "code",
   "execution_count": 164,
   "metadata": {},
   "outputs": [],
   "source": [
    "def h(x):\n",
    "    return (1 + 2/x)**x"
   ]
  },
  {
   "cell_type": "code",
   "execution_count": 165,
   "metadata": {},
   "outputs": [],
   "source": [
    "def limite_h_x(n):\n",
    "    return [h(x) for x in range(1,n)]"
   ]
  },
  {
   "cell_type": "code",
   "execution_count": 166,
   "metadata": {},
   "outputs": [
    {
     "data": {
      "text/plain": [
       "[7.389054622469524,\n",
       " 7.389054623656614,\n",
       " 7.38905462484341,\n",
       " 7.3890546260299095,\n",
       " 7.3890546272161135,\n",
       " 7.389054628402023,\n",
       " 7.389054613180665,\n",
       " 7.389054614365983,\n",
       " 7.389054615551004,\n",
       " 7.38905461673573,\n",
       " 7.389054617920161,\n",
       " 7.3890546191042965,\n",
       " 7.389054620288136,\n",
       " 7.389054621471682,\n",
       " 7.389054622654931,\n",
       " 7.389054623837885,\n",
       " 7.389054625020544,\n",
       " 7.389054626202908,\n",
       " 7.389054627384976,\n",
       " 7.389054628566749]"
      ]
     },
     "execution_count": 166,
     "metadata": {},
     "output_type": "execute_result"
    }
   ],
   "source": [
    "limite_h_x(10000000)[-20:]"
   ]
  },
  {
   "cell_type": "markdown",
   "metadata": {},
   "source": [
    "Observando os valores, é possível perceber que, com o aumento do x, os resultados tendem a 7.39. Graficamente, também é possível perceber que o resultado se aproxima deste valor:"
   ]
  },
  {
   "cell_type": "code",
   "execution_count": 167,
   "metadata": {
    "jupyter": {
     "source_hidden": true
    }
   },
   "outputs": [
    {
     "data": {
      "image/png": "[encoded data removed]",
      "text/plain": [
       "<Figure size 432x288 with 1 Axes>"
      ]
     },
     "metadata": {
      "needs_background": "light"
     },
     "output_type": "display_data"
    }
   ],
   "source": [
    "plt.plot(list(range(1,200)), limite_h_x(200))\n",
    "plt.hlines(7.4, -10, 200, linestyles=\"dashed\")\n",
    "plt.xlim((-10,200))\n",
    "plt.grid()\n",
    "plt.show()"
   ]
  },
  {
   "cell_type": "markdown",
   "metadata": {},
   "source": [
    "## Exercício 9:\n",
    "Faça uma função que calcule o limite: $\\displaystyle\\lim_{x \\to 0} \\frac{3^x - 2^x}{x^2}$"
   ]
  },
  {
   "cell_type": "code",
   "execution_count": 168,
   "metadata": {},
   "outputs": [],
   "source": [
    "def i(x):\n",
    "    return (3**x - 2**x)/x**2"
   ]
  },
  {
   "cell_type": "code",
   "execution_count": 169,
   "metadata": {},
   "outputs": [],
   "source": [
    "def limite_i_x(n):\n",
    "    return [i(1/x) for x in range(1,n)]"
   ]
  },
  {
   "cell_type": "code",
   "execution_count": 170,
   "metadata": {},
   "outputs": [
    {
     "data": {
      "text/plain": [
       "[4054643.3228306184,\n",
       " 4054643.7562865512,\n",
       " 4054644.1453336533,\n",
       " 4054644.5565850525,\n",
       " 4054644.945631984,\n",
       " 4054645.379087615,\n",
       " 4054645.7681343798,\n",
       " 4054646.1793854595,\n",
       " 4054646.568432053,\n",
       " 4054646.979682971,\n",
       " 4054647.3909338093,\n",
       " 4054647.80218457,\n",
       " 4054648.191230827,\n",
       " 4054648.6024814253,\n",
       " 4054648.9915275103,\n",
       " 4054649.4249823843,\n",
       " 4054649.8140283045,\n",
       " 4054650.225278583,\n",
       " 4054650.636528783,\n",
       " 4054651.047778904]"
      ]
     },
     "execution_count": 170,
     "metadata": {},
     "output_type": "execute_result"
    }
   ],
   "source": [
    "limite_i_x(10000000)[-20:]"
   ]
  },
  {
   "cell_type": "markdown",
   "metadata": {},
   "source": [
    "Aparentemente, essa função tende ao infinito, já que os valores parecem ser sempre crescentes. Observando o gráfico, temos:"
   ]
  },
  {
   "cell_type": "code",
   "execution_count": 171,
   "metadata": {
    "jupyter": {
     "source_hidden": true
    }
   },
   "outputs": [
    {
     "data": {
      "image/png": "[encoded data removed]",
      "text/plain": [
       "<Figure size 432x288 with 1 Axes>"
      ]
     },
     "metadata": {
      "needs_background": "light"
     },
     "output_type": "display_data"
    }
   ],
   "source": [
    "lista = [1/x for x in range(1,200)]\n",
    "lista2 = [-1/x for x in range(1,200)]\n",
    "resultados2 = [i(-1/x) for x in range(1,200)]\n",
    "plt.plot(lista, limite_i_x(200), 'b')\n",
    "plt.plot(lista2, resultados2, 'b')\n",
    "plt.hlines(0, -1, 1, linestyles=\"dashed\")\n",
    "plt.vlines(0, -100, 100, linestyles=\"dashed\")\n",
    "plt.xlim((-1,1))\n",
    "plt.grid()\n",
    "plt.show()"
   ]
  },
  {
   "cell_type": "markdown",
   "metadata": {},
   "source": [
    "Podemos perceber, pelo gráfico, que quando nos aproximamos de zero com valores negativos, a função tende a menos infinito, enquanto quando nos aproximamos de zero com valores maiores que zero, o resultado tende a mais infinito. Como não temos o mesmo valor dos dois lados, não existe limite para essa função quando x tende a zero."
   ]
  },
  {
   "cell_type": "markdown",
   "metadata": {},
   "source": [
    "## Exercício 10:\n",
    "Faça uma função que calcule o limite: $\\displaystyle\\lim_{x \\to \\infty} \\frac{2x^3 - x^2 +3x + 1}{3x^3 +2x^2 - x -1}$"
   ]
  },
  {
   "cell_type": "code",
   "execution_count": 172,
   "metadata": {},
   "outputs": [],
   "source": [
    "def j(x):\n",
    "    return (2*x**3 - x**2 + 3*x + 1)/(3*x**3 + 2*x**2 - x - 1)"
   ]
  },
  {
   "cell_type": "code",
   "execution_count": 173,
   "metadata": {},
   "outputs": [],
   "source": [
    "def limite_j_x(n):\n",
    "    return [j(x) for x in range(n)]"
   ]
  },
  {
   "cell_type": "code",
   "execution_count": 174,
   "metadata": {},
   "outputs": [
    {
     "data": {
      "text/plain": [
       "[0.6666588875071651,\n",
       " 0.6666588875849696,\n",
       " 0.6666588876627727,\n",
       " 0.6666588877405742,\n",
       " 0.6666588878183742,\n",
       " 0.6666588878961727,\n",
       " 0.6666588879739695,\n",
       " 0.6666588880517648,\n",
       " 0.6666588881295585,\n",
       " 0.6666588882073508,\n",
       " 0.6666588882851413,\n",
       " 0.6666588883629304,\n",
       " 0.666658888440718,\n",
       " 0.666658888518504,\n",
       " 0.6666588885962883,\n",
       " 0.6666588886740712,\n",
       " 0.6666588887518524,\n",
       " 0.6666588888296322,\n",
       " 0.6666588889074104,\n",
       " 0.666658888985187]"
      ]
     },
     "execution_count": 174,
     "metadata": {},
     "output_type": "execute_result"
    }
   ],
   "source": [
    "limite_j_x(100000)[-20:]"
   ]
  },
  {
   "cell_type": "markdown",
   "metadata": {},
   "source": [
    "Observando os valores, percebemos que a função tende a 0.667 quando x tende ao infinito, logo, o limite de i(x) quando i tende ao infinito é 0.667"
   ]
  },
  {
   "cell_type": "code",
   "execution_count": 175,
   "metadata": {
    "jupyter": {
     "source_hidden": true
    }
   },
   "outputs": [
    {
     "data": {
      "image/png": "[encoded data removed]",
      "text/plain": [
       "<Figure size 432x288 with 1 Axes>"
      ]
     },
     "metadata": {
      "needs_background": "light"
     },
     "output_type": "display_data"
    }
   ],
   "source": [
    "plt.plot(list(range(50)), limite_j_x(50))\n",
    "plt.hlines(0.667, -10, 200, linestyles=\"dashed\")\n",
    "plt.xlim((-1,50))\n",
    "plt.grid()\n",
    "plt.show()"
   ]
  },
  {
   "cell_type": "raw",
   "metadata": {},
   "source": [
    "Graficamente também chegamos na mesma conclusão."
   ]
  },
  {
   "cell_type": "markdown",
   "metadata": {},
   "source": [
    "## Exercício 11\n",
    "Faça uma função que calcule o limite: $\\displaystyle\\lim_{x \\to 3} \\frac{x^3 - 2x^2 - 2x - 3}{x^2 - 9}$"
   ]
  },
  {
   "cell_type": "code",
   "execution_count": 176,
   "metadata": {},
   "outputs": [],
   "source": [
    "def k(x):\n",
    "    return (x**3 - 2*x**2 - 2*x - 3) / (x**2 - 9)"
   ]
  },
  {
   "cell_type": "code",
   "execution_count": 177,
   "metadata": {},
   "outputs": [],
   "source": [
    "def limite_k_x(n):\n",
    "    return [k(3 - 1/x) for x in range(1, n)]"
   ]
  },
  {
   "cell_type": "code",
   "execution_count": 178,
   "metadata": {},
   "outputs": [
    {
     "data": {
      "text/plain": [
       "[2.1658447049509566,\n",
       " 2.1658455427978884,\n",
       " 2.165846378939684,\n",
       " 2.1658472133793243,\n",
       " 2.165848046122152,\n",
       " 2.1658488771752933,\n",
       " 2.1658497065431943,\n",
       " 2.165850534229018,\n",
       " 2.165851360241121,\n",
       " 2.1658521845811243,\n",
       " 2.1658530072570183,\n",
       " 2.1658538282730735,\n",
       " 2.1658546476333442,\n",
       " 2.1658554653439723,\n",
       " 2.165856281408044,\n",
       " 2.1658570958318624,\n",
       " 2.16585790862206,\n",
       " 2.165858719780977,\n",
       " 2.165859529314422,\n",
       " 2.165860337227298]"
      ]
     },
     "execution_count": 178,
     "metadata": {},
     "output_type": "execute_result"
    }
   ],
   "source": [
    "limite_k_x(1000)[-20:]"
   ]
  },
  {
   "cell_type": "markdown",
   "metadata": {},
   "source": [
    "Observando os valores, parece que o limite da função com x tendendo a 3 é 2.166."
   ]
  },
  {
   "cell_type": "code",
   "execution_count": 179,
   "metadata": {},
   "outputs": [
    {
     "data": {
      "image/png": "[encoded data removed]",
      "text/plain": [
       "<Figure size 432x288 with 1 Axes>"
      ]
     },
     "metadata": {
      "needs_background": "light"
     },
     "output_type": "display_data"
    }
   ],
   "source": [
    "lista1 = [3 - 1/i for i in range(1,5000)]\n",
    "lista2 = [3 + 1/i for i in range(1,5000)]\n",
    "resultados2 = [k(3 + 1/x) for x in range(1, 5000)]\n",
    "plt.plot(lista1, limite_k_x(5000))\n",
    "plt.plot(lista2, resultados2)\n",
    "plt.hlines(2.166, 2.75, 3.25, linestyles=\"dashed\")\n",
    "plt.xlim((2.75,3.25))\n",
    "plt.grid()\n",
    "plt.show()"
   ]
  },
  {
   "cell_type": "markdown",
   "metadata": {},
   "source": [
    "<hr>"
   ]
  },
  {
   "cell_type": "markdown",
   "metadata": {},
   "source": [
    "## Aula 26/03/2020"
   ]
  },
  {
   "cell_type": "markdown",
   "metadata": {},
   "source": [
    "## Exercício 1"
   ]
  },
  {
   "cell_type": "markdown",
   "metadata": {},
   "source": [
    "Efetuar a soma dos valores da lista abaixo cujo valor seja maior ou igual a 7"
   ]
  },
  {
   "cell_type": "code",
   "execution_count": 180,
   "metadata": {},
   "outputs": [],
   "source": [
    "lista = [9, 6.7, 4, 9.3, 10, 8.9, 5, 6, 2, 9.2, 7.4]"
   ]
  },
  {
   "cell_type": "code",
   "execution_count": 181,
   "metadata": {},
   "outputs": [],
   "source": [
    "def somaMaiorQueSete(lista):\n",
    "    soma = 0\n",
    "    \n",
    "    for nota in lista:\n",
    "        if nota >= 7.0:\n",
    "            soma = soma + nota\n",
    "    \n",
    "    return soma"
   ]
  },
  {
   "cell_type": "code",
   "execution_count": 182,
   "metadata": {},
   "outputs": [
    {
     "data": {
      "text/plain": [
       "53.800000000000004"
      ]
     },
     "execution_count": 182,
     "metadata": {},
     "output_type": "execute_result"
    }
   ],
   "source": [
    "somaMaiorQueSete(lista)"
   ]
  },
  {
   "cell_type": "markdown",
   "metadata": {},
   "source": [
    "## **Programação funcional**"
   ]
  },
  {
   "cell_type": "markdown",
   "metadata": {},
   "source": [
    "### *Lambda* (funções anônimas)"
   ]
  },
  {
   "cell_type": "code",
   "execution_count": 183,
   "metadata": {},
   "outputs": [
    {
     "data": {
      "text/plain": [
       "<function __main__.<lambda>(x, y)>"
      ]
     },
     "execution_count": 183,
     "metadata": {},
     "output_type": "execute_result"
    }
   ],
   "source": [
    "lambda x, y: x + y"
   ]
  },
  {
   "cell_type": "code",
   "execution_count": 184,
   "metadata": {},
   "outputs": [
    {
     "data": {
      "text/plain": [
       "5"
      ]
     },
     "execution_count": 184,
     "metadata": {},
     "output_type": "execute_result"
    }
   ],
   "source": [
    "_(2,3)"
   ]
  },
  {
   "cell_type": "code",
   "execution_count": 185,
   "metadata": {},
   "outputs": [
    {
     "data": {
      "text/plain": [
       "53.800000000000004"
      ]
     },
     "execution_count": 185,
     "metadata": {},
     "output_type": "execute_result"
    }
   ],
   "source": [
    "sum(filter(lambda x : x > 7.0, lista))"
   ]
  },
  {
   "cell_type": "markdown",
   "metadata": {},
   "source": [
    "**Nota:** Assim como os objetos de um *range*, o *filter* também gera um item de cada vez, utilizando menos memória do que as listas."
   ]
  },
  {
   "cell_type": "markdown",
   "metadata": {},
   "source": [
    "## Exercício 2"
   ]
  },
  {
   "cell_type": "markdown",
   "metadata": {},
   "source": [
    "Filtrar os valores da lista [5, 7, 2, 13, 67, 5, 25, 8, 11] que são maiores do que 10 "
   ]
  },
  {
   "cell_type": "code",
   "execution_count": 186,
   "metadata": {},
   "outputs": [
    {
     "data": {
      "text/plain": [
       "[13, 67, 25, 11]"
      ]
     },
     "execution_count": 186,
     "metadata": {},
     "output_type": "execute_result"
    }
   ],
   "source": [
    "list(filter(lambda x: x > 10, [5, 7, 2, 13, 67, 5, 25, 8, 11]))"
   ]
  },
  {
   "cell_type": "markdown",
   "metadata": {},
   "source": [
    "As funções filter e map podem ser substituídas por list comprehensions, como mostra o exemplo abaixo. Os objetos gerados pelas funções filter e map têm a vantagem de precisarem de menos memória que a lista, porém são menos legíveis."
   ]
  },
  {
   "cell_type": "code",
   "execution_count": 187,
   "metadata": {},
   "outputs": [
    {
     "data": {
      "text/plain": [
       "[13, 67, 25, 11]"
      ]
     },
     "execution_count": 187,
     "metadata": {},
     "output_type": "execute_result"
    }
   ],
   "source": [
    "[x for x in [5, 7, 2, 13, 67, 5, 25, 8, 11] if x > 10]"
   ]
  },
  {
   "cell_type": "code",
   "execution_count": 188,
   "metadata": {},
   "outputs": [
    {
     "data": {
      "text/plain": [
       "[10, 14, 4, 26, 134, 10, 50, 16, 22]"
      ]
     },
     "execution_count": 188,
     "metadata": {},
     "output_type": "execute_result"
    }
   ],
   "source": [
    "list(map(lambda x: x*2, [5, 7, 2, 13, 67, 5, 25, 8, 11]))"
   ]
  },
  {
   "cell_type": "code",
   "execution_count": 189,
   "metadata": {},
   "outputs": [
    {
     "data": {
      "text/plain": [
       "[10, 14, 4, 26, 134, 10, 50, 16, 22]"
      ]
     },
     "execution_count": 189,
     "metadata": {},
     "output_type": "execute_result"
    }
   ],
   "source": [
    "[x*2 for x in [5, 7, 2, 13, 67, 5, 25, 8, 11]]"
   ]
  },
  {
   "cell_type": "markdown",
   "metadata": {},
   "source": [
    "## Exercício 3"
   ]
  },
  {
   "cell_type": "markdown",
   "metadata": {},
   "source": [
    "Usando a função map, aumente em 10% cada nota da lista [9, 6.7, 4, 9.3, 10, 8.9, 5, 6, 2, 9.2, 7.4]"
   ]
  },
  {
   "cell_type": "code",
   "execution_count": 190,
   "metadata": {},
   "outputs": [
    {
     "data": {
      "text/plain": [
       "[9.9,\n",
       " 7.370000000000001,\n",
       " 4.4,\n",
       " 10.230000000000002,\n",
       " 11.0,\n",
       " 9.790000000000001,\n",
       " 5.5,\n",
       " 6.6000000000000005,\n",
       " 2.2,\n",
       " 10.12,\n",
       " 8.14]"
      ]
     },
     "execution_count": 190,
     "metadata": {},
     "output_type": "execute_result"
    }
   ],
   "source": [
    "list(map(lambda x: 1.1*x, [9, 6.7, 4, 9.3, 10, 8.9, 5, 6, 2, 9.2, 7.4]))"
   ]
  },
  {
   "cell_type": "code",
   "execution_count": 191,
   "metadata": {},
   "outputs": [],
   "source": [
    "import functools"
   ]
  },
  {
   "cell_type": "code",
   "execution_count": 192,
   "metadata": {},
   "outputs": [
    {
     "data": {
      "text/plain": [
       "815494537.152"
      ]
     },
     "execution_count": 192,
     "metadata": {},
     "output_type": "execute_result"
    }
   ],
   "source": [
    "functools.reduce(lambda x, y: x*y, [9, 6.7, 4, 9.3, 10, 8.9, 5, 6, 2, 9.2, 7.4])"
   ]
  },
  {
   "cell_type": "markdown",
   "metadata": {},
   "source": [
    "## Exercício 4"
   ]
  },
  {
   "cell_type": "markdown",
   "metadata": {},
   "source": [
    "Pegar a lista. Dar um acréscimo de 10% em cada nota. Após aumentar a nota, somar as notas maiores do que sete. Tudo em uma linha só!"
   ]
  },
  {
   "cell_type": "code",
   "execution_count": 193,
   "metadata": {},
   "outputs": [
    {
     "data": {
      "text/plain": [
       "48.18"
      ]
     },
     "execution_count": 193,
     "metadata": {},
     "output_type": "execute_result"
    }
   ],
   "source": [
    "functools.reduce(lambda x, y: x + y, filter(lambda x : x > 7, map(lambda x: x*1.1, [9, 6.7, 4, 10, 8.9, 5, 6, 2, 9.2])))"
   ]
  },
  {
   "cell_type": "code",
   "execution_count": 194,
   "metadata": {},
   "outputs": [
    {
     "data": {
      "text/plain": [
       "48.18"
      ]
     },
     "execution_count": 194,
     "metadata": {},
     "output_type": "execute_result"
    }
   ],
   "source": [
    "sum([x for x in [1.1*y for y in [9, 6.7, 4, 10, 8.9, 5, 6, 2, 9.2]] if x > 7])"
   ]
  },
  {
   "cell_type": "markdown",
   "metadata": {},
   "source": [
    "<hr>"
   ]
  },
  {
   "cell_type": "markdown",
   "metadata": {},
   "source": [
    "## Aula 27/03/2020"
   ]
  },
  {
   "cell_type": "markdown",
   "metadata": {},
   "source": [
    "## Exercício 2"
   ]
  },
  {
   "cell_type": "markdown",
   "metadata": {},
   "source": [
    "Considerando a sequência $ 1, \\frac{1}{2}, \\frac{1}{4}, \\frac{1}{6}, \\frac{1}{8}, \\frac{1}{2n}$, escreva uma função em Python que some as **n** primeiras parcelas da sequência da sequência para cada um dos modelos computacionais citados a seguir."
   ]
  },
  {
   "cell_type": "markdown",
   "metadata": {},
   "source": [
    "**while**"
   ]
  },
  {
   "cell_type": "code",
   "execution_count": 195,
   "metadata": {},
   "outputs": [],
   "source": [
    "def somaWhile(n):\n",
    "    i = 1\n",
    "    soma = 0\n",
    "    \n",
    "    while i <= n:\n",
    "        soma = soma + 1/(2*i)\n",
    "        print(f\"1/2i = {1/(2*i)}   soma = {soma}\")\n",
    "        i = i + 1\n",
    "    \n",
    "    return soma"
   ]
  },
  {
   "cell_type": "code",
   "execution_count": 196,
   "metadata": {},
   "outputs": [
    {
     "name": "stdout",
     "output_type": "stream",
     "text": [
      "1/2i = 0.5   soma = 0.5\n",
      "1/2i = 0.25   soma = 0.75\n",
      "1/2i = 0.16666666666666666   soma = 0.9166666666666666\n",
      "1/2i = 0.125   soma = 1.0416666666666665\n",
      "1/2i = 0.1   soma = 1.1416666666666666\n"
     ]
    },
    {
     "data": {
      "text/plain": [
       "1.1416666666666666"
      ]
     },
     "execution_count": 196,
     "metadata": {},
     "output_type": "execute_result"
    }
   ],
   "source": [
    "somaWhile(5)"
   ]
  },
  {
   "cell_type": "raw",
   "metadata": {},
   "source": [
    "Ideia:\n",
    "0) Vou precisar de uma função, para que o parâmetro n possa variar.\n",
    "    def somaWhile(n):\n",
    "\n",
    "1) Vou precisar ir de 1/2 até 1/2n, então vou precisar de uma variável pra saber em que ponto estou (variável i, que começa em 1)\n",
    "        i = 1\n",
    "        \n",
    "2) Também vou precisar de um contador, para determinar a soma\n",
    "        soma = 0\n",
    "\n",
    "3) O comando while é um ENQUANTO, e vai repetir o bloco de comandos enquanto uma expressão for verdadeira. Eu preciso repetir as somas n vezes, então posso colocar while i <= n (Depois preciso ir aumentando o i)\n",
    "        while i <= n:\n",
    "        \n",
    "4) Cada vez que eu entrar no while, eu preciso somar o valor 1/(2i)\n",
    "            soma = soma + 1/(2*i)\n",
    "\n",
    "5) Por fim, eu preciso incrementar o valor de i, para que eventualmente eu saia do laço\n",
    "            i = i + 1\n",
    "\n",
    "Deixei o comando print ali pra podermos ver o que está acontecendo quando chamamos somaWhile(5):\n",
    "    Da primeira vez que ele entra, i = 1, então 1/2i = 0.5 e a soma vai passar a ser soma = 1.5. No final, aumentamos i.\n",
    "    Agora, entramos com i = 2, então 1/2i = 0.25 e a soma vai passar a ser soma = 1.75. No final, aumentamos i.\n",
    "    E por aí vai, até que entramos com i = 5, temos 1/2i = 0.1, a soma passa a ser soma = 2.141666666666667. Quando aumentamos i, ele passa a ser 6.\n",
    "    Quando vamos tentar entrar mais uma vez no while, a comparação i <= n se traduz para 6 <= 5, que é falso, então a função sai do bloco while e retorna o valor soma.\n",
    "    "
   ]
  },
  {
   "cell_type": "markdown",
   "metadata": {},
   "source": [
    "**for**"
   ]
  },
  {
   "cell_type": "code",
   "execution_count": 13,
   "metadata": {},
   "outputs": [],
   "source": [
    "def somaFor(n):\n",
    "    soma = 0\n",
    "    \n",
    "    for i in range(1,n+1):\n",
    "        soma += 1/(2*i)\n",
    "    \n",
    "    return soma"
   ]
  },
  {
   "cell_type": "code",
   "execution_count": 15,
   "metadata": {},
   "outputs": [
    {
     "data": {
      "text/plain": [
       "1.1416666666666666"
      ]
     },
     "execution_count": 15,
     "metadata": {},
     "output_type": "execute_result"
    }
   ],
   "source": [
    "somaFor(5)"
   ]
  },
  {
   "cell_type": "raw",
   "metadata": {},
   "source": [
    "Ideia:\n",
    "0) Vou precisar de uma função, para que o parâmetro n possa variar.\n",
    "    def somaFor(n):\n",
    "\n",
    "2) Vou precisar de um contador, para determinar a soma (começa em 1, por causa do primeiro termo da série)\n",
    "        soma = 0\n",
    "\n",
    "3) Nesse caso, a variável i entra direto no for no comando for i in range(1, n+1). Pensando no caso de chamarmos somaFor(5), é como se esse comando for fosse escrito da seguinte forma: for i in [1,2,3,4,5]: (O for não é uma lista, mas dá pra pensar assim, pra facilitar)\n",
    "        for i in range(1, n+1):\n",
    "   \n",
    "   Obs: Comecei em 1 para não ter divisão por zero e teminei em n+1 para o termo 1/2n ser incluído na soma\n",
    "        \n",
    "4) Cada vez que eu entrar no for, eu preciso somar o valor 1/(2i)\n",
    "            soma = soma + 1/(2*i)\n",
    "\n",
    "5) Depois de passar por todos os valores do range, a soma é retornada\n",
    "        return soma"
   ]
  },
  {
   "cell_type": "markdown",
   "metadata": {},
   "source": [
    "**Filter, map e reduce**"
   ]
  },
  {
   "cell_type": "code",
   "execution_count": 5,
   "metadata": {},
   "outputs": [],
   "source": [
    "import functools\n",
    "\n",
    "def somaFMP(n):\n",
    "    return functools.reduce(lambda x,y : x+y, map(lambda x: 1/(2*x), range(1,n+1)))"
   ]
  },
  {
   "cell_type": "code",
   "execution_count": 7,
   "metadata": {},
   "outputs": [
    {
     "data": {
      "text/plain": [
       "1.1416666666666666"
      ]
     },
     "execution_count": 7,
     "metadata": {},
     "output_type": "execute_result"
    }
   ],
   "source": [
    "somaFMP(5)"
   ]
  },
  {
   "cell_type": "raw",
   "metadata": {},
   "source": [
    "Ideia:\n",
    "Nesse exercício eu pensei de dentro para fora, ou seja, primeiro na função map e depois na reduce.\n",
    "\n",
    "0) Primeiro eu preciso gerar a lista de valores que eu quero e depois somá-los.\n",
    "\n",
    "1) A função map gerará a lista dos elementos para mim, e ela funciona da seguinte forma: vai aplicar uma função à uma lista de valores. A função que eu quero que seja aplicada é 1/(2*x), e eu quero que ela seja aplicada a todos os valores entre 1 e n (range(1,n+1))\n",
    "    map(lambda x: 1/(2*x), range(1,n+1))\n",
    "\n",
    "2) Agora, eu preciso somar os valores gerados, e para isso vou usar a função reduce da biblioteca functools (functools.reduce). A expressão que eu quero que seja aplicada é: lambda x,y : x+y, então:\n",
    "    functools.reduce(lambda x,y : x+y, map(lambda x: 1/(2*x), range(1,n+1))"
   ]
  },
  {
   "cell_type": "markdown",
   "metadata": {},
   "source": [
    "**List comprehension**"
   ]
  },
  {
   "cell_type": "code",
   "execution_count": 9,
   "metadata": {},
   "outputs": [],
   "source": [
    "def somaListComprehension(n):\n",
    "    return functools.reduce(lambda x,y : x+y, [1/(2*i) for i in range(1, n+1)])"
   ]
  },
  {
   "cell_type": "code",
   "execution_count": 11,
   "metadata": {},
   "outputs": [
    {
     "data": {
      "text/plain": [
       "1.1416666666666666"
      ]
     },
     "execution_count": 11,
     "metadata": {},
     "output_type": "execute_result"
    }
   ],
   "source": [
    "somaListComprehension(5)"
   ]
  },
  {
   "cell_type": "markdown",
   "metadata": {},
   "source": [
    "## Exercício 3"
   ]
  },
  {
   "cell_type": "markdown",
   "metadata": {},
   "source": [
    "Determinar o maior valor da lista $$[7, 8.9, 5.7, 9, 6, 10, 4.2, 8.5, 7.8, 6.9, 9.1]$$ usando reduce."
   ]
  },
  {
   "cell_type": "code",
   "execution_count": 203,
   "metadata": {},
   "outputs": [],
   "source": [
    "def maiorDaLista(lista):\n",
    "    return functools.reduce(lambda x, y: x if x > y else y, lista)"
   ]
  },
  {
   "cell_type": "code",
   "execution_count": 204,
   "metadata": {},
   "outputs": [
    {
     "data": {
      "text/plain": [
       "10"
      ]
     },
     "execution_count": 204,
     "metadata": {},
     "output_type": "execute_result"
    }
   ],
   "source": [
    "maiorDaLista([7,8.9,5.7,9,6,10,4.2,8.5,7.8,6.9,9.1])"
   ]
  },
  {
   "cell_type": "markdown",
   "metadata": {},
   "source": [
    "<hr>"
   ]
  },
  {
   "cell_type": "markdown",
   "metadata": {},
   "source": [
    "## Aula 02/04/2020"
   ]
  },
  {
   "cell_type": "markdown",
   "metadata": {},
   "source": [
    "Na aula anterior, as soluções com **for** e **while** fazem parte do **paradigma imperativo** de computação, já as outras soluções fazem parte do **paradigma funcional** de programação."
   ]
  },
  {
   "cell_type": "markdown",
   "metadata": {},
   "source": [
    "No paradigma funcional, é feita a composição de funções (uma chamando a outra)."
   ]
  },
  {
   "cell_type": "markdown",
   "metadata": {},
   "source": [
    "Nas aula dessa semana, foram discutidos os princípios básicos para a criação de gráficos em Python utilizando a biblioteca matplotlib.pyplot (ver o notebook GraficosDeFuncoes.ipynb), e foram passados alguns exercícios para treinar a geração de gráficos:"
   ]
  },
  {
   "cell_type": "markdown",
   "metadata": {},
   "source": [
    "## Exercícios"
   ]
  },
  {
   "cell_type": "markdown",
   "metadata": {},
   "source": [
    "1. Implemente uma função definida por partes para cada item a seguir:\n",
    "\n",
    "  - Plotar uma pista de skate.\n",
    "  \n",
    "  - Plotar a fachada de uma casa.\n",
    "\n",
    "  - Plotar uma figura livremente escolhida."
   ]
  },
  {
   "cell_type": "code",
   "execution_count": 205,
   "metadata": {},
   "outputs": [],
   "source": [
    "def pista_de_skate(x):\n",
    "    if x == -3 or x == 3:\n",
    "        return -2\n",
    "    if x <= -2 or x >= 2:\n",
    "        return 4\n",
    "    return x**2"
   ]
  },
  {
   "cell_type": "code",
   "execution_count": 206,
   "metadata": {},
   "outputs": [
    {
     "data": {
      "image/png": "[encoded data removed]",
      "text/plain": [
       "<Figure size 432x288 with 1 Axes>"
      ]
     },
     "metadata": {
      "needs_background": "light"
     },
     "output_type": "display_data"
    }
   ],
   "source": [
    "import matplotlib.pyplot as plt\n",
    "import numpy as np\n",
    "\n",
    "X = np.linspace(-3, 3, 100, endpoint=True)\n",
    "X = np.append(X, -3)\n",
    "y = [pista_de_skate(x) for x in X]\n",
    "\n",
    "plt.plot(X,y)\n",
    "plt.xlim(-3.2,3.2)\n",
    "plt.show()"
   ]
  },
  {
   "cell_type": "code",
   "execution_count": 207,
   "metadata": {},
   "outputs": [],
   "source": [
    "def telhado_casa(x):\n",
    "    if x == -2 or x == 2:\n",
    "        return 0\n",
    "    return 10 - abs(x)"
   ]
  },
  {
   "cell_type": "code",
   "execution_count": 208,
   "metadata": {},
   "outputs": [
    {
     "data": {
      "image/png": "[encoded data removed]",
      "text/plain": [
       "<Figure size 432x288 with 1 Axes>"
      ]
     },
     "metadata": {
      "needs_background": "light"
     },
     "output_type": "display_data"
    }
   ],
   "source": [
    "X = np.linspace(-3, 3, 601)\n",
    "y = [telhado_casa(x) for x in X]\n",
    "\n",
    "plt.plot(X,y)\n",
    "plt.show()"
   ]
  },
  {
   "cell_type": "code",
   "execution_count": 209,
   "metadata": {},
   "outputs": [
    {
     "data": {
      "image/png": "[encoded data removed]",
      "text/plain": [
       "<Figure size 432x288 with 1 Axes>"
      ]
     },
     "metadata": {
      "needs_background": "light"
     },
     "output_type": "display_data"
    }
   ],
   "source": [
    "import math\n",
    "X = np.linspace(0,2*math.pi,360)\n",
    "y = [1-math.sin(x) for x in X]\n",
    "\n",
    "plt.polar(X,y,'r')\n",
    "plt.fill_between(X,y,color='r')\n",
    "plt.show()"
   ]
  },
  {
   "cell_type": "markdown",
   "metadata": {},
   "source": [
    "Plotar $y = x^3 -1$"
   ]
  },
  {
   "cell_type": "code",
   "execution_count": 210,
   "metadata": {},
   "outputs": [
    {
     "data": {
      "image/png": "[encoded data removed]",
      "text/plain": [
       "<Figure size 432x288 with 1 Axes>"
      ]
     },
     "metadata": {
      "needs_background": "light"
     },
     "output_type": "display_data"
    }
   ],
   "source": [
    "X = np.linspace(-2,2,80)\n",
    "\n",
    "y = X**3 - 1\n",
    "\n",
    "plt.plot(X,y, label=\"x³ - 1\")\n",
    "plt.legend()\n",
    "plt.grid()\n",
    "plt.show()"
   ]
  },
  {
   "cell_type": "markdown",
   "metadata": {},
   "source": [
    "---"
   ]
  },
  {
   "cell_type": "markdown",
   "metadata": {},
   "source": [
    "# Aula 16/04/2020"
   ]
  },
  {
   "cell_type": "markdown",
   "metadata": {},
   "source": [
    "<h3>Tópicos da aula:</h3>\n",
    "<ul>\n",
    "    <li>Estudo da velocidade de variação para precossos que variam continuamente</li>\n",
    "    <ul>\n",
    "        <li>Conceito de derivada</li>\n",
    "        <li>Interpretação gráfica da derivada</li></ul>"
   ]
  },
  {
   "cell_type": "markdown",
   "metadata": {},
   "source": [
    "Quando temos a curva que representa um processo com variação contínua ao longo do tempo, podemos medir a velocidade (taxa de variação) com que esse fenômeno varia por meio da inclinação da reta tangente à curva no ponto de interesse. Isso quer dizer que, se temos um gráfico em que a inclinação da reta tangente no ponto a, medida com relação ao eixo x, é maior que a inclinação da reta tangente ao ponto b, podemos dizer que no ponto a, a taxa de variação do fenômeno medido é maior que a taxa de variação em b.\n",
    "Abaixo será reproduzido o *notebook* fornecido pelo professor, que exemplifica melhor a afirmação acima por meio de exemplos gráficos e da definição de derivada."
   ]
  },
  {
   "cell_type": "markdown",
   "metadata": {},
   "source": [
    "## **REPRODUÇÃO DO NOTEBOOK DO PROFESSOR**"
   ]
  },
  {
   "cell_type": "markdown",
   "metadata": {},
   "source": [
    "## O Problema da Tangente"
   ]
  },
  {
   "cell_type": "markdown",
   "metadata": {},
   "source": [
    "Como medir a velocidade com que processos variam?"
   ]
  },
  {
   "cell_type": "markdown",
   "metadata": {},
   "source": [
    "Curvas representando o número de infectados pelo Novo Coronavírus em regiões da Itália."
   ]
  },
  {
   "attachments": {
    "3-bergamo-lodi-coronavirus.jpg": {
     "image/jpeg": "[encoded data removed]"
    }
   },
   "cell_type": "markdown",
   "metadata": {},
   "source": [
    "![3-bergamo-lodi-coronavirus.jpg](attachment:3-bergamo-lodi-coronavirus.jpg)"
   ]
  },
  {
   "attachments": {
    "numero-positivos-coronavirus-diario-italia.png": {
     "image/png": "[encoded data removed]"
    }
   },
   "cell_type": "markdown",
   "metadata": {},
   "source": [
    "![numero-positivos-coronavirus-diario-italia.png](attachment:numero-positivos-coronavirus-diario-italia.png)"
   ]
  },
  {
   "cell_type": "markdown",
   "metadata": {},
   "source": [
    "Para *processos que variam continuamente*, a *velocidade de variação* pode ser medida pela ***inclinação da reta tangente à curva que representa o processo***.\n",
    "\n",
    "Quanto maior a variação do processo, maior será a abertura do ângulo que a reta tangente forma com o eixo horizontal. Reciprocamente, quanto menor a variação, menor será a abertura do ângulo da tangente.\n",
    "\n",
    "A abertura do ângulo é medida por meio da *tangente trigonométrica* que a reta tangente forma com o eixo horizontal (em geral eixo X)."
   ]
  },
  {
   "attachments": {
    "tangentes.png": {
     "image/png": "[encoded data removed]"
    }
   },
   "cell_type": "markdown",
   "metadata": {},
   "source": [
    "![tangentes.png](attachment:tangentes.png)"
   ]
  },
  {
   "cell_type": "markdown",
   "metadata": {},
   "source": [
    "## Secantes e tangentes"
   ]
  },
  {
   "attachments": {
    "secantes.png": {
     "image/png": "[encoded data removed]"
    }
   },
   "cell_type": "markdown",
   "metadata": {},
   "source": [
    "![secantes.png](attachment:secantes.png)"
   ]
  },
  {
   "cell_type": "markdown",
   "metadata": {},
   "source": [
    "## O Coeficiente Diferencial"
   ]
  },
  {
   "cell_type": "code",
   "execution_count": 211,
   "metadata": {
    "jupyter": {
     "source_hidden": true
    }
   },
   "outputs": [
    {
     "data": {
      "image/png": "[encoded data removed]",
      "text/plain": [
       "<Figure size 432x288 with 1 Axes>"
      ]
     },
     "metadata": {
      "needs_background": "light"
     },
     "output_type": "display_data"
    }
   ],
   "source": [
    "from matplotlib import pyplot as plt\n",
    "import numpy as np\n",
    "\n",
    "X = np.linspace(-0, 11, 100) #, endpoint=True)\n",
    "\n",
    "# fplot = lambda x: 8*quadrado(x)\n",
    "fplot = lambda x: x**3\n",
    "\n",
    "Fm = [fplot(x) for x in X]\n",
    "\n",
    "plt.xlabel('X')\n",
    "plt.ylabel('Y')\n",
    "\n",
    "plt.grid(True, linestyle='-.')\n",
    "\n",
    "plt.title(\"Coeficiente diferencial\")\n",
    "\n",
    "plt.plot(X, Fm, color=\"red\", linewidth=2.0, linestyle=\"-\")\n",
    "\n",
    "a = 2\n",
    "for i in [6, 8, 10]:\n",
    "  plt.plot([a, i], [fplot(a), fplot(i)], color=\"blue\", linewidth=1.0, linestyle=\"-\")\n",
    "  plt.plot([a, i], [fplot(a), fplot(a)], color=\"blue\", linewidth=1.0, linestyle=\"-.\")\n",
    "  plt.plot((i, i), (fplot(a), fplot(i)), color=\"blue\", linewidth=1.0, linestyle=\"-.\")\n",
    "\n",
    "plt.savefig(\"multiplas_partes.png\", dpi=72)\n",
    "\n",
    "# Show result on screen\n",
    "plt.show()"
   ]
  },
  {
   "cell_type": "markdown",
   "metadata": {},
   "source": [
    "Para determinar *tangentes a uma curva*, utiliza-se o *coeficiente diferencial*, definido pela expressão:\n",
    "\n",
    "$$\\frac{f(a+h) - f(a)}{h}$$"
   ]
  },
  {
   "cell_type": "markdown",
   "metadata": {},
   "source": [
    "$$\\frac{f(2 + 8) - f(2)}{8}$$"
   ]
  },
  {
   "cell_type": "markdown",
   "metadata": {},
   "source": [
    "Exercícios:\n",
    "\n",
    "Calcular o *coeficiente diferencial* da função:\n",
    "\n",
    "1. $f(x) = 2x$.\n",
    "1. $f(x) = x^2$.\n",
    "1. $f(x) = x^2 + 1$.\n",
    "1. $f(x) = 3x - 2$\n",
    "1. $g(x) = x^3$\n",
    "1. $g(x) = x^2 + x - 2$\n",
    "\n",
    "Calcular o *coeficiente diferencial* das funções acima para $a = 3$:"
   ]
  },
  {
   "cell_type": "markdown",
   "metadata": {},
   "source": [
    "1. $\\frac{f(a+h) - f(a)}{h} = \\frac{2(a+h) - 2a}{h} = \\frac{2a + 2h - 2a}{h} = \\frac{2h}{h} = 2$\n",
    "2. $\\frac{f(a+h) - f(a)}{h} = \\frac{(a+h)^2 - a^2}{h} = \\frac{a^2 + 2ah + h^2 - a^2}{h} = \\frac{h(2a + h)}{h} = 2a + h$\n",
    "3. $\\frac{f(a+h) - f(a)}{h} = \\frac{(a+h)^2 + 1 - (a^2 + 1)}{h} = \\frac{a^2 + 2ah + h^2 + 1 - a^2 - 1}{h} = \\frac{2ah + h^2}{h} = \\frac{h(2a + h)}{h} = 2a + h$\n",
    "4. $\\frac{f(a+h) - f(a)}{h} = \\frac{3(a + h) - 2 - (3a - 2)}{h} = \\frac{3a + 3h - 2 - 3a + 2}{h} = \\frac{3h}{h} = 3$\n",
    "5. $\\frac{f(a+h) - f(a)}{h} = \\frac{(a+h)^3 - a^3}{h} = \\frac{a^3 + 3ah^2 + 3a^2h + h^3 - a^3}{h} = \\frac{h(3a^2 + 3ah + h^2)}{h} = 3a^2 + 3ah + h^2$\n",
    "6. $\\frac{f(a+h) - f(a)}{h} = \\frac{(a+h)^2+(a+h)-2-(a^2 + a - 2)}{h} = \\frac{a^2 + 2ah + h^2 + a + h - 2 - a^2 - a + 2}{h} = \\frac{2ah + h^2 + h}{h} = \\frac{h(2a + h + 1)}{h} = 2a + h + 1$"
   ]
  },
  {
   "cell_type": "markdown",
   "metadata": {},
   "source": [
    "### Exercício A"
   ]
  },
  {
   "cell_type": "markdown",
   "metadata": {},
   "source": [
    "Escreva uma função geral para calcular o *coeficiente diferencial* de uma função. A função deve receber como parâmetros $f$, $a$ e $h$"
   ]
  },
  {
   "cell_type": "code",
   "execution_count": 212,
   "metadata": {},
   "outputs": [],
   "source": [
    "def coeficienteDiferencial(f, a, h):\n",
    "    return (f(a + h) - f(a))/h"
   ]
  },
  {
   "cell_type": "markdown",
   "metadata": {},
   "source": [
    "Ou, caso desejemos definir com uma expressão lambda:"
   ]
  },
  {
   "cell_type": "code",
   "execution_count": 213,
   "metadata": {},
   "outputs": [
    {
     "data": {
      "text/plain": [
       "<function __main__.<lambda>(f, a, h)>"
      ]
     },
     "execution_count": 213,
     "metadata": {},
     "output_type": "execute_result"
    }
   ],
   "source": [
    "lambda f, a, h : (f(a + h) - f(a))/h"
   ]
  },
  {
   "cell_type": "code",
   "execution_count": 214,
   "metadata": {},
   "outputs": [
    {
     "data": {
      "text/plain": [
       "12.006000999997823"
      ]
     },
     "execution_count": 214,
     "metadata": {},
     "output_type": "execute_result"
    }
   ],
   "source": [
    "_(lambda x: x**3 - 1, 2, 0.001)"
   ]
  },
  {
   "cell_type": "markdown",
   "metadata": {},
   "source": [
    "Use a sua função para determinar os coeficientes diferenciais das funções a seguir para valores de $a$ e $h$ escolhidos por você.\n",
    "\n",
    "1. $g(x) = x^3 - 1$\n",
    "1. $f(x) = x^2 + 3x - 5$\n",
    "1. $g(x) = \\frac{\\mathrm{sin}(x)}{x}$"
   ]
  },
  {
   "cell_type": "code",
   "execution_count": 215,
   "metadata": {},
   "outputs": [
    {
     "name": "stdout",
     "output_type": "stream",
     "text": [
      "Item 1: 12.006000999997823\n",
      "Item 2: 11.001000000003813\n",
      "Item 3: -0.3182085442066214\n"
     ]
    }
   ],
   "source": [
    "# Item 1:\n",
    "print(f\"Item 1: {coeficienteDiferencial(lambda x: x**3 - 1, 2, 0.001)}\")\n",
    "\n",
    "# Item 2:\n",
    "print(f\"Item 2: {coeficienteDiferencial(lambda x: x**2 + 3*x - 5, 4, 0.001)}\")\n",
    "\n",
    "# Item 3:\n",
    "import math\n",
    "print(f\"Item 3: {coeficienteDiferencial(lambda x: math.sin(x)/x, math.pi, 0.001)}\")"
   ]
  },
  {
   "cell_type": "markdown",
   "metadata": {},
   "source": [
    "## Exercício B"
   ]
  },
  {
   "cell_type": "markdown",
   "metadata": {},
   "source": [
    "Calcule manualmente o limite\n",
    "\n",
    "$$\\displaystyle\\lim_{h\\rightarrow 0}\\frac{f(a+h) - f(a)}{h}$$"
   ]
  },
  {
   "cell_type": "markdown",
   "metadata": {},
   "source": [
    "Para as funções:\n",
    "\n",
    "1. $f(x) = 2x$. Sabemos pelo exercício A que para $f(x) = 2x$ a expressão $\\frac{f(a+h) - f(a)}{h}$  se reduz a 2, então estamos interessados em calcular $\\displaystyle\\lim_{h\\rightarrow 0}2 = 2$\n",
    "1. $f(x) = x^2$. Sabemos pelo exercício A que para $f(x) = x^2$ a expressão $\\frac{f(a+h) - f(a)}{h}$  se reduz a 2a + h, então estamos interessados em calcular $\\displaystyle\\lim_{h\\rightarrow 0}2a + h = 2a$\n",
    "1. $f(x) = x^2 + 1$. Sabemos pelo exercício A que para $f(x) = x^2 + 1$ a expressão $\\frac{f(a+h) - f(a)}{h}$  se reduz a 2a + h, então estamos interessados em calcular $\\displaystyle\\lim_{h\\rightarrow 0}2a + h = 2a$\n"
   ]
  },
  {
   "cell_type": "code",
   "execution_count": 216,
   "metadata": {},
   "outputs": [
    {
     "data": {
      "text/plain": [
       "[4.001020408164049,\n",
       " 4.001019367991283,\n",
       " 4.00101832993945,\n",
       " 4.001017293998561,\n",
       " 4.001016260162558,\n",
       " 4.001015228425491,\n",
       " 4.001014198782036,\n",
       " 4.00101317122627,\n",
       " 4.001012145748675,\n",
       " 4.0010111223454174,\n",
       " 4.00101010101098,\n",
       " 4.0010090817360195,\n",
       " 4.001008064515787,\n",
       " 4.001007049345364,\n",
       " 4.001006036216632,\n",
       " 4.001005025124944,\n",
       " 4.001004016064332,\n",
       " 4.001003009027109,\n",
       " 4.001002004007011,\n",
       " 4.001001001001474]"
      ]
     },
     "execution_count": 216,
     "metadata": {},
     "output_type": "execute_result"
    }
   ],
   "source": [
    "[(lambda f, a, h: (f(a + h) - f(a))/h)(lambda x: x**2, 2, 1/h) for h in range(1,1000)][-20:]"
   ]
  },
  {
   "cell_type": "markdown",
   "metadata": {},
   "source": [
    "## Exercício C"
   ]
  },
  {
   "cell_type": "markdown",
   "metadata": {},
   "source": [
    "Utilizando a sua função geral para determinar coeficientes diferenciais, calcule, para cada uma das funções a seguir, o limite:\n",
    "\n",
    "$$\\displaystyle\\lim_{h\\rightarrow 0}\\frac{f(a+h) - f(a)}{h}$$"
   ]
  },
  {
   "cell_type": "markdown",
   "metadata": {},
   "source": [
    "1. $g(x) = x^3 - 1$\n",
    "1. $f(x) = x^2 + 3x - 5$"
   ]
  },
  {
   "cell_type": "code",
   "execution_count": 217,
   "metadata": {},
   "outputs": [
    {
     "data": {
      "text/plain": [
       "[12.006123490213126,\n",
       " 12.006117247060567,\n",
       " 12.00611101663152,\n",
       " 12.006104798876645,\n",
       " 12.006098593760724,\n",
       " 12.006092401245043,\n",
       " 12.0060862212942,\n",
       " 12.006080053874193,\n",
       " 12.006073898932911,\n",
       " 12.006067756442004,\n",
       " 12.006061626366886,\n",
       " 12.006055508661197,\n",
       " 12.006049403291172,\n",
       " 12.006043310221353,\n",
       " 12.006037229410785,\n",
       " 12.006031160826874,\n",
       " 12.00602510443453,\n",
       " 12.006019060188777,\n",
       " 12.006013028057486,\n",
       " 12.006007008010457]"
      ]
     },
     "execution_count": 217,
     "metadata": {},
     "output_type": "execute_result"
    }
   ],
   "source": [
    "[coeficienteDiferencial(lambda x : x**3 - 1, 2, 1/h) for h in range(1,1000)][-20:]"
   ]
  },
  {
   "cell_type": "code",
   "execution_count": 218,
   "metadata": {},
   "outputs": [
    {
     "data": {
      "text/plain": [
       "[7.1000000000000085,\n",
       " 7.0099999999998275,\n",
       " 7.000999999998925,\n",
       " 7.000100000027487,\n",
       " 7.000010000091094,\n",
       " 7.000001001955525,\n",
       " 7.000000081802682,\n",
       " 6.999999868639861,\n",
       " 7.000000579182597]"
      ]
     },
     "execution_count": 218,
     "metadata": {},
     "output_type": "execute_result"
    }
   ],
   "source": [
    "[coeficienteDiferencial(lambda x: x**2 + 3*x - 5, 2, 1/10**h) for h in range(1,10)]"
   ]
  },
  {
   "cell_type": "markdown",
   "metadata": {},
   "source": [
    "---"
   ]
  },
  {
   "cell_type": "markdown",
   "metadata": {},
   "source": [
    "## Aula 23/04/2020"
   ]
  },
  {
   "cell_type": "markdown",
   "metadata": {},
   "source": [
    "<h3>Tópicos da aula:</h3>\n",
    "<ul>\n",
    "    <li>Discussão sobre as resoluções dos exercícios propostos na aula passada</li>\n",
    "    <li>Continuação dos conceitos de derivada</li>\n",
    "    <li>Apresentação das regras gerais para cálculo de derivadas</li>\n",
    "    <li>Apresentação das funcionalidades da biblioteca simpy, que realiza cálculos simbólicos e pode auxiliar no cálculo de derivadas</li>\n",
    "    <li>Conceito de derivadas sucessivas</li>\n",
    "</ul>"
   ]
  },
  {
   "cell_type": "markdown",
   "metadata": {},
   "source": [
    "### **Soluções dos colegas para o exercício da aula passada**"
   ]
  },
  {
   "cell_type": "markdown",
   "metadata": {},
   "source": [
    "### **Biblioteca simpy**"
   ]
  },
  {
   "cell_type": "code",
   "execution_count": 1,
   "metadata": {},
   "outputs": [],
   "source": [
    "from __future__ import division\n",
    "import sympy as sym\n",
    "from sympy import *\n",
    "\n",
    "from IPython.display import display\n",
    "\n",
    "from sympy.interactive import printing\n",
    "printing.init_printing()\n",
    "\n",
    "# Definição de símbolos com a biblioteca sympy\n",
    "x, y, z, h = symbols(\"x y z h\")\n",
    "\n",
    "# Definição de variáveis com a biblioteca sympy\n",
    "a, b, k, m, n = symbols(\"a b k m n\", integer=True)\n",
    "\n",
    "# Definição de funções com a biblioteca sympy\n",
    "f, g = map(Function, 'fg')\n"
   ]
  },
  {
   "cell_type": "code",
   "execution_count": 220,
   "metadata": {},
   "outputs": [
    {
     "data": {
      "image/png": "[encoded data removed]",
      "text/latex": [
       "$\\displaystyle 2 x$"
      ],
      "text/plain": [
       "2⋅x"
      ]
     },
     "execution_count": 220,
     "metadata": {},
     "output_type": "execute_result"
    }
   ],
   "source": [
    "# Declaração de uma função com sympy\n",
    "quadratica = x**2\n",
    "# Derivada da função previamente definida com relação a x\n",
    "diff(quadratica, x)"
   ]
  },
  {
   "cell_type": "code",
   "execution_count": 221,
   "metadata": {},
   "outputs": [
    {
     "data": {
      "image/png": "[encoded data removed]",
      "text/latex": [
       "$\\displaystyle 6 x^{2} + 1$"
      ],
      "text/plain": [
       "   2    \n",
       "6⋅x  + 1"
      ]
     },
     "execution_count": 221,
     "metadata": {},
     "output_type": "execute_result"
    }
   ],
   "source": [
    "cubica = 2*x**3 + x\n",
    "diff(cubica)"
   ]
  },
  {
   "cell_type": "code",
   "execution_count": 224,
   "metadata": {},
   "outputs": [],
   "source": [
    "a = sin(x)"
   ]
  },
  {
   "cell_type": "code",
   "execution_count": 232,
   "metadata": {},
   "outputs": [
    {
     "name": "stdout",
     "output_type": "stream",
     "text": [
      "sin(x)\n"
     ]
    }
   ],
   "source": [
    "a = diff(a)\n",
    "print(a)"
   ]
  },
  {
   "cell_type": "markdown",
   "metadata": {},
   "source": [
    "### **Regras gerais de derivadas**"
   ]
  },
  {
   "cell_type": "markdown",
   "metadata": {},
   "source": [
    "1. A derivada de uma constante é zero.\n",
    "1. $(x^n)' \\mapsto n*x^{n-1}$\n",
    "1. $sen(x)' \\mapsto cos(x)$\n",
    "1. $cos(x)' \\mapsto -sen(x)$\n",
    "1. $e^x \\mapsto e^x$\n",
    "1. $e^{nx} \\mapsto n*e^{nx}$"
   ]
  },
  {
   "cell_type": "code",
   "execution_count": 237,
   "metadata": {},
   "outputs": [
    {
     "data": {
      "image/png": "[encoded data removed]",
      "text/latex": [
       "$\\displaystyle 2 e^{2 x}$"
      ],
      "text/plain": [
       "   2⋅x\n",
       "2⋅ℯ   "
      ]
     },
     "execution_count": 237,
     "metadata": {},
     "output_type": "execute_result"
    }
   ],
   "source": [
    "diff(exp(2*x))"
   ]
  },
  {
   "cell_type": "code",
   "execution_count": 3,
   "metadata": {},
   "outputs": [
    {
     "data": {
      "image/png": "[encoded data removed]",
      "text/latex": [
       "$\\displaystyle 0$"
      ],
      "text/plain": [
       "0"
      ]
     },
     "execution_count": 3,
     "metadata": {},
     "output_type": "execute_result"
    }
   ],
   "source": [
    "limit(x/(x**2-1),x,0)"
   ]
  },
  {
   "cell_type": "code",
   "execution_count": 4,
   "metadata": {},
   "outputs": [
    {
     "data": {
      "image/png": "[encoded data removed]",
      "text/latex": [
       "$\\displaystyle -\\infty$"
      ],
      "text/plain": [
       "-∞"
      ]
     },
     "execution_count": 4,
     "metadata": {},
     "output_type": "execute_result"
    }
   ],
   "source": [
    "limit((x**2-1)/x,x,0)"
   ]
  },
  {
   "cell_type": "markdown",
   "metadata": {},
   "source": [
    "---"
   ]
  },
  {
   "cell_type": "markdown",
   "metadata": {},
   "source": [
    "## Aula 30/04/2020"
   ]
  },
  {
   "cell_type": "markdown",
   "metadata": {},
   "source": [
    "### Derivadas e Funções"
   ]
  },
  {
   "cell_type": "markdown",
   "metadata": {},
   "source": [
    "Faremos o estudo de como as derivadas são usadas para estudar o comportamento de funções:\n",
    " - Funções crescentes\n",
    " - Funções decrescentes\n",
    " - Pontos críticos\n",
    "   - Máximos e mínimos\n",
    "   - Pontos de inflexão"
   ]
  },
  {
   "cell_type": "code",
   "execution_count": 1,
   "metadata": {},
   "outputs": [],
   "source": [
    "from matplotlib import pyplot as plt\n",
    "import numpy as np"
   ]
  },
  {
   "cell_type": "code",
   "execution_count": 9,
   "metadata": {},
   "outputs": [
    {
     "data": {
      "image/png": "[encoded data removed]",
      "text/plain": [
       "<Figure size 432x288 with 1 Axes>"
      ]
     },
     "metadata": {
      "needs_background": "light"
     },
     "output_type": "display_data"
    }
   ],
   "source": [
    "# import numpy as np\n",
    "X = np.linspace(-0.3, 0.3, 200)\n",
    "\n",
    "reta = 2 * X # operação vetorizada\n",
    "# reta = [2*x for x in X]\n",
    "# reta = list(map(lambda x:2*x, X))\n",
    "parabola = X**2 # - 10*X - 20\n",
    "d_parabola = reta\n",
    "# parabola = [x**2 for x in X]\n",
    "# parabola = list(map(lambda x:x**2, X))\n",
    "cubica = X**3\n",
    "d_cubica = 3*X**2\n",
    "\n",
    "C = np.cos(X) \n",
    "# S = np.sin(X)\n",
    "\n",
    "plt.grid(True, linestyle='-.')\n",
    "# plt.plot(X, reta)\n",
    "plt.plot(X, d_cubica)\n",
    "plt.plot(X, cubica)\n",
    "# plt.plot(X, C)\n",
    "# plt.plot(X, S)\n",
    "\n",
    "plt.show()"
   ]
  },
  {
   "cell_type": "markdown",
   "metadata": {},
   "source": [
    "**Função crescente:** Uma função é crescente quando temos $ x_1 \\leq x_2 \\longrightarrow f(x_1) \\leq f(x_2)$."
   ]
  },
  {
   "cell_type": "markdown",
   "metadata": {},
   "source": [
    "**Função decrescente:** Uma função é decrescente quando temos $x_1 \\leq x_2 \\longrightarrow f(x_1) \\geq f(x_2)$"
   ]
  },
  {
   "cell_type": "markdown",
   "metadata": {},
   "source": [
    "**Função par:** Uma função é par quando há simetria na representação da função com relação ao eixo dos y $f(x) = f(-x)$"
   ]
  },
  {
   "cell_type": "markdown",
   "metadata": {},
   "source": [
    "**Função ímpar:** Uma função é ímpar quando temos $f(-x) = -f(x)$"
   ]
  },
  {
   "cell_type": "markdown",
   "metadata": {},
   "source": [
    "**Exercício:**\n",
    "1. $f(x) = (x-1)(x+1)(x+2)$\n",
    "1. Expandir a função (pode usar Sympy)\n",
    "1. Derivar a função expandida\n",
    "1. No mesmo gráfico plotar $f(x)$ e $f'(x)$\n",
    "1. Usando os gráficos, fazer uma análise de $f(x)$ a partir da sua derivada, mostrando os intervalos em que a $f(x)$ é *crescente* ou *decrescente* ou possui *pontos críticos*.\n",
    "\n",
    "Pressione Shift + Tab para acessar o histórico do bate-papo. "
   ]
  },
  {
   "cell_type": "code",
   "execution_count": 1,
   "metadata": {},
   "outputs": [
    {
     "data": {
      "image/png": "[encoded data removed]",
      "text/latex": [
       "$\\displaystyle x^{3} + 2 x^{2} - x - 2$"
      ],
      "text/plain": [
       " 3      2        \n",
       "x  + 2⋅x  - x - 2"
      ]
     },
     "execution_count": 1,
     "metadata": {},
     "output_type": "execute_result"
    }
   ],
   "source": [
    "import sympy as sym\n",
    "import matplotlib.pyplot as plt\n",
    "\n",
    "from IPython.display import display\n",
    "\n",
    "from sympy.interactive import printing\n",
    "printing.init_printing()\n",
    "\n",
    "# Definição de símbolos com a biblioteca sympy\n",
    "x = sym.symbols(\"x\")\n",
    "\n",
    "# Definição de funções com a biblioteca sympy\n",
    "f, g = map(sym.Function, 'fg')\n",
    "\n",
    "f = (x - 1)*(x + 1)*(x + 2)\n",
    "sym.expand(f)"
   ]
  },
  {
   "cell_type": "code",
   "execution_count": 59,
   "metadata": {},
   "outputs": [
    {
     "data": {
      "image/png": "[encoded data removed]",
      "text/latex": [
       "$\\displaystyle 3 x^{2} + 4 x - 1$"
      ],
      "text/plain": [
       "   2          \n",
       "3⋅x  + 4⋅x - 1"
      ]
     },
     "execution_count": 59,
     "metadata": {},
     "output_type": "execute_result"
    }
   ],
   "source": [
    "d_f = sym.expand(sym.diff(f))\n",
    "d_f"
   ]
  },
  {
   "cell_type": "code",
   "execution_count": 58,
   "metadata": {},
   "outputs": [
    {
     "data": {
      "image/png": "[encoded data removed]",
      "text/plain": [
       "<Figure size 432x288 with 1 Axes>"
      ]
     },
     "metadata": {
      "needs_background": "light"
     },
     "output_type": "display_data"
    }
   ],
   "source": [
    "p1 = sym.plotting.plot(f, (x, -4, 4), show=False)\n",
    "p2 = sym.plotting.plot(d_f, (x, -4, 4), show=False, line_color=\"red\")\n",
    "p1.append(p2[0])\n",
    "p1.show()"
   ]
  },
  {
   "cell_type": "code",
   "execution_count": 57,
   "metadata": {},
   "outputs": [
    {
     "data": {
      "image/png": "[encoded data removed]",
      "text/latex": [
       "$\\displaystyle \\left\\{- \\frac{2}{3} + \\frac{\\sqrt{7}}{3}, - \\frac{\\sqrt{7}}{3} - \\frac{2}{3}\\right\\}$"
      ],
      "text/plain": [
       "⎧  2   √7    √7   2⎫\n",
       "⎨- ─ + ──, - ── - ─⎬\n",
       "⎩  3   3     3    3⎭"
      ]
     },
     "execution_count": 57,
     "metadata": {},
     "output_type": "execute_result"
    }
   ],
   "source": [
    "sym.solveset(d_f, x)"
   ]
  },
  {
   "cell_type": "code",
   "execution_count": 56,
   "metadata": {},
   "outputs": [
    {
     "name": "stdout",
     "output_type": "stream",
     "text": [
      "0.21525043702153024\n",
      "-1.5485837703548635\n"
     ]
    }
   ],
   "source": [
    "print(-2/3 + 7**(0.5)/3)\n",
    "print(-7**(0.5)/3 - 2/3)"
   ]
  },
  {
   "cell_type": "markdown",
   "metadata": {},
   "source": [
    "A função $f(x)$ é crescente quando $x < -1.55$ e quando $x > 0.215$, pois é quando a derivada é maior do que 0 (pelo gráfico). Quando $ -1.55 < x < 0.215, f(x)$ é decrescente, já que a derivada da função é menor que zero nesse intervalo (pelo gráfico). Por fim, nos pontos x = -1.549 e x = 0.215, temos pontos críticos - de máximo e mínimo, respectivamente - já que a derivada vale zero nesses pontos."
   ]
  },
  {
   "cell_type": "markdown",
   "metadata": {},
   "source": [
    "---"
   ]
  },
  {
   "cell_type": "markdown",
   "metadata": {},
   "source": [
    "# Lista de Exercícios 1"
   ]
  },
  {
   "cell_type": "markdown",
   "metadata": {},
   "source": [
    "***Q1:*** $\\quad$ Gere as sequências a seguir por meio de *list comprehension*:\n",
    "  - $[ 1, {1 \\over 2}, {1 \\over 3}, {1 \\over 4}, {1 \\over 5}, {1 \\over 6}, \\cdots ] $\n",
    "  - $[ 1, {1 \\over 3}, {1 \\over 5}, {1 \\over 7}, {1 \\over 9} \\cdots ] $\n",
    "  - $[ 1, {1 \\over 1!}, {1 \\over 2!}, {1 \\over 3!}, {1 \\over 4!}, {1 \\over 5!},\n",
    "  \\cdots ]$\n",
    "  - $[1, {1 \\over 2}, {1 \\over 4}, {1 \\over 8}, {1 \\over 16}, \\cdots ]$"
   ]
  },
  {
   "cell_type": "code",
   "execution_count": 8,
   "metadata": {},
   "outputs": [
    {
     "name": "stdout",
     "output_type": "stream",
     "text": [
      "=================\n",
      "Problema 1: [1.0, 0.5, 0.3333333333333333, 0.25, 0.2, 0.16666666666666666, 0.14285714285714285, 0.125, 0.1111111111111111, 0.1]\n",
      "=================\n",
      "Problema 2: [1.0, 0.3333333333333333, 0.2, 0.14285714285714285, 0.1111111111111111, 0.09090909090909091, 0.07692307692307693, 0.06666666666666667, 0.058823529411764705, 0.05263157894736842]\n",
      "=================\n",
      "Problema 3: [1.0, 1.0, 0.5, 0.16666666666666666, 0.041666666666666664, 0.008333333333333333, 0.001388888888888889, 0.0001984126984126984, 2.48015873015873e-05, 2.7557319223985893e-06]\n",
      "=================\n",
      "Problema 4: [1.0, 0.5, 0.25, 0.125, 0.0625, 0.03125, 0.015625, 0.0078125, 0.00390625, 0.001953125]\n"
     ]
    }
   ],
   "source": [
    "import math\n",
    "\n",
    "n = 10\n",
    "# 1\n",
    "print(\"=================\")\n",
    "print(f\"Problema 1: {[1/i for i in range(1,n+1)]}\")\n",
    "\n",
    "# 2\n",
    "print(\"=================\")\n",
    "print(f\"Problema 2: {[1/(2*i + 1) for i in range(n)]}\")\n",
    "\n",
    "# 3\n",
    "print(\"=================\")\n",
    "print(f\"Problema 3: {[1/math.factorial(i) for i in range(n)]}\")\n",
    "\n",
    "# 4\n",
    "print(\"=================\")\n",
    "print(f\"Problema 4: {[1/(2**i) for i in range(n)]}\")"
   ]
  },
  {
   "cell_type": "markdown",
   "metadata": {},
   "source": [
    "***Q2:***$\\quad$ Escreva uma função que calcule $n!$, o fatorial de um número $n$ dado."
   ]
  },
  {
   "cell_type": "code",
   "execution_count": 45,
   "metadata": {},
   "outputs": [],
   "source": [
    "from functools import reduce\n",
    "\n",
    "# Solução com uma linha\n",
    "def fatorial(n):\n",
    "    return \"Não é possível calcular o fatorial de um número negativo\" if n < 0 else 1 if n == 0 else reduce(lambda x, y: x*y, list(range(1, n+1)))\n",
    "\n",
    "# Solução mais legível\n",
    "def fatorial_(n):\n",
    "    if n < 0:\n",
    "        return \"Não é possível calcular o fatorial de um número negativo\"\n",
    "    \n",
    "    produto = 1\n",
    "    for n in range(1, n+1):\n",
    "        produto *= n\n",
    "    \n",
    "    return f\"O fatorial de {n} é {produto}.\"\n"
   ]
  },
  {
   "cell_type": "code",
   "execution_count": 49,
   "metadata": {},
   "outputs": [
    {
     "data": {
      "text/plain": [
       "120"
      ]
     },
     "execution_count": 49,
     "metadata": {},
     "output_type": "execute_result"
    }
   ],
   "source": [
    "fatorial(5)"
   ]
  },
  {
   "cell_type": "markdown",
   "metadata": {},
   "source": [
    "***Q3:***$\\quad$ Escreva uma função que, dado o número $n$ de parcelas, calcule o valor do somatório\n",
    "$\\sum_{k = 1}^{n} {1 \\over k}$."
   ]
  },
  {
   "cell_type": "code",
   "execution_count": 52,
   "metadata": {},
   "outputs": [],
   "source": [
    "def soma_parcelas(n):\n",
    "    return reduce(lambda x, y: x + y, [1/i for i in range(1,n+1)])"
   ]
  },
  {
   "cell_type": "code",
   "execution_count": 53,
   "metadata": {},
   "outputs": [
    {
     "data": {
      "text/plain": [
       "5.187377517639621"
      ]
     },
     "execution_count": 53,
     "metadata": {},
     "output_type": "execute_result"
    }
   ],
   "source": [
    "soma_parcelas(100)"
   ]
  },
  {
   "cell_type": "markdown",
   "metadata": {},
   "source": [
    "***Q4:***$\\quad$ Escreva, em notação de somatório, as somas dos termos a seguir:\n",
    "  \n",
    "  - $1 + {1 \\over 2} + {1 \\over 3} + {1 \\over 4} + {1 \\over 5} + {1 \\over 6}+ \\cdots$\n",
    "  - $1 + {1 \\over 3} + {1 \\over 5} + {1 \\over 7} + {1 \\over 9} \\cdots$\n",
    "  - $1 + {1 \\over 1!}+ {1 \\over 2!}+ {1 \\over 3!} + {1 \\over 4!} + {1 \\over 5!} + \\cdots$\n",
    "  - $1 + 1 + {1 \\over 2} + {1 \\over 4} + {1 \\over 8} + {1 \\over 16} + \\cdots$"
   ]
  },
  {
   "cell_type": "markdown",
   "metadata": {},
   "source": [
    "Problema 1: $\\sum_{k = 1}^{n} {1 \\over k}$.  \n",
    "Problema 2: $\\sum_{k = 0}^{n} {1 \\over (2*n + 1)}$.  \n",
    "Problema 3: $\\sum_{k = 0}^{n} {1 \\over k!}$.  \n",
    "Problema 4: 1 + $\\sum_{k = 0}^{n} {1 \\over 2^k}$.  "
   ]
  },
  {
   "cell_type": "markdown",
   "metadata": {},
   "source": [
    "***Q5:***$\\quad$ Para cada uma das expressões da questão anterior, escreva uma\n",
    "função que compute o somatório indicado, para um número $n$ de parcelas dado."
   ]
  },
  {
   "cell_type": "code",
   "execution_count": 61,
   "metadata": {},
   "outputs": [],
   "source": [
    "# Problema 1\n",
    "def somatorio_1(n):\n",
    "    return 0 if n <= 0 else reduce(lambda x,y : x+y, [1/m for m in range(1, n+1)])\n",
    "\n",
    "# Problema 2\n",
    "def somatorio_2(n):\n",
    "    return 0 if n <= 0 else reduce(lambda x,y : x+y, [1/(2*m + 1) for m in range(n)])\n",
    "\n",
    "# Problema 3\n",
    "def somatorio_3(n):\n",
    "    return 0 if n <= 0 else reduce(lambda x,y : x+y, [1/fatorial(m) for m in range(n)])\n",
    "\n",
    "# Problema 4\n",
    "def somatorio_4(n):\n",
    "    return 0 if n <= 0 else 1 + reduce(lambda x,y: x+y, [1/2**m for m in range(n)])"
   ]
  },
  {
   "cell_type": "code",
   "execution_count": 63,
   "metadata": {},
   "outputs": [
    {
     "data": {
      "text/plain": [
       "(2.283333333333333, 1.7873015873015872, 2.708333333333333, 2.9375)"
      ]
     },
     "execution_count": 63,
     "metadata": {},
     "output_type": "execute_result"
    }
   ],
   "source": [
    "n = 5\n",
    "(somatorio_1(n),somatorio_2(n),somatorio_3(n),somatorio_4(n))"
   ]
  },
  {
   "cell_type": "markdown",
   "metadata": {},
   "source": [
    "***Q6:***$\\quad$  Calcule o número $e$ (*número de Euler*, a base dos *logaritmos neperianos*), dada a quantidade $n$ de\n",
    "  parcelas\n",
    "  $$ e = 1 + {1 \\over 1!} + {1 \\over 2!} + {1 \\over 3!} + {1 \\over 4!} + \n",
    "  \\cdots + {1 \\over n!} + \\cdots $$"
   ]
  },
  {
   "cell_type": "markdown",
   "metadata": {},
   "source": [
    "É a resolução do Problema 3 da questão anterior"
   ]
  },
  {
   "cell_type": "markdown",
   "metadata": {},
   "source": [
    "***Q7:***$\\quad$ Qual é o valor de $$\\lim_{n\\to\\infty}\\\n",
    "(1 + {1 \\over 2} + {1 \\over 4} + {1 \\over 8} + {1 \\over 16} + \\cdots)$$"
   ]
  },
  {
   "cell_type": "code",
   "execution_count": 72,
   "metadata": {},
   "outputs": [],
   "source": [
    "def lim_1(n):\n",
    "    return [1/2**m for m in range(n)]"
   ]
  },
  {
   "cell_type": "code",
   "execution_count": 73,
   "metadata": {},
   "outputs": [
    {
     "data": {
      "text/plain": [
       "[9.785978320356312e-296,\n",
       " 4.892989160178156e-296,\n",
       " 2.446494580089078e-296,\n",
       " 1.223247290044539e-296,\n",
       " 6.116236450222695e-297,\n",
       " 3.0581182251113476e-297,\n",
       " 1.5290591125556738e-297,\n",
       " 7.645295562778369e-298,\n",
       " 3.8226477813891845e-298,\n",
       " 1.9113238906945923e-298,\n",
       " 9.556619453472961e-299,\n",
       " 4.778309726736481e-299,\n",
       " 2.3891548633682403e-299,\n",
       " 1.1945774316841202e-299,\n",
       " 5.972887158420601e-300,\n",
       " 2.9864435792103004e-300,\n",
       " 1.4932217896051502e-300,\n",
       " 7.466108948025751e-301,\n",
       " 3.7330544740128755e-301,\n",
       " 1.8665272370064378e-301]"
      ]
     },
     "execution_count": 73,
     "metadata": {},
     "output_type": "execute_result"
    }
   ],
   "source": [
    "lim_1(1000)[-20:]"
   ]
  },
  {
   "cell_type": "markdown",
   "metadata": {},
   "source": [
    "Podemos perceber que o conforme 'n' aumenta, o valor da expressão se aproxima cada vez mais de 0, então podemos dizer que o limite dessa função com n tendendo ao infinito é 0. Graficamente também podemos perceber a função se aproximando de 0."
   ]
  },
  {
   "cell_type": "code",
   "execution_count": 71,
   "metadata": {
    "jupyter": {
     "source_hidden": true
    }
   },
   "outputs": [
    {
     "data": {
      "image/png": "[encoded data removed]",
      "text/plain": [
       "<Figure size 432x288 with 1 Axes>"
      ]
     },
     "metadata": {
      "needs_background": "light"
     },
     "output_type": "display_data"
    }
   ],
   "source": [
    "import matplotlib.pyplot as plt\n",
    "\n",
    "plt.plot(lim_1(50), list(range(50)))\n",
    "plt.show()"
   ]
  },
  {
   "cell_type": "markdown",
   "metadata": {},
   "source": [
    "***Q8:***$\\quad$ Qual é o valor de $$ \\lim_{n \\rightarrow \\infty} \\frac{1}{1- \\frac{1}{n}} $$"
   ]
  },
  {
   "cell_type": "code",
   "execution_count": 78,
   "metadata": {},
   "outputs": [],
   "source": [
    "def lim_2(n):\n",
    "    return [1/(1-1/m) for m in range(2, n)]"
   ]
  },
  {
   "cell_type": "code",
   "execution_count": 82,
   "metadata": {},
   "outputs": [
    {
     "data": {
      "text/plain": [
       "[1.000100210441928,\n",
       " 1.0001002004008015,\n",
       " 1.0001001903616873,\n",
       " 1.0001001803245844,\n",
       " 1.000100170289492,\n",
       " 1.0001001602564104,\n",
       " 1.000100150225338,\n",
       " 1.0001001401962748,\n",
       " 1.00010013016922,\n",
       " 1.000100120144173,\n",
       " 1.0001001101211333,\n",
       " 1.0001001001001,\n",
       " 1.000100090081073,\n",
       " 1.0001000800640512,\n",
       " 1.0001000700490343,\n",
       " 1.0001000600360215,\n",
       " 1.0001000500250126,\n",
       " 1.0001000400160065,\n",
       " 1.0001000300090026,\n",
       " 1.000100020004001]"
      ]
     },
     "execution_count": 82,
     "metadata": {},
     "output_type": "execute_result"
    }
   ],
   "source": [
    "lim_2(10000)[-20:]"
   ]
  },
  {
   "cell_type": "markdown",
   "metadata": {},
   "source": [
    "Analisando os resultados, aparentemente essa função se aproxima de 1 com o aumento de n, portanto podemos dizer que o limite da função com n tendendo ao infinito é 1. Graficamente também podemos perceber essa tendência (a linha preta está posicionada em x=1:"
   ]
  },
  {
   "cell_type": "code",
   "execution_count": 96,
   "metadata": {
    "jupyter": {
     "source_hidden": true
    }
   },
   "outputs": [
    {
     "data": {
      "image/png": "[encoded data removed]",
      "text/plain": [
       "<Figure size 432x288 with 1 Axes>"
      ]
     },
     "metadata": {
      "needs_background": "light"
     },
     "output_type": "display_data"
    }
   ],
   "source": [
    "plt.plot(lim_2(150), list(range(2,150)))\n",
    "plt.hlines(1, 1, 2)\n",
    "plt.show()"
   ]
  },
  {
   "cell_type": "markdown",
   "metadata": {},
   "source": [
    "***Q9:***$\\quad$ Escreva uma função que:\n",
    "  - dados dois números, retorne o menor deles;\n",
    "  - dados três números, retorne o menor deles,"
   ]
  },
  {
   "cell_type": "code",
   "execution_count": 103,
   "metadata": {},
   "outputs": [],
   "source": [
    "def menor_de_2(a,b):\n",
    "    return a if a < b else b\n",
    "\n",
    "def menor_de_3(a,b,c):\n",
    "    return menor_de_2(a, menor_de_2(b, c))"
   ]
  },
  {
   "cell_type": "code",
   "execution_count": 108,
   "metadata": {},
   "outputs": [
    {
     "data": {
      "text/plain": [
       "(-1, -2)"
      ]
     },
     "execution_count": 108,
     "metadata": {},
     "output_type": "execute_result"
    }
   ],
   "source": [
    "(menor_de_2(-1,1), menor_de_3(2,-2,-1))"
   ]
  },
  {
   "cell_type": "markdown",
   "metadata": {},
   "source": [
    "***Q10:***$\\quad$ Escreva uma função que:\n",
    "  - Concatene dois valores, somente se eles forem do tipo *string*;\n",
    "  - Efetue a soma de dois valores dados, somente se eles forem do tipo `int`."
   ]
  },
  {
   "cell_type": "code",
   "execution_count": 109,
   "metadata": {},
   "outputs": [],
   "source": [
    "def soma(a, b):\n",
    "    if (type(a) == str and type(b) == str) or (type(a) == int and type(b) == int):\n",
    "        return a + b"
   ]
  },
  {
   "cell_type": "code",
   "execution_count": 114,
   "metadata": {},
   "outputs": [
    {
     "data": {
      "text/plain": [
       "(3, 'abcdef', None)"
      ]
     },
     "execution_count": 114,
     "metadata": {},
     "output_type": "execute_result"
    }
   ],
   "source": [
    "(soma(2, 1), soma(\"abc\", \"def\"), soma(\"abc\", 1))"
   ]
  },
  {
   "cell_type": "markdown",
   "metadata": {},
   "source": [
    "***Q11:***$\\quad$ Escreva um programa que compute cada uma das funções a seguir, emitindo uma mensagem\n",
    "caso $x$ receba um valor não permitido.\n",
    "  - $f(x) = {1 \\over {x - 4}}$\n",
    "  - $f(x) = {1 \\over {x^2 - 4}}$\n",
    "  - $y = \\sqrt{x + 4}$\n",
    "  - $y = \\frac{x-1}{x² - 1}$"
   ]
  },
  {
   "cell_type": "code",
   "execution_count": 115,
   "metadata": {},
   "outputs": [],
   "source": [
    "# Problema 1\n",
    "def dominio_1(x):\n",
    "    return 1/(x-4) if x != 4 else \"Valor de x inválido.\"\n",
    "\n",
    "def dominio_2(x):\n",
    "    return 1/(x**2-4) if x != 2 and x != -2 else \"Valor de x inválido.\"\n",
    "\n",
    "def dominio_3(x):\n",
    "    return (x+4)**0.5 if x > -5 else \"Valor de x inválido.\"\n",
    "\n",
    "def dominio_4(x):\n",
    "    return (x-1)/(x**2-1) if x != 1 and x!= -1 else \"Valor de x inválido.\""
   ]
  },
  {
   "cell_type": "code",
   "execution_count": 116,
   "metadata": {},
   "outputs": [
    {
     "data": {
      "text/plain": [
       "(-0.5, 'Valor de x inválido.')"
      ]
     },
     "execution_count": 116,
     "metadata": {},
     "output_type": "execute_result"
    }
   ],
   "source": [
    "(dominio_1(2), dominio_1(4))"
   ]
  },
  {
   "cell_type": "code",
   "execution_count": 117,
   "metadata": {},
   "outputs": [
    {
     "data": {
      "text/plain": [
       "('Valor de x inválido.', 'Valor de x inválido.', -0.3333333333333333)"
      ]
     },
     "execution_count": 117,
     "metadata": {},
     "output_type": "execute_result"
    }
   ],
   "source": [
    "(dominio_2(2), dominio_2(-2), dominio_2(1))"
   ]
  },
  {
   "cell_type": "code",
   "execution_count": 120,
   "metadata": {},
   "outputs": [
    {
     "data": {
      "text/plain": [
       "('Valor de x inválido.', 1.0)"
      ]
     },
     "execution_count": 120,
     "metadata": {},
     "output_type": "execute_result"
    }
   ],
   "source": [
    "(dominio_3(-5), dominio_3(-3))"
   ]
  },
  {
   "cell_type": "code",
   "execution_count": 121,
   "metadata": {},
   "outputs": [
    {
     "data": {
      "text/plain": [
       "('Valor de x inválido.', 'Valor de x inválido.', 0.3333333333333333)"
      ]
     },
     "execution_count": 121,
     "metadata": {},
     "output_type": "execute_result"
    }
   ],
   "source": [
    "(dominio_4(1), dominio_4(-1), dominio_4(2))"
   ]
  },
  {
   "cell_type": "markdown",
   "metadata": {},
   "source": [
    "***Q12:***$\\quad$ Qual é o *domínio* de cada uma das funções da questão anterior?"
   ]
  },
  {
   "cell_type": "markdown",
   "metadata": {},
   "source": [
    "Problema 1: $$Dom1 = \\{x\\ |\\ x \\in \\mathbb{R} \\wedge x \\neq 4\\}$$\n",
    "Problema 2: $$Dom2 = \\{x\\ |\\ x \\in \\mathbb{R} \\wedge (x \\neq 2 \\lor x \\neq -2)\\}$$\n",
    "Problema 3: $$Dom3 = \\{x\\ |\\ x \\in \\mathbb{R} \\wedge x \\neq -5\\}$$\n",
    "Problema 4: $$Dom4 = \\{x\\ |\\ x \\in \\mathbb{R} \\wedge (x \\neq 1 \\lor x \\neq -1)\\}$$\n"
   ]
  },
  {
   "cell_type": "markdown",
   "metadata": {},
   "source": [
    "***Q13:***$\\quad$ Para cada uma das funções\n",
    "\n",
    "$$\\frac{x-1}{x^2 - 1}$$\n",
    "\n",
    "$$\\frac{\\sqrt{x^2 + 9}-3}{x^2}$$\n",
    "\n",
    "  - Escreva um programa que termine os valores da função para uma sequência dada de\n",
    "  valores $x_1, x_2, x_3, x_4, \\cdots$\n",
    "  \n",
    "  - Utilize os programas da questão anterior para determinar os limites\n",
    "\n",
    "$$\\lim_{x \\to 1} \\frac{x-1}{x^2 - 1}$$\n",
    "\n",
    "$$\\lim_{x \\to 0}\\frac{\\sqrt{x^2 + 9}-3}{x^2}$$"
   ]
  },
  {
   "cell_type": "code",
   "execution_count": 131,
   "metadata": {},
   "outputs": [],
   "source": [
    "sequencia = [2,3,4,5,6,7,8,9]\n",
    "\n",
    "def mapear_1(sequencia): \n",
    "    return [(x-1)/(x**2 -1) for x in sequencia]\n",
    "\n",
    "def mapear_2(sequencia):\n",
    "    return [((x**2 + 9)**0.5 - 3) / x**2 for x in sequencia]"
   ]
  },
  {
   "cell_type": "code",
   "execution_count": 132,
   "metadata": {},
   "outputs": [
    {
     "data": {
      "text/plain": [
       "([0.3333333333333333,\n",
       "  0.25,\n",
       "  0.2,\n",
       "  0.16666666666666666,\n",
       "  0.14285714285714285,\n",
       "  0.125,\n",
       "  0.1111111111111111,\n",
       "  0.1],\n",
       " [0.15138781886599728,\n",
       "  0.1380711874576983,\n",
       "  0.125,\n",
       "  0.11323807579381202,\n",
       "  0.10300566479164915,\n",
       "  0.09419945114007977,\n",
       "  0.08662505852058641,\n",
       "  0.08008435778401406])"
      ]
     },
     "execution_count": 132,
     "metadata": {},
     "output_type": "execute_result"
    }
   ],
   "source": [
    "(mapear_1(sequencia), mapear_2(sequencia))"
   ]
  },
  {
   "cell_type": "code",
   "execution_count": 136,
   "metadata": {},
   "outputs": [
    {
     "data": {
      "text/plain": [
       "([0.4968944099378866,\n",
       "  0.49693251533742244,\n",
       "  0.49696969696969717,\n",
       "  0.49700598802394985,\n",
       "  0.49704142011834385,\n",
       "  0.49707602339181467,\n",
       "  0.49710982658959524,\n",
       "  0.4971428571428581,\n",
       "  0.4971751412429374,\n",
       "  0.4972067039106129,\n",
       "  0.49723756906077526,\n",
       "  0.49726775956283975,\n",
       "  0.4972972972972957,\n",
       "  0.497326203208558,\n",
       "  0.4973544973544973,\n",
       "  0.4973821989528792,\n",
       "  0.49740932642487107,\n",
       "  0.49743589743589584,\n",
       "  0.49746192893401003,\n",
       "  0.4974874371859289],\n",
       " [0.16666594329421966,\n",
       "  0.16666596104399514,\n",
       "  0.16666597814911377,\n",
       "  0.16666599463996243,\n",
       "  0.16666601054652122,\n",
       "  0.1666660258905384,\n",
       "  0.1666660407094778,\n",
       "  0.16666605501328746,\n",
       "  0.16666606883859458,\n",
       "  0.16666608219572776,\n",
       "  0.1666660951137544,\n",
       "  0.16666610760299957,\n",
       "  0.1666661196929056,\n",
       "  0.1666661313891211,\n",
       "  0.16666614271860247,\n",
       "  0.16666615369124171,\n",
       "  0.16666616432303272,\n",
       "  0.1666661746291931,\n",
       "  0.16666618461774088,\n",
       "  0.16666619430530935])"
      ]
     },
     "execution_count": 136,
     "metadata": {},
     "output_type": "execute_result"
    }
   ],
   "source": [
    "n = 100\n",
    "\n",
    "limite1 = mapear_1([1 + 1/m for m in range(1,n)])\n",
    "limite2 = mapear_2([1/m for m in range(1,n)])\n",
    "\n",
    "(limite1[-20:], limite2[-20:])"
   ]
  },
  {
   "cell_type": "markdown",
   "metadata": {},
   "source": [
    "O limite da primeira função com x tendendo a 1 é 0.5 e o da segunda função com x tendendo a zero é 0.17."
   ]
  },
  {
   "cell_type": "markdown",
   "metadata": {},
   "source": [
    "***Q14:***$\\quad$ Mostre, por meio de plotagem gráfica, qual é o formato geral das funções do tipo de\n",
    "$f(x) = a x^3 - 1$."
   ]
  },
  {
   "cell_type": "code",
   "execution_count": 151,
   "metadata": {},
   "outputs": [
    {
     "data": {
      "image/png": "[encoded data removed]",
      "text/plain": [
       "<Figure size 432x288 with 1 Axes>"
      ]
     },
     "metadata": {
      "needs_background": "light"
     },
     "output_type": "display_data"
    }
   ],
   "source": [
    "def terceiro_grau(a, x):\n",
    "    return a*x**3 - 1\n",
    "\n",
    "coeficientes = [-1,1,2,3]\n",
    "x = [0.01*i for i in range(-1000,1000)]\n",
    "\n",
    "resultados = [[terceiro_grau(coeficiente, valor) for valor in x] for coeficiente in coeficientes]\n",
    "\n",
    "for indice, lista in enumerate(resultados):\n",
    "    plt.plot(x, lista, label=f\"a = {coeficientes[indice]}\")\n",
    "    \n",
    "plt.legend()\n",
    "plt.show()"
   ]
  },
  {
   "cell_type": "markdown",
   "metadata": {},
   "source": [
    "Pela plotagem, podemos perceber que as funções são sempre crescentes ou decrescentes, dependendo do sinal do coeficiente 'a', e que sua taxa de crescimento aumenta quanto mais distante de zero estiver o valor x."
   ]
  },
  {
   "cell_type": "markdown",
   "metadata": {},
   "source": [
    "***Q15:***$\\quad$ Use bibliotecas gráficas e uma ***função definida por partes*** para plotar uma\n",
    "*escada* com pelo menos quatro degraus de igual comprimento."
   ]
  },
  {
   "cell_type": "code",
   "execution_count": 153,
   "metadata": {},
   "outputs": [
    {
     "data": {
      "image/png": "[encoded data removed]",
      "text/plain": [
       "<Figure size 432x288 with 1 Axes>"
      ]
     },
     "metadata": {
      "needs_background": "light"
     },
     "output_type": "display_data"
    }
   ],
   "source": [
    "def funcao_partes(x):\n",
    "    if x < 2:\n",
    "        return 0\n",
    "    elif x < 4:\n",
    "        return 2\n",
    "    elif x < 6:\n",
    "        return 4\n",
    "    elif x < 8:\n",
    "        return 6\n",
    "    else:\n",
    "        return 8\n",
    "\n",
    "X = [0.01*n for n in range(1001)]\n",
    "y = [funcao_partes(x) for x in X]\n",
    "\n",
    "plt.plot(X,y)\n",
    "plt.show()"
   ]
  },
  {
   "cell_type": "markdown",
   "metadata": {},
   "source": [
    "***Q16:***$\\quad$ Explique o significado do ***coeficiente diferencial***\n",
    "\n",
    "$$\\frac{f(a+h) - f(a)}{h}$$"
   ]
  },
  {
   "cell_type": "markdown",
   "metadata": {},
   "source": [
    "&emsp;O coeficiente diferencial calcula a tangente de uma reta secante a uma curva. No limite, quando h tende a zero, essa reta se torna tangente a curva, e o valor resultante do coeficiente diferencial nessa condição limite é denominado derivada da curva no ponto em questão.  \n",
    "&emsp;Graficamente, a distância f(a+h) - f(a) nos dá uma medida vertical no plano cartesiano, enquanto h é a distância entre pontos, sendo uma distância horizontal. Unindo os pontos f(a) e f(a+h) por uma reta secante a curva, temos um triângulo retângulo, cujos catetos valem f(a+h) - f(a) e h, fazendo com que a tangente da reta secante possa ser calculada pelo coeficiente diferencial "
   ]
  },
  {
   "cell_type": "markdown",
   "metadata": {},
   "source": [
    "***Q17:***$\\quad$  Escreva um programa que calcule o *coeficiente diferencial* \n",
    "definido na questão anterior."
   ]
  },
  {
   "cell_type": "code",
   "execution_count": 164,
   "metadata": {},
   "outputs": [],
   "source": [
    "coef = lambda f, a, h: (f(a+h) - f(a))/h"
   ]
  },
  {
   "cell_type": "markdown",
   "metadata": {},
   "source": [
    "***Q18:***$\\quad$  Por meio desse programa, determine os coeficientes diferenciais de $y = x^2 + 1$ e de\n",
    "$f(x) = x^3 - 2$, para $a = 1$ e $h = 4$."
   ]
  },
  {
   "cell_type": "code",
   "execution_count": 165,
   "metadata": {},
   "outputs": [
    {
     "data": {
      "text/plain": [
       "6.0"
      ]
     },
     "execution_count": 165,
     "metadata": {},
     "output_type": "execute_result"
    }
   ],
   "source": [
    "# Problema 1\n",
    "coef(lambda x: x**2 + 1, 1, 4)"
   ]
  },
  {
   "cell_type": "code",
   "execution_count": 166,
   "metadata": {},
   "outputs": [
    {
     "data": {
      "text/plain": [
       "31.0"
      ]
     },
     "execution_count": 166,
     "metadata": {},
     "output_type": "execute_result"
    }
   ],
   "source": [
    "# Problema 2\n",
    "coef(lambda x: x**3 - 2, 1, 4)"
   ]
  },
  {
   "cell_type": "markdown",
   "metadata": {},
   "source": [
    "***Q19:***$\\quad$ Também utilize o programa para determinar os coeficientes diferenciais das funções\n",
    "da questão anterior, para uma sequência dada de valores de\n",
    "$h$, ou seja $h_1, h_2, h_3, \\cdots$ escolhidos por você."
   ]
  },
  {
   "cell_type": "code",
   "execution_count": 168,
   "metadata": {},
   "outputs": [
    {
     "data": {
      "text/plain": [
       "([12.0, 11.0, 10.0, 9.0, 8.0, 7.0, 6.0, 5.0, 4.0, 3.0],\n",
       " [133.0, 111.0, 91.0, 73.0, 57.0, 43.0, 31.0, 21.0, 13.0, 7.0])"
      ]
     },
     "execution_count": 168,
     "metadata": {},
     "output_type": "execute_result"
    }
   ],
   "source": [
    "sequencia = [10, 9, 8, 7, 6, 5, 4, 3, 2, 1]\n",
    "\n",
    "coefs1 = [coef(lambda x: x**2 + 1, 1, h) for h in sequencia]\n",
    "coefs2 = [coef(lambda x: x**3 - 2, 1, h) for h in sequencia]\n",
    "\n",
    "(coefs1, coefs2)"
   ]
  },
  {
   "cell_type": "markdown",
   "metadata": {},
   "source": [
    "***Q20:***$\\quad$ Considerando a questão anterior:\n",
    "  - Escolha uma sequência de valores $h_1, h_2, h_3, \\cdots$, tal que $\\lim {h_i} = 0$.\n",
    "  - Para esses valores de $h_i$, verifique se os coeficientes diferenciais das\n",
    "  funções da questão anterior possuem um *limite*, para $a = 1$."
   ]
  },
  {
   "cell_type": "code",
   "execution_count": 170,
   "metadata": {},
   "outputs": [
    {
     "data": {
      "text/plain": [
       "([2.001020408162937,\n",
       "  2.001019367991634,\n",
       "  2.0010183299390913,\n",
       "  2.001017293997806,\n",
       "  2.001016260162629,\n",
       "  2.001015228426666,\n",
       "  2.001014198783281,\n",
       "  2.0010131712259227,\n",
       "  2.0010121457488204,\n",
       "  2.0010111223454903,\n",
       "  2.001010101009868,\n",
       "  2.0010090817356856,\n",
       "  2.001008064515844,\n",
       "  2.001007049345307,\n",
       "  2.001006036217391,\n",
       "  2.001005025125775,\n",
       "  2.0010040160643072,\n",
       "  2.001003009027256,\n",
       "  2.001002004008228,\n",
       "  2.0010010010012973],\n",
       " [3.003062265722431,\n",
       "  3.0030591430868467,\n",
       "  3.003056026812398,\n",
       "  3.003052916880786,\n",
       "  3.0030498132725074,\n",
       "  3.0030467159681207,\n",
       "  3.0030436249481958,\n",
       "  3.0030405401937124,\n",
       "  3.003037461685791,\n",
       "  3.0030343894056424,\n",
       "  3.0030313233340755,\n",
       "  3.0030282634527588,\n",
       "  3.003025209742404,\n",
       "  3.0030221621846853,\n",
       "  3.003019120761076,\n",
       "  3.0030160854525643,\n",
       "  3.003013056241127,\n",
       "  3.003010033108115,\n",
       "  3.003007016036177,\n",
       "  3.0030040050062996])"
      ]
     },
     "execution_count": 170,
     "metadata": {},
     "output_type": "execute_result"
    }
   ],
   "source": [
    "n = 1000\n",
    "sequencia = [1/m for m in range(1,n)]\n",
    "\n",
    "coefs1 = [coef(lambda x: x**2 + 1, 1, h) for h in sequencia]\n",
    "coefs2 = [coef(lambda x: x**3 - 2, 1, h) for h in sequencia]\n",
    "\n",
    "(coefs1[-20:], coefs2[-20:])"
   ]
  },
  {
   "cell_type": "markdown",
   "metadata": {},
   "source": [
    "Os limites com h tendendo a zero (ou seja, as derivadas da função) no ponto a = 1, são respectivamente, 2 e 3."
   ]
  },
  {
   "cell_type": "markdown",
   "metadata": {},
   "source": [
    "---"
   ]
  },
  {
   "cell_type": "markdown",
   "metadata": {},
   "source": [
    "# Recursividade"
   ]
  },
  {
   "cell_type": "markdown",
   "metadata": {},
   "source": [
    "## Função `fatorial`"
   ]
  },
  {
   "cell_type": "markdown",
   "metadata": {},
   "source": [
    "### Exemplo de `fatorial`"
   ]
  },
  {
   "cell_type": "markdown",
   "metadata": {},
   "source": [
    "$5! = 5 \\times 4!$\n",
    "\n",
    "$4! = 4 \\times 3!$\n",
    "\n",
    "$3! = 3 \\times 2!$\n",
    "\n",
    "$2! = 2 \\times 1!$\n",
    "\n",
    "$1! = 1 \\times 0!$\n",
    "\n",
    "$0! = 1$\n"
   ]
  },
  {
   "cell_type": "markdown",
   "metadata": {},
   "source": [
    "### Definição matemática de `fatorial`"
   ]
  },
  {
   "cell_type": "markdown",
   "metadata": {},
   "source": [
    "$0! = 1$\n",
    "\n",
    "$n! = n \\times (n - 1)!$"
   ]
  },
  {
   "cell_type": "markdown",
   "metadata": {},
   "source": [
    "### Fatorial em `Haskell`"
   ]
  },
  {
   "cell_type": "markdown",
   "metadata": {},
   "source": [
    "`factorial 0 = 1`\n",
    "\n",
    "`factorial n = n * factorial (n - 1)`"
   ]
  },
  {
   "cell_type": "markdown",
   "metadata": {},
   "source": [
    "### Fatorial em Python"
   ]
  },
  {
   "cell_type": "code",
   "execution_count": 4,
   "metadata": {},
   "outputs": [],
   "source": [
    "def fatorial(n):\n",
    "    if n == 0:\n",
    "        return 1\n",
    "    else:\n",
    "        return n * fatorial(n - 1)"
   ]
  },
  {
   "cell_type": "code",
   "execution_count": 6,
   "metadata": {},
   "outputs": [
    {
     "data": {
      "text/plain": [
       "1"
      ]
     },
     "execution_count": 6,
     "metadata": {},
     "output_type": "execute_result"
    }
   ],
   "source": [
    "fatorial(0)"
   ]
  },
  {
   "cell_type": "markdown",
   "metadata": {},
   "source": [
    "## Exercício 1"
   ]
  },
  {
   "cell_type": "markdown",
   "metadata": {},
   "source": [
    "Escreva uma *função recursiva* que compute a série a seguir, dado o número $n$ de parcelas."
   ]
  },
  {
   "cell_type": "markdown",
   "metadata": {},
   "source": [
    "$${1\\over 1 }+ {1 \\over 2} + {1 \\over 3} + {1 \\over 4} + {1 \\over 5} + \\cdots + {1 \\over n}$$"
   ]
  },
  {
   "cell_type": "markdown",
   "metadata": {},
   "source": [
    "### Solução: Felipe Correa, Eduardo Lovo"
   ]
  },
  {
   "cell_type": "code",
   "execution_count": 3,
   "metadata": {},
   "outputs": [],
   "source": [
    "def harmonica(n):\n",
    "    if n == 1:\n",
    "        return 1\n",
    "    else:\n",
    "        return 1/n + harmonica(n-1)\n",
    "# harmonica(3)"
   ]
  },
  {
   "cell_type": "code",
   "execution_count": 4,
   "metadata": {},
   "outputs": [
    {
     "data": {
      "text/plain": [
       "2.9289682539682538"
      ]
     },
     "execution_count": 4,
     "metadata": {},
     "output_type": "execute_result"
    }
   ],
   "source": [
    "harmonica(10)"
   ]
  },
  {
   "cell_type": "markdown",
   "metadata": {},
   "source": [
    "## Implementação recursiva de `map`"
   ]
  },
  {
   "cell_type": "markdown",
   "metadata": {},
   "source": [
    "### Aplicação de `map` em Python"
   ]
  },
  {
   "cell_type": "markdown",
   "metadata": {},
   "source": [
    "Exemplo de aplicação da função `map` a uma lista."
   ]
  },
  {
   "cell_type": "code",
   "execution_count": 12,
   "metadata": {},
   "outputs": [
    {
     "data": {
      "text/plain": [
       "[30, -10, 0, 50, 80]"
      ]
     },
     "execution_count": 12,
     "metadata": {},
     "output_type": "execute_result"
    }
   ],
   "source": [
    "list(map(lambda x: x*10, [3, -1, 0, 5, 8]))\n",
    "# map(lambda x: x*10, [3, -1, 0, 5, 8])"
   ]
  },
  {
   "cell_type": "markdown",
   "metadata": {},
   "source": [
    "### Implementação recursiva de `map`"
   ]
  },
  {
   "cell_type": "code",
   "execution_count": 24,
   "metadata": {},
   "outputs": [],
   "source": [
    "def my_map(func, lista):\n",
    "    if lista == []:\n",
    "        return []\n",
    "    else:\n",
    "        return [func(lista[0])] + my_map(func, lista[1:])"
   ]
  },
  {
   "cell_type": "code",
   "execution_count": 25,
   "metadata": {},
   "outputs": [
    {
     "data": {
      "text/plain": [
       "[30, -10, 0, 50, 80]"
      ]
     },
     "execution_count": 25,
     "metadata": {},
     "output_type": "execute_result"
    }
   ],
   "source": [
    "my_map(lambda x: x*10, [3, -1, 0, 5, 8])"
   ]
  },
  {
   "cell_type": "markdown",
   "metadata": {},
   "source": [
    "## Exercícios"
   ]
  },
  {
   "cell_type": "markdown",
   "metadata": {},
   "source": [
    "1. Para cada sequência a seguir, escreva uma função *recursiva* que some as $n$ primeiras parcelas:\n",
    "  - $[ {1\\over 1}, {1 \\over 2}, {1 \\over 3}, {1 \\over 4}, {1 \\over 5}, {1 \\over 6}, \\cdots, {1\\over n-1}, {1\\over n} ] $\n",
    "  "
   ]
  },
  {
   "cell_type": "code",
   "execution_count": 8,
   "metadata": {},
   "outputs": [],
   "source": [
    "def soma_harmonica(n):\n",
    "    if n == 1:\n",
    "        return 1\n",
    "    else:\n",
    "        return 1/n + soma_harmonica(n-1)"
   ]
  },
  {
   "cell_type": "code",
   "execution_count": 10,
   "metadata": {},
   "outputs": [
    {
     "data": {
      "text/plain": [
       "1.5"
      ]
     },
     "execution_count": 10,
     "metadata": {},
     "output_type": "execute_result"
    }
   ],
   "source": [
    "soma_harmonica(2)"
   ]
  },
  {
   "cell_type": "code",
   "execution_count": 16,
   "metadata": {},
   "outputs": [],
   "source": [
    "# Soma da lista usando reduce\n",
    "import functools\n",
    "soma_harmonica_map = lambda n: functools.reduce(lambda x, y:x+y, [1/n for n in range(1, n+1)])"
   ]
  },
  {
   "cell_type": "code",
   "execution_count": 17,
   "metadata": {},
   "outputs": [
    {
     "data": {
      "text/plain": [
       "1.5"
      ]
     },
     "execution_count": 17,
     "metadata": {},
     "output_type": "execute_result"
    }
   ],
   "source": [
    "soma_harmonica_map(2)"
   ]
  },
  {
   "cell_type": "markdown",
   "metadata": {},
   "source": [
    "Exercício: Calcular a soma *harmônica* com `for` e com `while`"
   ]
  },
  {
   "cell_type": "markdown",
   "metadata": {},
   "source": [
    "  - $[ 1, {1 \\over 3}, {1 \\over 5}, {1 \\over 7}, {1 \\over 9} \\cdots ] $\n",
    "  - $[ 1, {1 \\over 1!}, {1 \\over 2!}, {1 \\over 3!}, {1 \\over 4!}, {1 \\over 5!},\n",
    "  \\cdots ]$\n",
    "  - $[1, {1 \\over 2}, {1 \\over 4}, {1 \\over 8}, {1 \\over 16}, \\cdots , {1\\over 2^n}]$\n",
    "\n",
    "1. Implemente recursivamente a função `my_filter` de modo a que a *sua implementação* reproduza a funcionalidade da função `filter` da programação funcional."
   ]
  },
  {
   "cell_type": "markdown",
   "metadata": {},
   "source": [
    "## Anatomia de uma `função recursiva`"
   ]
  },
  {
   "cell_type": "markdown",
   "metadata": {},
   "source": [
    "### Estrutura de uma lista"
   ]
  },
  {
   "cell_type": "markdown",
   "metadata": {},
   "source": [
    "Uma lista é uma estrutura binária composta de *cabeça* e *cauda*."
   ]
  },
  {
   "cell_type": "code",
   "execution_count": 4,
   "metadata": {},
   "outputs": [],
   "source": [
    "lst = [4, -1, 3, 5]"
   ]
  },
  {
   "cell_type": "code",
   "execution_count": null,
   "metadata": {},
   "outputs": [],
   "source": [
    "4\n",
    "[-1, 3, 5]\n",
    "-1\n",
    "[3, 5]"
   ]
  },
  {
   "cell_type": "markdown",
   "metadata": {},
   "source": [
    "### Conceito de lista"
   ]
  },
  {
   "cell_type": "markdown",
   "metadata": {},
   "source": [
    "A estrutura binária de lista pode ser definida segundo as definições a seguir."
   ]
  },
  {
   "cell_type": "markdown",
   "metadata": {},
   "source": [
    "`lista = []`\n",
    "\n",
    "`lista = valor ++ lista`"
   ]
  },
  {
   "cell_type": "markdown",
   "metadata": {},
   "source": [
    "A operação `++`, que inclui um `valor` a uma lista já existente, tem origem na operação `cons` da linguagem `LISP`."
   ]
  },
  {
   "cell_type": "markdown",
   "metadata": {},
   "source": [
    "`lista = cons(valor, lista)`"
   ]
  },
  {
   "cell_type": "code",
   "execution_count": null,
   "metadata": {},
   "outputs": [],
   "source": [
    "[3, 1, 6] = cons(3, [1, 6]) = cons(3, cons(1,cons([6])))=cons(3, cons(1,[6]))=cons(3, cons(1,cons(6, [])))"
   ]
  },
  {
   "cell_type": "code",
   "execution_count": null,
   "metadata": {},
   "outputs": [],
   "source": [
    "[2, 0, -1, 4] = 2++[0, -1, 4] = 2++(0++([-1, 4])) = 2++(0++(-1++[4])) = 2++(0++(-1++(4++[]))"
   ]
  },
  {
   "cell_type": "markdown",
   "metadata": {},
   "source": [
    "## Formalizando computacionalmente a estrutura da lista"
   ]
  },
  {
   "cell_type": "markdown",
   "metadata": {},
   "source": [
    "### Estrututa Binária"
   ]
  },
  {
   "cell_type": "markdown",
   "metadata": {},
   "source": [
    "`Lista` é uma estrutura à qual se aplicam as operações `head` (*cabeça da lista*) e `tail` (*cauda ou resto da lista*). "
   ]
  },
  {
   "cell_type": "code",
   "execution_count": 1,
   "metadata": {},
   "outputs": [],
   "source": [
    "def head(lst):\n",
    "    return lst[0]"
   ]
  },
  {
   "cell_type": "code",
   "execution_count": 3,
   "metadata": {},
   "outputs": [
    {
     "data": {
      "text/plain": [
       "1"
      ]
     },
     "execution_count": 3,
     "metadata": {},
     "output_type": "execute_result"
    }
   ],
   "source": [
    "head([1, 2, 3])"
   ]
  },
  {
   "cell_type": "code",
   "execution_count": 2,
   "metadata": {},
   "outputs": [],
   "source": [
    "def tail(lst):\n",
    "    return lst[1:]"
   ]
  },
  {
   "cell_type": "code",
   "execution_count": 4,
   "metadata": {},
   "outputs": [
    {
     "data": {
      "text/plain": [
       "[2, 3]"
      ]
     },
     "execution_count": 4,
     "metadata": {},
     "output_type": "execute_result"
    }
   ],
   "source": [
    "tail([1, 2, 3])"
   ]
  },
  {
   "cell_type": "markdown",
   "metadata": {},
   "source": [
    "### Construtor de lista"
   ]
  },
  {
   "cell_type": "code",
   "execution_count": null,
   "metadata": {},
   "outputs": [],
   "source": [
    "def my_cons(valor, lst):\n",
    "    return [valor] + lst"
   ]
  },
  {
   "cell_type": "markdown",
   "metadata": {},
   "source": [
    "#### Exemplo de função recursiva sobre lista"
   ]
  },
  {
   "cell_type": "markdown",
   "metadata": {},
   "source": [
    "Comprimento de uma lista"
   ]
  },
  {
   "cell_type": "code",
   "execution_count": 5,
   "metadata": {},
   "outputs": [],
   "source": [
    "def length(lst):\n",
    "    if lst == []: # caso base\n",
    "        return 0\n",
    "    else:\n",
    "        return 1 + length(tail(lst)) # passo indutivo\n",
    "        # return 1 + length(lst[1:])"
   ]
  },
  {
   "cell_type": "code",
   "execution_count": 6,
   "metadata": {},
   "outputs": [
    {
     "data": {
      "text/plain": [
       "4"
      ]
     },
     "execution_count": 6,
     "metadata": {},
     "output_type": "execute_result"
    }
   ],
   "source": [
    "length([5, 6, 2, 8])"
   ]
  },
  {
   "cell_type": "markdown",
   "metadata": {},
   "source": [
    "## Paradigmas de Programação "
   ]
  },
  {
   "cell_type": "markdown",
   "metadata": {},
   "source": [
    "Existem três grandes paradigmas de programação:\n",
    "  - Funcional\n",
    "  - Imperativo\n",
    "  - Lógico\n",
    "\n",
    "Faremos uma breve análise dos *Paradigmas Funcional* e *Imperativo*."
   ]
  },
  {
   "cell_type": "markdown",
   "metadata": {},
   "source": [
    "## Modelos computacionais dos paradigmas"
   ]
  },
  {
   "cell_type": "markdown",
   "metadata": {},
   "source": [
    "1. Paradigma Funcional\n",
    "  - Função pura\n",
    "  - Lambda Cáculo\n",
    "  - Recursividade\n",
    "1. Paradigma Imperativo\n",
    "  - Estado mutável\n",
    "  - Sequência de operações\n",
    "  - Repetição: `while`, `for`\n",
    "1. Paradigma Lógico\n",
    "  - Relação\n",
    "  - Cálculo de Predicados de Primeira Ordem"
   ]
  },
  {
   "cell_type": "markdown",
   "metadata": {},
   "source": [
    "## Paradigmas em Ação"
   ]
  },
  {
   "cell_type": "markdown",
   "metadata": {},
   "source": [
    "### Como somar uma lista?"
   ]
  },
  {
   "cell_type": "markdown",
   "metadata": {},
   "source": [
    "#### Soluções Funcionais"
   ]
  },
  {
   "cell_type": "code",
   "execution_count": 2,
   "metadata": {},
   "outputs": [],
   "source": [
    "# Recursividade\n",
    "def head(lst):\n",
    "    return lst[0]\n",
    "def tail(lst):\n",
    "    return lst[1:]\n",
    "def my_cons(valor, lst):\n",
    "    return [valor] + lst\n",
    "\n",
    "def soma_lista(lst):\n",
    "    if lst == []:\n",
    "        return 0\n",
    "    else:\n",
    "        return head(lst) + soma_lista(tail(lst))"
   ]
  },
  {
   "cell_type": "code",
   "execution_count": 3,
   "metadata": {},
   "outputs": [],
   "source": [
    "# `reduce`\n",
    "import functools\n",
    "soma_lst = lambda lst: functools.reduce(lambda x, y: x+y, lst)"
   ]
  },
  {
   "cell_type": "markdown",
   "metadata": {},
   "source": [
    "#### Soluções Imperativas"
   ]
  },
  {
   "cell_type": "code",
   "execution_count": 4,
   "metadata": {},
   "outputs": [],
   "source": [
    "# `for`\n",
    "def soma_lst_for(lst):\n",
    "    acc = 0\n",
    "    for e in lst:\n",
    "        acc = acc + e\n",
    "    return acc"
   ]
  },
  {
   "cell_type": "code",
   "execution_count": null,
   "metadata": {},
   "outputs": [],
   "source": [
    "# `while`\n",
    "def soma_lst_while(lst):\n",
    "    acc = 0\n",
    "    i = 0\n",
    "    compr = len(lst)\n",
    "    while i <= (compr - 1):\n",
    "        acc = acc + lst[i]\n",
    "        i = i + 1\n",
    "    return acc"
   ]
  },
  {
   "cell_type": "markdown",
   "metadata": {},
   "source": [
    "## Considerações sobre Performance"
   ]
  },
  {
   "cell_type": "markdown",
   "metadata": {},
   "source": [
    "De forma geral, os modelos imperativos são mais performáticos, porque as soluções funcionais e recursivas precisam armazenar as chamadas das funções em camada, mobilizando mais memória e sendo um processo custoso.\n",
    "\n",
    "Algorítmos com while apresentam boa performance."
   ]
  },
  {
   "cell_type": "markdown",
   "metadata": {},
   "source": [
    "## Implementação recursiva das três funções "
   ]
  },
  {
   "cell_type": "markdown",
   "metadata": {},
   "source": [
    "### Implementação de `map`"
   ]
  },
  {
   "cell_type": "code",
   "execution_count": null,
   "metadata": {},
   "outputs": [],
   "source": [
    "def my_map(func, lista):\n",
    "    if lista == []:\n",
    "        return []\n",
    "    else:\n",
    "        return [func(lista[0])] + my_map(func, lista[1:])"
   ]
  },
  {
   "cell_type": "markdown",
   "metadata": {},
   "source": [
    "### Implementação de `filter`"
   ]
  },
  {
   "cell_type": "code",
   "execution_count": 1,
   "metadata": {},
   "outputs": [],
   "source": [
    "def my_filter(funcBooleana, lista):\n",
    "    if lista == []:\n",
    "        return []\n",
    "    else:\n",
    "        return [] + my_filter(funcBooleana, lista[1:]) if not funcBooleana(lista[0]) else [lista[0]] + my_filter(funcBooleana, lista[1:])"
   ]
  },
  {
   "cell_type": "code",
   "execution_count": 2,
   "metadata": {},
   "outputs": [
    {
     "data": {
      "text/plain": [
       "[4, 5, 7, 9]"
      ]
     },
     "execution_count": 2,
     "metadata": {},
     "output_type": "execute_result"
    }
   ],
   "source": [
    "my_filter(lambda x: x>3, [1,4,5,7,2,3,9])"
   ]
  },
  {
   "cell_type": "markdown",
   "metadata": {},
   "source": [
    "### Implementação de `reduce`"
   ]
  },
  {
   "cell_type": "code",
   "execution_count": 9,
   "metadata": {},
   "outputs": [],
   "source": [
    "def my_reduce(funcBinaria, lista):\n",
    "    if len(lista) == 2:\n",
    "        return lista\n",
    "    else:\n",
    "        return funcBinaria(lista[0], lista[1]) + my_reduce(funcBinaria, lista[2:])"
   ]
  },
  {
   "cell_type": "code",
   "execution_count": 10,
   "metadata": {},
   "outputs": [
    {
     "ename": "TypeError",
     "evalue": "<lambda>() missing 1 required positional argument: 'y'",
     "output_type": "error",
     "traceback": [
      "\u001b[1;31m---------------------------------------------------------------------------\u001b[0m",
      "\u001b[1;31mTypeError\u001b[0m                                 Traceback (most recent call last)",
      "\u001b[1;32m<ipython-input-10-02b143f9038f>\u001b[0m in \u001b[0;36m<module>\u001b[1;34m\u001b[0m\n\u001b[1;32m----> 1\u001b[1;33m \u001b[0mmy_reduce\u001b[0m\u001b[1;33m(\u001b[0m\u001b[1;32mlambda\u001b[0m \u001b[0mx\u001b[0m\u001b[1;33m,\u001b[0m \u001b[0my\u001b[0m\u001b[1;33m:\u001b[0m \u001b[0mx\u001b[0m\u001b[1;33m+\u001b[0m\u001b[0my\u001b[0m\u001b[1;33m,\u001b[0m \u001b[1;33m[\u001b[0m\u001b[1;36m1\u001b[0m\u001b[1;33m,\u001b[0m\u001b[1;36m2\u001b[0m\u001b[1;33m,\u001b[0m\u001b[1;36m3\u001b[0m\u001b[1;33m,\u001b[0m\u001b[1;36m4\u001b[0m\u001b[1;33m]\u001b[0m\u001b[1;33m)\u001b[0m\u001b[1;33m\u001b[0m\u001b[1;33m\u001b[0m\u001b[0m\n\u001b[0m",
      "\u001b[1;32m<ipython-input-9-2bdde339aed0>\u001b[0m in \u001b[0;36mmy_reduce\u001b[1;34m(funcBinaria, lista)\u001b[0m\n\u001b[0;32m      3\u001b[0m         \u001b[1;32mreturn\u001b[0m \u001b[0mlista\u001b[0m\u001b[1;33m\u001b[0m\u001b[1;33m\u001b[0m\u001b[0m\n\u001b[0;32m      4\u001b[0m     \u001b[1;32melse\u001b[0m\u001b[1;33m:\u001b[0m\u001b[1;33m\u001b[0m\u001b[1;33m\u001b[0m\u001b[0m\n\u001b[1;32m----> 5\u001b[1;33m         \u001b[1;32mreturn\u001b[0m \u001b[0mfuncBinaria\u001b[0m\u001b[1;33m(\u001b[0m\u001b[0mlista\u001b[0m\u001b[1;33m[\u001b[0m\u001b[1;36m0\u001b[0m\u001b[1;33m]\u001b[0m\u001b[1;33m,\u001b[0m \u001b[0mlista\u001b[0m\u001b[1;33m[\u001b[0m\u001b[1;36m1\u001b[0m\u001b[1;33m]\u001b[0m\u001b[1;33m)\u001b[0m \u001b[1;33m+\u001b[0m \u001b[0mfuncBinaria\u001b[0m\u001b[1;33m(\u001b[0m\u001b[0mmy_reduce\u001b[0m\u001b[1;33m(\u001b[0m\u001b[0mfuncBinaria\u001b[0m\u001b[1;33m,\u001b[0m \u001b[0mlista\u001b[0m\u001b[1;33m[\u001b[0m\u001b[1;36m2\u001b[0m\u001b[1;33m:\u001b[0m\u001b[1;33m]\u001b[0m\u001b[1;33m)\u001b[0m\u001b[1;33m)\u001b[0m\u001b[1;33m\u001b[0m\u001b[1;33m\u001b[0m\u001b[0m\n\u001b[0m",
      "\u001b[1;31mTypeError\u001b[0m: <lambda>() missing 1 required positional argument: 'y'"
     ]
    }
   ],
   "source": [
    "my_reduce(lambda x, y: x+y, [1,2,3,4])"
   ]
  },
  {
   "cell_type": "markdown",
   "metadata": {},
   "source": [
    "---"
   ]
  },
  {
   "cell_type": "markdown",
   "metadata": {},
   "source": [
    "# Introdução a integrais"
   ]
  },
  {
   "cell_type": "markdown",
   "metadata": {},
   "source": [
    "## Motivação ao tema"
   ]
  },
  {
   "cell_type": "markdown",
   "metadata": {},
   "source": [
    "O conceito de integral de uma função está estreitamente ligado à determinação da área do gráfico de uma função com relação ao eixo horizontal. "
   ]
  },
  {
   "cell_type": "code",
   "execution_count": 2,
   "metadata": {},
   "outputs": [],
   "source": [
    "from matplotlib import pyplot as plt\n",
    "import numpy as np"
   ]
  },
  {
   "cell_type": "code",
   "execution_count": 16,
   "metadata": {},
   "outputs": [
    {
     "data": {
      "image/png": "[encoded data removed]",
      "text/plain": [
       "<Figure size 432x288 with 1 Axes>"
      ]
     },
     "metadata": {
      "needs_background": "light"
     },
     "output_type": "display_data"
    }
   ],
   "source": [
    "# import numpy as np\n",
    "X = np.linspace(-4, 4, 200)\n",
    "\n",
    "parabola = X**2 # - 10*X - 20\n",
    "parabola = [x**2 for x in X]\n",
    "# parabola = list(map(lambda x:x**2, X))\n",
    "\n",
    "cubica = X**3 #lambda x: x**3\n",
    "\n",
    "plt.grid(True, linestyle='-.')\n",
    "plt.plot(X, parabola)\n",
    "# plt.plot(X, cubica)\n",
    "# plt.plot(X, C)\n",
    "# plt.plot(X, S)\n",
    "plt.fill_between(X, 0, parabola, where = np.logical_and(X>=-3, X<=3), facecolor = 'orange', alpha = 0.5)\n",
    "\n",
    "plt.show()"
   ]
  },
  {
   "cell_type": "markdown",
   "metadata": {},
   "source": [
    "## Aspectos Computacionais"
   ]
  },
  {
   "cell_type": "code",
   "execution_count": 28,
   "metadata": {},
   "outputs": [],
   "source": [
    "from __future__ import division\n",
    "import sympy as sym\n",
    "from sympy import *\n",
    "import math\n",
    "\n",
    "from IPython.display import display\n",
    "from sympy.interactive import printing\n",
    "printing.init_printing()\n",
    "\n",
    "x, y, z, h, t = symbols(\"x y z h t\")\n",
    "a, b, k, m, n = symbols(\"a b k m n\", integer=True)\n",
    "f, g = map(Function, 'fg')"
   ]
  },
  {
   "cell_type": "markdown",
   "metadata": {},
   "source": [
    "### Integral Definida"
   ]
  },
  {
   "cell_type": "markdown",
   "metadata": {},
   "source": [
    "$$\\int_{a}^{b} f(x)\\ dx$$"
   ]
  },
  {
   "cell_type": "code",
   "execution_count": 45,
   "metadata": {},
   "outputs": [
    {
     "data": {
      "image/png": "[encoded data removed]",
      "text/latex": [
       "$$16.9583333333333$$"
      ],
      "text/plain": [
       "16.9583333333333"
      ]
     },
     "execution_count": 45,
     "metadata": {},
     "output_type": "execute_result"
    }
   ],
   "source": [
    "integrate(x**2, (x, -2, 3.5))"
   ]
  },
  {
   "cell_type": "markdown",
   "metadata": {},
   "source": [
    "### Integral Indefinida"
   ]
  },
  {
   "cell_type": "markdown",
   "metadata": {},
   "source": [
    "$$\\int f(x)\\ dx$$"
   ]
  },
  {
   "cell_type": "code",
   "execution_count": 49,
   "metadata": {},
   "outputs": [
    {
     "data": {
      "image/png": "[encoded data removed]",
      "text/latex": [
       "$$\\frac{x^{3}}{3}$$"
      ],
      "text/plain": [
       " 3\n",
       "x \n",
       "──\n",
       "3 "
      ]
     },
     "execution_count": 49,
     "metadata": {},
     "output_type": "execute_result"
    }
   ],
   "source": [
    "integrate(x**2, x)"
   ]
  },
  {
   "cell_type": "code",
   "execution_count": 50,
   "metadata": {},
   "outputs": [
    {
     "data": {
      "image/png": "[encoded data removed]",
      "text/latex": [
       "$$x^{2}$$"
      ],
      "text/plain": [
       " 2\n",
       "x "
      ]
     },
     "execution_count": 50,
     "metadata": {},
     "output_type": "execute_result"
    }
   ],
   "source": [
    "diff(x**3 / 3, x)"
   ]
  },
  {
   "cell_type": "markdown",
   "metadata": {},
   "source": [
    "$$\\int x^2\\ dx = \\frac{x^3}{3} + C$$"
   ]
  },
  {
   "cell_type": "code",
   "execution_count": 52,
   "metadata": {},
   "outputs": [
    {
     "data": {
      "image/png": "[encoded data removed]",
      "text/latex": [
       "$$x^{2}$$"
      ],
      "text/plain": [
       " 2\n",
       "x "
      ]
     },
     "execution_count": 52,
     "metadata": {},
     "output_type": "execute_result"
    }
   ],
   "source": [
    "diff((x**3 / 3) + 4567, x)"
   ]
  },
  {
   "cell_type": "markdown",
   "metadata": {},
   "source": [
    "## Exercícios"
   ]
  },
  {
   "cell_type": "markdown",
   "metadata": {},
   "source": [
    "1. Determine as seguintes integrais indefinidas:\n",
    "  - $\\int (x^3 - 4x^2 + 6x + 3)\\ dx$\n",
    "  - $\\int \\mathrm{sin}(x) \\ dx$\n",
    "  - $\\int e^x \\ dx$\n",
    "  - $\\int (\\frac{1}{x^2} + e^{x}) \\ dx$\n",
    "  - $\\int \\frac{1}{\\sqrt{1 - t^2}}\\ dt$\n",
    "  - $\\int \\mathrm{sin}(t)\\ dt$\n",
    "  - $\\int \\mathrm{cos}(t)\\ dt$"
   ]
  },
  {
   "cell_type": "code",
   "execution_count": 26,
   "metadata": {},
   "outputs": [
    {
     "data": {
      "image/png": "[encoded data removed]",
      "text/latex": [
       "$\\displaystyle \\frac{x^{4}}{4} - \\frac{4 x^{3}}{3} + 3 x^{2} + 3 x$"
      ],
      "text/plain": [
       " 4      3             \n",
       "x    4⋅x       2      \n",
       "── - ──── + 3⋅x  + 3⋅x\n",
       "4     3               "
      ]
     },
     "execution_count": 26,
     "metadata": {},
     "output_type": "execute_result"
    }
   ],
   "source": [
    "integrate(x**3 - 4*x**2 + 6*x + 3, x)"
   ]
  },
  {
   "cell_type": "code",
   "execution_count": 27,
   "metadata": {},
   "outputs": [
    {
     "data": {
      "image/png": "[encoded data removed]",
      "text/latex": [
       "$\\displaystyle - \\cos{\\left(x \\right)}$"
      ],
      "text/plain": [
       "-cos(x)"
      ]
     },
     "execution_count": 27,
     "metadata": {},
     "output_type": "execute_result"
    }
   ],
   "source": [
    "integrate(sin(x), x)"
   ]
  },
  {
   "cell_type": "code",
   "execution_count": 30,
   "metadata": {},
   "outputs": [
    {
     "data": {
      "image/png": "[encoded data removed]",
      "text/latex": [
       "$\\displaystyle e^{x}$"
      ],
      "text/plain": [
       " x\n",
       "ℯ "
      ]
     },
     "execution_count": 30,
     "metadata": {},
     "output_type": "execute_result"
    }
   ],
   "source": [
    "integrate(E**x, x)"
   ]
  },
  {
   "cell_type": "code",
   "execution_count": 31,
   "metadata": {},
   "outputs": [
    {
     "data": {
      "image/png": "[encoded data removed]",
      "text/latex": [
       "$\\displaystyle e^{x} - \\frac{1}{x}$"
      ],
      "text/plain": [
       " x   1\n",
       "ℯ  - ─\n",
       "     x"
      ]
     },
     "execution_count": 31,
     "metadata": {},
     "output_type": "execute_result"
    }
   ],
   "source": [
    "integrate(1/x**2 + E**x, x)"
   ]
  },
  {
   "cell_type": "code",
   "execution_count": 37,
   "metadata": {},
   "outputs": [
    {
     "data": {
      "image/png": "[encoded data removed]",
      "text/latex": [
       "$\\displaystyle \\operatorname{asin}{\\left(x \\right)}$"
      ],
      "text/plain": [
       "asin(x)"
      ]
     },
     "execution_count": 37,
     "metadata": {},
     "output_type": "execute_result"
    }
   ],
   "source": [
    "integrate(1/sqrt(1-x**2), x)"
   ]
  },
  {
   "cell_type": "code",
   "execution_count": 39,
   "metadata": {},
   "outputs": [
    {
     "data": {
      "image/png": "[encoded data removed]",
      "text/latex": [
       "$\\displaystyle \\sin{\\left(x \\right)}$"
      ],
      "text/plain": [
       "sin(x)"
      ]
     },
     "execution_count": 39,
     "metadata": {},
     "output_type": "execute_result"
    }
   ],
   "source": [
    "integrate(cos(x), x)"
   ]
  },
  {
   "cell_type": "markdown",
   "metadata": {},
   "source": [
    "1. Determine as seguintes integrais definidas:\n",
    "  - $\\int_{0}^{4} x^3\\ dx$\n",
    "  - $\\int_{0}^{4} (x^3 + 10)\\ dx$\n",
    "  - $\\int_{0}^{2} (t^4 - t)\\ dt$\n",
    "  - $\\int_{-5}^{5} x^3\\ dx$\n",
    "  - $\\int_{0}^{4} \\sqrt{x}\\ dx$\n",
    "  - $\\int_{0}^{2} \\sqrt{1 - t^3}\\ dt$\n",
    "  - $\\int_{-3}^{3} \\mathrm{sin}(x)\\ dx$\n",
    "  - $\\int_{-3}^{3} (\\mathrm{sin}(x)+\\mathrm{cos}(x))\\ dx$"
   ]
  },
  {
   "cell_type": "code",
   "execution_count": 41,
   "metadata": {},
   "outputs": [
    {
     "data": {
      "image/png": "[encoded data removed]",
      "text/latex": [
       "$\\displaystyle 64$"
      ],
      "text/plain": [
       "64"
      ]
     },
     "execution_count": 41,
     "metadata": {},
     "output_type": "execute_result"
    }
   ],
   "source": [
    "integrate(x**3, (x, 0, 4))"
   ]
  },
  {
   "cell_type": "code",
   "execution_count": 42,
   "metadata": {},
   "outputs": [
    {
     "data": {
      "image/png": "[encoded data removed]",
      "text/latex": [
       "$\\displaystyle 104$"
      ],
      "text/plain": [
       "104"
      ]
     },
     "execution_count": 42,
     "metadata": {},
     "output_type": "execute_result"
    }
   ],
   "source": [
    "integrate(x**3 + 10, (x, 0, 4))"
   ]
  },
  {
   "cell_type": "code",
   "execution_count": 43,
   "metadata": {},
   "outputs": [
    {
     "data": {
      "image/png": "[encoded data removed]",
      "text/latex": [
       "$\\displaystyle \\frac{22}{5}$"
      ],
      "text/plain": [
       "22/5"
      ]
     },
     "execution_count": 43,
     "metadata": {},
     "output_type": "execute_result"
    }
   ],
   "source": [
    "integrate(x**4 - x, (x, 0, 2))"
   ]
  },
  {
   "cell_type": "code",
   "execution_count": 44,
   "metadata": {},
   "outputs": [
    {
     "data": {
      "image/png": "[encoded data removed]",
      "text/latex": [
       "$\\displaystyle 0$"
      ],
      "text/plain": [
       "0"
      ]
     },
     "execution_count": 44,
     "metadata": {},
     "output_type": "execute_result"
    }
   ],
   "source": [
    "integrate(x**3, (x, -5, 5))"
   ]
  },
  {
   "cell_type": "code",
   "execution_count": 45,
   "metadata": {},
   "outputs": [
    {
     "data": {
      "image/png": "[encoded data removed]",
      "text/latex": [
       "$\\displaystyle \\frac{16}{3}$"
      ],
      "text/plain": [
       "16/3"
      ]
     },
     "execution_count": 45,
     "metadata": {},
     "output_type": "execute_result"
    }
   ],
   "source": [
    "integrate(sqrt(x), (x, 0, 4))"
   ]
  },
  {
   "cell_type": "code",
   "execution_count": 47,
   "metadata": {},
   "outputs": [
    {
     "data": {
      "image/png": "[encoded data removed]",
      "text/latex": [
       "$\\displaystyle 0$"
      ],
      "text/plain": [
       "0"
      ]
     },
     "execution_count": 47,
     "metadata": {},
     "output_type": "execute_result"
    }
   ],
   "source": [
    "integrate(sin(x), (x, -3, 3))"
   ]
  },
  {
   "cell_type": "code",
   "execution_count": 49,
   "metadata": {},
   "outputs": [
    {
     "data": {
      "image/png": "[encoded data removed]",
      "text/latex": [
       "$\\displaystyle 2 \\sin{\\left(3 \\right)}$"
      ],
      "text/plain": [
       "2⋅sin(3)"
      ]
     },
     "execution_count": 49,
     "metadata": {},
     "output_type": "execute_result"
    }
   ],
   "source": [
    "integrate(sin(x) + cos(x), (x, -3, 3))"
   ]
  },
  {
   "cell_type": "markdown",
   "metadata": {},
   "source": [
    "1. Formule uma regra geral para determinar as integrais indefinidas a seguir, sabendo que $n \\in \\mathbb{N}$:\n",
    "  - $\\int x^n \\ dx$\n",
    "  - $\\int e^{nx} \\ dx$\n",
    "  - $\\int \\frac{1}{x^n} \\ dx$\n",
    "  - $\\int \\mathrm{sin}(n x)\\ dx$"
   ]
  },
  {
   "cell_type": "code",
   "execution_count": 54,
   "metadata": {},
   "outputs": [
    {
     "data": {
      "text/latex": [
       "$\\displaystyle \\begin{cases} \\frac{x^{n + 1}}{n + 1} & \\text{for}\\: n \\neq -1 \\\\\\log{\\left(x \\right)} & \\text{otherwise} \\end{cases}$"
      ],
      "text/plain": [
       "⎧ n + 1            \n",
       "⎪x                 \n",
       "⎪──────  for n ≠ -1\n",
       "⎨n + 1             \n",
       "⎪                  \n",
       "⎪log(x)  otherwise \n",
       "⎩                  "
      ]
     },
     "execution_count": 54,
     "metadata": {},
     "output_type": "execute_result"
    }
   ],
   "source": [
    "list(map(integrate, [(x**1), (x**2), (x**3), (x**4)]))\n",
    "integrate(x**n, x)"
   ]
  },
  {
   "cell_type": "code",
   "execution_count": 55,
   "metadata": {},
   "outputs": [
    {
     "data": {
      "text/latex": [
       "$\\displaystyle \\begin{cases} \\frac{e^{n x}}{n} & \\text{for}\\: n \\neq 0 \\\\x & \\text{otherwise} \\end{cases}$"
      ],
      "text/plain": [
       "⎧ n⋅x           \n",
       "⎪ℯ              \n",
       "⎪────  for n ≠ 0\n",
       "⎨ n             \n",
       "⎪               \n",
       "⎪ x    otherwise\n",
       "⎩               "
      ]
     },
     "execution_count": 55,
     "metadata": {},
     "output_type": "execute_result"
    }
   ],
   "source": [
    "integrate(E**(n*x), x)"
   ]
  },
  {
   "cell_type": "code",
   "execution_count": 56,
   "metadata": {},
   "outputs": [
    {
     "data": {
      "text/latex": [
       "$\\displaystyle \\begin{cases} \\frac{x^{1 - n}}{1 - n} & \\text{for}\\: n \\neq 1 \\\\\\log{\\left(x \\right)} & \\text{otherwise} \\end{cases}$"
      ],
      "text/plain": [
       "⎧ 1 - n           \n",
       "⎪x                \n",
       "⎪──────  for n ≠ 1\n",
       "⎨1 - n            \n",
       "⎪                 \n",
       "⎪log(x)  otherwise\n",
       "⎩                 "
      ]
     },
     "execution_count": 56,
     "metadata": {},
     "output_type": "execute_result"
    }
   ],
   "source": [
    "integrate(1/x**n, x)"
   ]
  },
  {
   "cell_type": "code",
   "execution_count": 57,
   "metadata": {},
   "outputs": [
    {
     "data": {
      "text/latex": [
       "$\\displaystyle \\begin{cases} - \\frac{\\cos{\\left(n x \\right)}}{n} & \\text{for}\\: n \\neq 0 \\\\0 & \\text{otherwise} \\end{cases}$"
      ],
      "text/plain": [
       "⎧-cos(n⋅x)            \n",
       "⎪──────────  for n ≠ 0\n",
       "⎨    n                \n",
       "⎪                     \n",
       "⎩    0       otherwise"
      ]
     },
     "execution_count": 57,
     "metadata": {},
     "output_type": "execute_result"
    }
   ],
   "source": [
    "integrate(sin(n*x), x)"
   ]
  },
  {
   "cell_type": "markdown",
   "metadata": {},
   "source": [
    "## Conceituação Matemática"
   ]
  },
  {
   "cell_type": "markdown",
   "metadata": {},
   "source": [
    "*Integral Definida* --- Se $f$ é uma função contínua definida no intervalo $a \\leq x \\leq b$, dividimos o intervalo $[a, b]$ em $n$ subintervalos de comprimentos iguais $\\Delta x = (b - a)/ n$.\n",
    "\n",
    "Sejam $x_{0}, x_{1}, x_{2}, \\ldots, x_{n}$ (em que $x_{0} = a$ e $x_{n} = b$) as extremidades desses subintervalos, escolhemos os *pontos amostrais*  $x_{1}^{*}, x_{2}^{*}, x_{3}^{*}, \\ldots, x_{n}^{*}$ nesses subintervalos, tal que $x_{i}^{*}$ esteja no $i$-ésimo subintervalo $[x_{i - 1}, x_{i}]$. Então a integral definida de $f$ de $a$ a $b$} é\n",
    "$$\\int\\nolimits_{a}^{b} f(x)\\ dx = \\lim_{n\\to \\infty} \\sum_{i = 1}^{n} f(x_{i}^{*})\\ \\Delta x$$\n",
    "desde que este limite exista. Se o limite existir, diz-se que $f$ é integrável em $[a, b]$."
   ]
  },
  {
   "cell_type": "code",
   "execution_count": 46,
   "metadata": {},
   "outputs": [],
   "source": [
    "from functools import reduce\n",
    "def somaRiemann(f, a, b, n):\n",
    "    deltaX = (b - a) / n\n",
    "    return(reduce(lambda x, y: x + y, [f(a + deltaX * m) * deltaX for m in range(n + 1)]))"
   ]
  },
  {
   "cell_type": "code",
   "execution_count": 62,
   "metadata": {},
   "outputs": [
    {
     "data": {
      "image/png": "[encoded data removed]",
      "text/latex": [
       "$\\displaystyle 2.6666706666679696$"
      ],
      "text/plain": [
       "2.6666706666679696"
      ]
     },
     "execution_count": 62,
     "metadata": {},
     "output_type": "execute_result"
    }
   ],
   "source": [
    "somaRiemann(lambda x: x**2, 0, 2, 1000000)"
   ]
  },
  {
   "cell_type": "markdown",
   "metadata": {},
   "source": [
    "### Exemplo"
   ]
  },
  {
   "cell_type": "markdown",
   "metadata": {},
   "source": [
    "$f(x) = x^2$, $a=1, b=11, n=5, \\Delta x = 2$"
   ]
  },
  {
   "cell_type": "markdown",
   "metadata": {},
   "source": [
    "$\\sum_{i = 1}^{5} f(x_{i}^{*})\\ \\Delta x = [(1)^2\\times 2] + [(3)^2\\times 2] + [(5)^2\\times 2]  + [(7)^2\\times 2]  + [(9)^2\\times 2]  $"
   ]
  },
  {
   "cell_type": "markdown",
   "metadata": {},
   "source": [
    "A definição acima de integral se deve a *Bernhard Riemann* (1826 -- 1866). O símbolo $\\int$, o **sinal de integral** foi introduzido por *Leibniz*, um dos criadores do cálculo, para indicar que a integral é um limite de somas."
   ]
  },
  {
   "cell_type": "markdown",
   "metadata": {},
   "source": [
    "Na notação $\\int\\nolimits_{a}^{b} f(x)\\ dx$:\n",
    "- $f(x)$ é o **integrando**,\n",
    "- $a$ e $b$ são os **limites de integração**,\n",
    "- $a$ é o **limite inferior**,\n",
    "- $b$ é o **limite superior**,\n",
    "- e $d x$ indica que $x$ é a **variável independente**."
   ]
  },
  {
   "cell_type": "markdown",
   "metadata": {},
   "source": [
    "A integral definida $\\int\\nolimits_{a}^{b} f(x)\\ dx$ é *um número*.\n",
    "\n",
    "A variável independente pode ser indicada de outros modos:\n",
    "$$\\int\\nolimits_{a}^{b} f(x)\\ dx\\qquad = \\qquad \\int\\nolimits_{a}^{b} f(t)\\ dt \\qquad = \\qquad \\int\\nolimits_{a}^{b} f(r)\\ dr$$\n",
    "\n",
    "O somatório\n",
    "$$\\sum_{i = 1}^{n} f(x_{i}^{*})\\ \\Delta x$$\n",
    "é chamado **soma de Riemann**, em homenagem ao autor desta definição de integral."
   ]
  },
  {
   "cell_type": "markdown",
   "metadata": {},
   "source": [
    "**Propriedades da Integral**\n",
    "\n",
    "A partir da definição de integral, tem-se que\n",
    "\n",
    "$$\\int\\nolimits_{a}^{b} f(x)\\, dx = - \\int\\nolimits_{b}^{a} f(x)\\, dx $$\n",
    "e que\n",
    "$$\\int\\nolimits_{a}^{a} f(x)\\, dx = 0$$\n",
    "pois se $a = b$, então $\\Delta x = 0$."
   ]
  },
  {
   "cell_type": "markdown",
   "metadata": {},
   "source": [
    "**Propriedades da Integral definida**\n",
    "\n",
    "$$\\int\\nolimits_{a}^{b} c\\, dx = c\\ (b - a)$$\n",
    "$$\\int\\nolimits_{a}^{b} c\\ f(x)\\, dx =  c \\int\\nolimits_{a}^{b} f(x)\\, dx \\qquad \\textrm{em que c é uma constante} $$\n",
    "$$\\int\\nolimits_{a}^{b} [f(x) + g(x)]\\, dx = \\int\\nolimits_{a}^{b} f(x)\\, dx  + \\int\\nolimits_{a}^{b} g(x)\\, dx $$\n",
    "$$ \\int\\nolimits_{a}^{b} [f(x) - g(x)]\\, dx = \\int\\nolimits_{a}^{b} f(x)\\, dx  - \\int\\nolimits_{a}^{b} g(x)\\, dx $$\n",
    "$$ \\int\\nolimits_{a}^{c} f(x)\\, dx + \\int\\nolimits_{c}^{b} f(x)\\, dx = \\int\\nolimits_{a}^{b} f(x)\\, dx $$"
   ]
  },
  {
   "cell_type": "markdown",
   "metadata": {},
   "source": [
    "#### Exercícios"
   ]
  },
  {
   "cell_type": "markdown",
   "metadata": {},
   "source": [
    "Utilizando as propriedades das integrais, determine:\n",
    "  \n",
    "  - $\\int_{0}^{1} (4 + 3 x^2)\\, dx$\n",
    "  - $\\int_{0}^{1} (x^{2} + 1)\\, dx$\n",
    "  - Se $\\int_{0}^{10} f(x)\\, d x = 17$ e $\\int_{0}^{8} f(x)\\, d x = 12$, calcule $\\int_{8}^{10} f(x)\\, d x$"
   ]
  },
  {
   "cell_type": "markdown",
   "metadata": {},
   "source": [
    "### O Teorema Fundamental do Cálculo"
   ]
  },
  {
   "cell_type": "markdown",
   "metadata": {},
   "source": [
    "**O Teorema Fundamental do Cálculo, Parte I**\n",
    "\n",
    "Se $f$ é contínua em $[a, b]$, então a função $g$ definida por\n",
    "\n",
    "$$g(x) = \\int\\nolimits_{a}^{x} f (t)\\, dt\\qquad\\qquad a \\leq x \\leq b$$\n",
    "\n",
    "é contínua em $[a, b]$, derivável em $(a, b)$ e\n",
    "\n",
    "$$g'(x) = f(x)$$"
   ]
  },
  {
   "cell_type": "markdown",
   "metadata": {},
   "source": [
    "**O Teorema Fundamental do Cálculo, Parte II**\n",
    "\n",
    "Se $f$ é contínua em $[a, b]$, então\n",
    "\n",
    "$$\\int\\nolimits_{a}^{b} f(x)\\, d x = F\\,(b) - F\\,(a)$$\n",
    "\n",
    "em que $F$ é qualquer primitiva de $f$, isto é, $F$ é uma função tal que $F\\, ' = f $"
   ]
  },
  {
   "cell_type": "markdown",
   "metadata": {},
   "source": [
    "## Integrais Indefinidas"
   ]
  },
  {
   "cell_type": "markdown",
   "metadata": {},
   "source": [
    "O Teorema Fundamental do Cálculo mostra uma conexão entre as integrais definidas e as primitivas de uma função. Introduziremos então o conceito de *integral indefinida* para indicar a ligação entre primitivas e integrais.\n",
    "\n",
    "- *Integral indefinida*: Por convenção, a primitiva de uma função $f$ é indicada pela notação $\\int f(x)\\, dx$. Ou seja,\n",
    "\n",
    "$$\\int f(x)\\, d x = F\\, (x)\\qquad\\qquad \\textrm{significa}\\qquad\\qquad F\\, ' (x) = f(x) $$\n",
    "\n",
    "- Deste modo, uma *integral indefinida* representa uma *família* de funções, em que as primitivas diferem pelo valor de uma constante $C$, como a seguir.\n",
    "\n",
    "$$\\int {x^2}\\, d x = {x^{3}\\over 3} + C\\qquad\\qquad\\textrm{pois}\\qquad\\qquad {d \\over {d x}}\\, \\left( {x^{3} \\over 3} + C \\right) = x^{2} $$\n",
    "\n",
    "- Existe assim uma diferença entre a integral definida e indefinida:\n",
    "    - a *integral definida* $\\int\\nolimits_{a}^{b} f(x)\\, dx$ é um *número*, enquanto\n",
    "    - a *integral indefinida* $\\int f(x)\\, d x$ é uma *família* de funções."
   ]
  },
  {
   "cell_type": "markdown",
   "metadata": {},
   "source": [
    "---"
   ]
  },
  {
   "cell_type": "markdown",
   "metadata": {},
   "source": [
    "# Lista 2"
   ]
  },
  {
   "cell_type": "markdown",
   "metadata": {},
   "source": [
    "## Derivadas"
   ]
  },
  {
   "cell_type": "markdown",
   "metadata": {},
   "source": [
    "**1.** Utilizando a biblioteca SymPy, determine f(4)(x) (a derivada de ordem 4) para f(x)=cos(x)−sin(x)"
   ]
  },
  {
   "cell_type": "code",
   "execution_count": 2,
   "metadata": {},
   "outputs": [
    {
     "data": {
      "image/png": "[encoded data removed]",
      "text/latex": [
       "$\\displaystyle - \\sin{\\left(x \\right)} + \\cos{\\left(x \\right)}$"
      ],
      "text/plain": [
       "-sin(x) + cos(x)"
      ]
     },
     "execution_count": 2,
     "metadata": {},
     "output_type": "execute_result"
    }
   ],
   "source": [
    "from __future__ import division\n",
    "import sympy as sym\n",
    "from sympy import *\n",
    "import math\n",
    "\n",
    "from IPython.display import display\n",
    "from sympy.interactive import printing\n",
    "printing.init_printing()\n",
    "\n",
    "x, y, z, h, t = symbols(\"x y z h t\")\n",
    "a, b, k, m, n = symbols(\"a b k m n\", integer=True)\n",
    "f, g = map(Function, 'fg')\n",
    "\n",
    "f = cos(x) - sin(x)\n",
    "for i in range(4):\n",
    "    f = diff(f)\n",
    "f"
   ]
  },
  {
   "cell_type": "markdown",
   "metadata": {},
   "source": [
    "**2.** Encontre as derivadas de todas as ordens (isto é, as derivadas sucessivas de ordem n, quando n cresce) de $f(x)=2x4−x2+3x+3$."
   ]
  },
  {
   "cell_type": "code",
   "execution_count": 3,
   "metadata": {},
   "outputs": [],
   "source": [
    "f = 2*x**4 - x**2 + 3*x + 3\n",
    "\n",
    "def derivadasTodasAsOrdens(f, n):\n",
    "    for i in range(n):\n",
    "        f = diff(f)\n",
    "        print(f\"A derivada de {i+1}a ordem da função é: {f}\")"
   ]
  },
  {
   "cell_type": "code",
   "execution_count": 4,
   "metadata": {},
   "outputs": [
    {
     "name": "stdout",
     "output_type": "stream",
     "text": [
      "A derivada de 1a ordem da função é: 8*x**3 - 2*x + 3\n",
      "A derivada de 2a ordem da função é: 24*x**2 - 2\n",
      "A derivada de 3a ordem da função é: 48*x\n",
      "A derivada de 4a ordem da função é: 48\n",
      "A derivada de 5a ordem da função é: 0\n"
     ]
    }
   ],
   "source": [
    "derivadasTodasAsOrdens(f, 5)"
   ]
  },
  {
   "cell_type": "markdown",
   "metadata": {},
   "source": [
    "**3.** Escreva uma regra geral para determinar a derivada de ordem n de f(x)=e2x, em função de n."
   ]
  },
  {
   "cell_type": "code",
   "execution_count": 6,
   "metadata": {},
   "outputs": [
    {
     "name": "stdout",
     "output_type": "stream",
     "text": [
      "A derivada de 1a ordem da função é: 2*exp(2*x)\n",
      "A derivada de 2a ordem da função é: 4*exp(2*x)\n",
      "A derivada de 3a ordem da função é: 8*exp(2*x)\n",
      "A derivada de 4a ordem da função é: 16*exp(2*x)\n",
      "A derivada de 5a ordem da função é: 32*exp(2*x)\n",
      "A derivada de 6a ordem da função é: 64*exp(2*x)\n",
      "A derivada de 7a ordem da função é: 128*exp(2*x)\n"
     ]
    }
   ],
   "source": [
    "derivadasTodasAsOrdens(E**(2*x), 7)"
   ]
  },
  {
   "cell_type": "markdown",
   "metadata": {},
   "source": [
    "Regra geral: $2^n * (e^{2x})$"
   ]
  },
  {
   "cell_type": "markdown",
   "metadata": {},
   "source": [
    "**4.** Escreva uma regra geral para determinar a derivada de ordem n de f(n)(x) para $f(x)=1/x$, em função de n."
   ]
  },
  {
   "cell_type": "code",
   "execution_count": 7,
   "metadata": {},
   "outputs": [
    {
     "name": "stdout",
     "output_type": "stream",
     "text": [
      "A derivada de 1a ordem da função é: -1/x**2\n",
      "A derivada de 2a ordem da função é: 2/x**3\n",
      "A derivada de 3a ordem da função é: -6/x**4\n",
      "A derivada de 4a ordem da função é: 24/x**5\n",
      "A derivada de 5a ordem da função é: -120/x**6\n",
      "A derivada de 6a ordem da função é: 720/x**7\n",
      "A derivada de 7a ordem da função é: -5040/x**8\n"
     ]
    }
   ],
   "source": [
    "derivadasTodasAsOrdens(1/x, 7)"
   ]
  },
  {
   "cell_type": "markdown",
   "metadata": {},
   "source": [
    "Regra geral: $\\frac{(-1)^n * n!}{x^{n+1}}$"
   ]
  },
  {
   "cell_type": "markdown",
   "metadata": {},
   "source": [
    "**5.** Por meio de gráficos, faça um estudo dos pontos em que as funções a seguir são crescentes ou decrescentes. Mostre, que, quando as funções são crescentes, a derivada é positiva, e quando a função é decrescente a derivada é negativa. Exemplifique as suas conclusões por meio de cálculos envolvendo as funções e suas derivadas."
   ]
  },
  {
   "cell_type": "code",
   "execution_count": 17,
   "metadata": {},
   "outputs": [],
   "source": [
    "import numpy as np\n",
    "import matplotlib.pyplot as plt"
   ]
  },
  {
   "cell_type": "markdown",
   "metadata": {},
   "source": [
    "**5.1.** $f(x)=x^4−10*x^2$"
   ]
  },
  {
   "cell_type": "code",
   "execution_count": 35,
   "metadata": {},
   "outputs": [],
   "source": [
    "def plotaFuncaoEDerivada(x1, x2, f):\n",
    "    X = np.linspace(x1, x2, 1000)\n",
    "    y = [f.evalf(subs={x: v}) for v in X]\n",
    "    diff_f = diff(f)\n",
    "    y_diff = [diff_f.evalf(subs={x: v}) for v in X]\n",
    "    plt.plot(X,y,label=\"f(x)\")\n",
    "    plt.plot(X, y_diff, label=\"f'(x)\")\n",
    "    plt.legend()\n",
    "    plt.grid()\n",
    "    plt.show()"
   ]
  },
  {
   "cell_type": "code",
   "execution_count": 41,
   "metadata": {},
   "outputs": [
    {
     "data": {
      "image/png": "[encoded data removed]",
      "text/plain": [
       "<Figure size 432x288 with 1 Axes>"
      ]
     },
     "metadata": {
      "needs_background": "light"
     },
     "output_type": "display_data"
    }
   ],
   "source": [
    "plotaFuncaoEDerivada(-4, 4, x**4 - 10*x**2)"
   ]
  },
  {
   "cell_type": "code",
   "execution_count": null,
   "metadata": {},
   "outputs": [],
   "source": []
  },
  {
   "cell_type": "markdown",
   "metadata": {},
   "source": [
    "**5.2.** $x^3 + 2$"
   ]
  },
  {
   "cell_type": "code",
   "execution_count": 40,
   "metadata": {},
   "outputs": [
    {
     "data": {
      "image/png": "[encoded data removed]",
      "text/plain": [
       "<Figure size 432x288 with 1 Axes>"
      ]
     },
     "metadata": {
      "needs_background": "light"
     },
     "output_type": "display_data"
    }
   ],
   "source": [
    "plotaFuncaoEDerivada(-4, 4, x**3 + 2)"
   ]
  },
  {
   "cell_type": "code",
   "execution_count": null,
   "metadata": {},
   "outputs": [],
   "source": []
  },
  {
   "cell_type": "markdown",
   "metadata": {},
   "source": [
    "**5.3** $x^3 - 2*x^2 - 5*x + 6$"
   ]
  },
  {
   "cell_type": "code",
   "execution_count": 39,
   "metadata": {},
   "outputs": [
    {
     "data": {
      "image/png": "[encoded data removed]",
      "text/plain": [
       "<Figure size 432x288 with 1 Axes>"
      ]
     },
     "metadata": {
      "needs_background": "light"
     },
     "output_type": "display_data"
    }
   ],
   "source": [
    "plotaFuncaoEDerivada(-4, 4, x**3 - 2*x**2 - 5*x + 6)"
   ]
  },
  {
   "cell_type": "code",
   "execution_count": null,
   "metadata": {},
   "outputs": [],
   "source": []
  },
  {
   "cell_type": "markdown",
   "metadata": {},
   "source": [
    "**5.4** $-4*x^3 + 3*x^2 + 18*x$"
   ]
  },
  {
   "cell_type": "code",
   "execution_count": 43,
   "metadata": {},
   "outputs": [
    {
     "data": {
      "image/png": "[encoded data removed]",
      "text/plain": [
       "<Figure size 432x288 with 1 Axes>"
      ]
     },
     "metadata": {
      "needs_background": "light"
     },
     "output_type": "display_data"
    }
   ],
   "source": [
    "plotaFuncaoEDerivada(-4, 4, -4*x**3 - 2*x**2 - 5*x + 6)"
   ]
  },
  {
   "cell_type": "code",
   "execution_count": null,
   "metadata": {},
   "outputs": [],
   "source": []
  },
  {
   "cell_type": "markdown",
   "metadata": {},
   "source": [
    "**5.5** $\\frac{x^3}{2} - 3*x^2 + 6*x$"
   ]
  },
  {
   "cell_type": "code",
   "execution_count": 45,
   "metadata": {},
   "outputs": [
    {
     "data": {
      "image/png": "[encoded data removed]",
      "text/plain": [
       "<Figure size 432x288 with 1 Axes>"
      ]
     },
     "metadata": {
      "needs_background": "light"
     },
     "output_type": "display_data"
    }
   ],
   "source": [
    "plotaFuncaoEDerivada(-4, 4, x**3/2 - 3*x**2 + 6*x)"
   ]
  },
  {
   "cell_type": "markdown",
   "metadata": {},
   "source": []
  },
  {
   "cell_type": "markdown",
   "metadata": {},
   "source": [
    "## Integrais"
   ]
  },
  {
   "cell_type": "markdown",
   "metadata": {},
   "source": [
    "Sabendo que a soma de Riemann é definida por: $$\\int\\nolimits_{a}^{b} f(x)\\ dx = \\lim_{n\\to \\infty} \\sum_{i = 1}^{n} f(x_{i}^{*})\\ \\Delta x$$"
   ]
  },
  {
   "cell_type": "code",
   "execution_count": 80,
   "metadata": {},
   "outputs": [],
   "source": [
    "from functools import reduce\n",
    "\n",
    "def somaDeRiemann(f, a, b, n):\n",
    "    deltaX = (b-a)/n\n",
    "    return reduce(lambda x, y: x + y, [f(a + m*deltaX) * deltaX for m in range(n + 1)])"
   ]
  },
  {
   "cell_type": "markdown",
   "metadata": {},
   "source": [
    "**1.** $\\int\\nolimits_{5}^{-5} x^3 dx$"
   ]
  },
  {
   "cell_type": "code",
   "execution_count": 82,
   "metadata": {},
   "outputs": [
    {
     "data": {
      "image/png": "[encoded data removed]",
      "text/latex": [
       "$\\displaystyle 1.1102230246251565e-14$"
      ],
      "text/plain": [
       "1.1102230246251565e-14"
      ]
     },
     "execution_count": 82,
     "metadata": {},
     "output_type": "execute_result"
    }
   ],
   "source": [
    "somaDeRiemann(lambda x: x**3, 5, -5, 1000)"
   ]
  },
  {
   "cell_type": "markdown",
   "metadata": {},
   "source": [
    "**2.** $\\int\\nolimits_{1}^{2} 2 - 2*x^3 dx$"
   ]
  },
  {
   "cell_type": "code",
   "execution_count": 83,
   "metadata": {},
   "outputs": [
    {
     "data": {
      "image/png": "[encoded data removed]",
      "text/latex": [
       "$\\displaystyle -5.507001499999996$"
      ],
      "text/plain": [
       "-5.507001499999996"
      ]
     },
     "execution_count": 83,
     "metadata": {},
     "output_type": "execute_result"
    }
   ],
   "source": [
    "somaDeRiemann(lambda x: 2 - 2*x**3, 1, 2, 1000)"
   ]
  },
  {
   "cell_type": "markdown",
   "metadata": {},
   "source": [
    "**3.** $\\int\\nolimits_{0}^{1} x^2 - 1 dx$"
   ]
  },
  {
   "cell_type": "code",
   "execution_count": 84,
   "metadata": {},
   "outputs": [
    {
     "data": {
      "image/png": "[encoded data removed]",
      "text/latex": [
       "$\\displaystyle -0.6671665000000007$"
      ],
      "text/plain": [
       "-0.6671665000000007"
      ]
     },
     "execution_count": 84,
     "metadata": {},
     "output_type": "execute_result"
    }
   ],
   "source": [
    "somaDeRiemann(lambda x: x**2 - 1, 0, 1, 1000)"
   ]
  },
  {
   "cell_type": "markdown",
   "metadata": {},
   "source": [
    "**4.** "
   ]
  },
  {
   "cell_type": "code",
   "execution_count": 79,
   "metadata": {},
   "outputs": [
    {
     "data": {
      "image/png": "[encoded data removed]",
      "text/plain": [
       "<Figure size 432x288 with 1 Axes>"
      ]
     },
     "metadata": {
      "needs_background": "light"
     },
     "output_type": "display_data"
    }
   ],
   "source": [
    "X = np.linspace(-4, 4)\n",
    "y = [x**2 for x in X]\n",
    "\n",
    "lista1 = [-4, -3, -2, -1, 0, 1, 2, 3, 4]\n",
    "lista2 = [-4, -3.5, -3, -2.5, -2, -1.5, -1, -0.5, 0, 0.5, 1, 1.5, 2, 2.5, 3, 3.5, 4]\n",
    "lista3 = np.linspace(-4,4,100)\n",
    "\n",
    "def plotar(lista1):\n",
    "    for i, v in enumerate(lista1[:-1]):\n",
    "        plt.vlines(v, 0, v**2)\n",
    "        plt.hlines(v**2, v, lista1[i+1])\n",
    "        plt.vlines(lista1[i+1], 0, v**2)\n",
    "    plt.plot(X, y)\n",
    "    \n",
    "plotar(lista3)"
   ]
  },
  {
   "cell_type": "markdown",
   "metadata": {},
   "source": [
    "$$ \\int\\nolimits_{a}^{c} f(x)\\, dx + \\int\\nolimits_{c}^{b} f(x)\\, dx = \\int\\nolimits_{a}^{b} f(x)\\, dx $$\n",
    "$$\\int\\nolimits_{a}^{b} f(x)\\, dx = - \\int\\nolimits_{b}^{a} f(x)\\, dx $$"
   ]
  },
  {
   "cell_type": "code",
   "execution_count": null,
   "metadata": {},
   "outputs": [],
   "source": []
  }
 ],
 "metadata": {
  "kernelspec": {
   "display_name": "Python 3",
   "language": "python",
   "name": "python3"
  },
  "language_info": {
   "codemirror_mode": {
    "name": "ipython",
    "version": 3
   },
   "file_extension": ".py",
   "mimetype": "text/x-python",
   "name": "python",
   "nbconvert_exporter": "python",
   "pygments_lexer": "ipython3",
   "version": "3.7.4"
  }
 },
 "nbformat": 4,
 "nbformat_minor": 4
}
